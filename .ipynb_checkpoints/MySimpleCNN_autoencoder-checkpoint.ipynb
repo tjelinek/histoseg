{
 "cells": [
  {
   "cell_type": "code",
   "execution_count": 2,
   "metadata": {},
   "outputs": [
    {
     "name": "stdout",
     "output_type": "stream",
     "text": [
      "/home/tomas/recetox\n"
     ]
    }
   ],
   "source": [
    "import os\n",
    "from abc import ABC\n",
    "from cfg import *\n",
    "\n",
    "import numpy as np\n",
    "from PIL import Image\n",
    "from livelossplot import PlotLossesKerasTF\n",
    "\n",
    "from tensorflow.keras import Input, Model\n",
    "from tensorflow.keras.optimizers import Adam, schedules\n",
    "from tensorflow.keras.callbacks import ReduceLROnPlateau\n",
    "from tensorflow.keras.layers import Conv2DTranspose, Dense, Conv2D, MaxPooling2D, BatchNormalization, Flatten\n",
    "from tensorflow.keras.preprocessing.image import ImageDataGenerator\n",
    "from tensorflow.keras.models import load_model\n",
    "\n",
    "from img_processing.preprocessor import Preprocessor\n",
    "from ml.pipeline import ModelPipeline\n",
    "\n",
    "from sklearn.cluster import KMeans\n",
    "from sklearn.metrics import classification_report, confusion_matrix\n",
    "\n",
    "print(os.getcwd())\n",
    "os.chdir('/home/tomas/recetox/')\n",
    "\n",
    "train_data_dir = 'data/all_in_one'"
   ]
  },
  {
   "cell_type": "code",
   "execution_count": 2,
   "metadata": {
    "pycharm": {
     "name": "#%%\n"
    }
   },
   "outputs": [
    {
     "name": "stdout",
     "output_type": "stream",
     "text": [
      "Found 3000 images belonging to 6 classes.\n"
     ]
    }
   ],
   "source": [
    "datagen = ImageDataGenerator()\n",
    "x_test = datagen.flow_from_directory('data/data_tiles_train',\n",
    "                                     color_mode=\"rgb\",\n",
    "                                     class_mode=\"input\",\n",
    "                                     batch_size=8,\n",
    "                                     target_size=(64, 64),\n",
    "                                     shuffle=False,\n",
    "                                     classes=['01_TUMOR', '02_STROMA',\n",
    "                                              '03_COMPLEX', '04_LYMPHO',\n",
    "                                              '05_DEBRIS', '06_MUCOSA'])"
   ]
  },
  {
   "cell_type": "code",
   "execution_count": 6,
   "metadata": {
    "pycharm": {
     "name": "#%%\n"
    }
   },
   "outputs": [
    {
     "name": "stdout",
     "output_type": "stream",
     "text": [
      "Model: \"MySimpleAutoencoder\"\n",
      "_________________________________________________________________\n",
      "Layer (type)                 Output Shape              Param #   \n",
      "=================================================================\n",
      "input_2 (InputLayer)         [(None, 64, 64, 3)]       0         \n",
      "_________________________________________________________________\n",
      "conv2d_8 (Conv2D)            (None, 64, 64, 32)        2432      \n",
      "_________________________________________________________________\n",
      "max_pooling2d_8 (MaxPooling2 (None, 32, 32, 32)        0         \n",
      "_________________________________________________________________\n",
      "conv2d_9 (Conv2D)            (None, 32, 32, 64)        51264     \n",
      "_________________________________________________________________\n",
      "max_pooling2d_9 (MaxPooling2 (None, 16, 16, 64)        0         \n",
      "_________________________________________________________________\n",
      "batch_normalization_7 (Batch (None, 16, 16, 64)        256       \n",
      "_________________________________________________________________\n",
      "conv2d_10 (Conv2D)           (None, 16, 16, 64)        102464    \n",
      "_________________________________________________________________\n",
      "max_pooling2d_10 (MaxPooling (None, 8, 8, 64)          0         \n",
      "_________________________________________________________________\n",
      "batch_normalization_8 (Batch (None, 8, 8, 64)          256       \n",
      "_________________________________________________________________\n",
      "conv2d_11 (Conv2D)           (None, 8, 8, 64)          102464    \n",
      "_________________________________________________________________\n",
      "max_pooling2d_11 (MaxPooling (None, 4, 4, 64)          0         \n",
      "_________________________________________________________________\n",
      "batch_normalization_9 (Batch (None, 4, 4, 64)          256       \n",
      "_________________________________________________________________\n",
      "conv2d_12 (Conv2D)           (None, 4, 4, 64)          102464    \n",
      "_________________________________________________________________\n",
      "max_pooling2d_12 (MaxPooling (None, 2, 2, 64)          0         \n",
      "_________________________________________________________________\n",
      "batch_normalization_10 (Batc (None, 2, 2, 64)          256       \n",
      "=================================================================\n",
      "Total params: 362,112\n",
      "Trainable params: 361,600\n",
      "Non-trainable params: 512\n",
      "_________________________________________________________________\n",
      "Model: \"model\"\n",
      "_________________________________________________________________\n",
      "Layer (type)                 Output Shape              Param #   \n",
      "=================================================================\n",
      "input_3 (InputLayer)         [(None, 64, 64, 3)]       0         \n",
      "_________________________________________________________________\n",
      "MySimpleAutoencoder (Model)  (None, 2, 2, 64)          362112    \n",
      "_________________________________________________________________\n",
      "block5_deconv3 (Conv2DTransp (None, 4, 4, 512)         295424    \n",
      "_________________________________________________________________\n",
      "block5_deconv1 (Conv2DTransp (None, 4, 4, 512)         2359808   \n",
      "_________________________________________________________________\n",
      "block4_deconv2 (Conv2DTransp (None, 8, 8, 256)         1179904   \n",
      "_________________________________________________________________\n",
      "block3_deconv2 (Conv2DTransp (None, 16, 16, 128)       295040    \n",
      "_________________________________________________________________\n",
      "block2_deconv2 (Conv2DTransp (None, 32, 32, 64)        73792     \n",
      "_________________________________________________________________\n",
      "block1_deconv2 (Conv2DTransp (None, 64, 64, 3)         1731      \n",
      "_________________________________________________________________\n",
      "block1_deconv1 (Conv2DTransp (None, 64, 64, 3)         84        \n",
      "=================================================================\n",
      "Total params: 4,567,895\n",
      "Trainable params: 4,205,783\n",
      "Non-trainable params: 362,112\n",
      "_________________________________________________________________\n"
     ]
    },
    {
     "ename": "NameError",
     "evalue": "name 'x_test' is not defined",
     "output_type": "error",
     "traceback": [
      "\u001b[0;31m---------------------------------------------------------------------------\u001b[0m",
      "\u001b[0;31mNameError\u001b[0m                                 Traceback (most recent call last)",
      "\u001b[0;32m<ipython-input-6-62d624f04753>\u001b[0m in \u001b[0;36m<module>\u001b[0;34m\u001b[0m\n\u001b[1;32m     76\u001b[0m \u001b[0mautoencoder\u001b[0m\u001b[0;34m.\u001b[0m\u001b[0mcompile\u001b[0m\u001b[0;34m(\u001b[0m\u001b[0moptimizer\u001b[0m\u001b[0;34m=\u001b[0m\u001b[0;34m'rmsprop'\u001b[0m\u001b[0;34m,\u001b[0m \u001b[0mloss\u001b[0m\u001b[0;34m=\u001b[0m\u001b[0;34m'mean_squared_error'\u001b[0m\u001b[0;34m)\u001b[0m\u001b[0;34m\u001b[0m\u001b[0;34m\u001b[0m\u001b[0m\n\u001b[1;32m     77\u001b[0m \u001b[0;34m\u001b[0m\u001b[0m\n\u001b[0;32m---> 78\u001b[0;31m \u001b[0mautoencoder\u001b[0m\u001b[0;34m.\u001b[0m\u001b[0mfit\u001b[0m\u001b[0;34m(\u001b[0m\u001b[0mx_test\u001b[0m\u001b[0;34m,\u001b[0m \u001b[0mepochs\u001b[0m\u001b[0;34m=\u001b[0m\u001b[0;36m300\u001b[0m\u001b[0;34m,\u001b[0m \u001b[0mverbose\u001b[0m\u001b[0;34m=\u001b[0m\u001b[0;36m2\u001b[0m\u001b[0;34m)\u001b[0m\u001b[0;34m\u001b[0m\u001b[0;34m\u001b[0m\u001b[0m\n\u001b[0m",
      "\u001b[0;31mNameError\u001b[0m: name 'x_test' is not defined"
     ]
    }
   ],
   "source": [
    "inputs = Input(shape=(64, 64, 3))\n",
    "\n",
    "x = Conv2D(filters=32, kernel_size=5, strides=(1, 1), padding='same')(inputs)\n",
    "x = MaxPooling2D()(x)\n",
    "for i in range(4):\n",
    "    #x = Dropout(rate=0.2)(x)\n",
    "    x = Conv2D(filters=64 * (2 ** (i // 4)), kernel_size=5, strides=(1, 1), padding='same')(x)\n",
    "    x = MaxPooling2D(padding='same', pool_size=(2, 2))(x)\n",
    "    x = BatchNormalization(axis=3, epsilon=1.001e-5)(x)\n",
    "\n",
    "base_model = Model(inputs, x, name='MySimpleAutoencoder')\n",
    "\n",
    "\n",
    "base_model.summary()\n",
    "\n",
    "base_model.trainable = False\n",
    "\n",
    "inputs = Input(shape=(64, 64, 3))\n",
    "\n",
    "encoder = base_model(inputs, training=False)\n",
    "\n",
    "#x = UpSampling2D(size=(2, 2), data_format=None, interpolation=\"bilinear\",\n",
    "#                 name='block5_unpool')(encoder)\n",
    "\n",
    "x = Conv2DTranspose(512, (3, 3), strides=2,\n",
    "                    activation='relu',\n",
    "                    padding='same',\n",
    "                    name='block5_deconv3')(encoder)\n",
    "\n",
    "x = Conv2DTranspose(512, (3, 3),\n",
    "                    activation='relu',\n",
    "                    padding='same',\n",
    "                    name='block5_deconv1')(x)\n",
    "\n",
    "#x = UpSampling2D(size=(2, 2), data_format=None, interpolation=\"bilinear\",\n",
    "#                 name='block4_unpool')(x)\n",
    "\n",
    "x = Conv2DTranspose(256, (3, 3), strides = 2,\n",
    "                    activation='relu',\n",
    "                    padding='same',\n",
    "                    name='block4_deconv2')(x)\n",
    "\n",
    "#x = UpSampling2D(size=(2, 2), data_format=None, interpolation=\"bilinear\",\n",
    "#                 name='block3_unpool')(x)\n",
    "\n",
    "x = Conv2DTranspose(128, (3, 3), strides = 2,\n",
    "                    activation='relu',\n",
    "                    padding='same',\n",
    "                    name='block3_deconv2')(x)\n",
    "\n",
    "#x = UpSampling2D(size=(2, 2), data_format=None, interpolation=\"bilinear\",\n",
    "#                 name='block2_unpool')(x)\n",
    "\n",
    "x = Conv2DTranspose(64, (3, 3), strides = 2,\n",
    "                    activation='relu',\n",
    "                    padding='same',\n",
    "                    name='block2_deconv2')(x)\n",
    "\n",
    "#x = UpSampling2D(size=(2, 2), data_format=None, interpolation=\"bilinear\",\n",
    "#                 name='block1_unpool')(x)\n",
    "\n",
    "x = Conv2DTranspose(3, (3, 3), strides=2,\n",
    "                    activation='relu',\n",
    "                    padding='same',\n",
    "                    name='block1_deconv2')(x)\n",
    "\n",
    "x = Conv2DTranspose(3, (3, 3),\n",
    "                    activation='relu',\n",
    "                    padding='same',\n",
    "                    name='block1_deconv1')(x)\n",
    "\n",
    "# x = Reshape((256,256,3))(x)\n",
    "\n",
    "autoencoder = Model(inputs, x)\n",
    "autoencoder.summary()\n",
    "autoencoder.compile(optimizer='rmsprop', loss='mean_squared_error')\n",
    "\n",
    "autoencoder.fit(x_test, epochs=300, verbose=2)"
   ]
  },
  {
   "cell_type": "code",
   "execution_count": 8,
   "metadata": {
    "pycharm": {
     "name": "#%%\n"
    }
   },
   "outputs": [],
   "source": [
    "base_model.save('saved-models/encoder.h5')\n",
    "\n",
    "decoded_imgs = autoencoder.predict(x_test)"
   ]
  },
  {
   "cell_type": "code",
   "execution_count": 9,
   "metadata": {
    "pycharm": {
     "name": "#%%\n"
    }
   },
   "outputs": [
    {
     "name": "stdout",
     "output_type": "stream",
     "text": [
      "WARNING:tensorflow:No training configuration found in save file: the model was *not* compiled. Compile it manually.\n"
     ]
    }
   ],
   "source": [
    "\n",
    "base_model = load_model('saved-models/encoder.h5')\n",
    "\n",
    "for i in range(len(x_test.filenames)):\n",
    "    img_pil = Image.fromarray(decoded_imgs[i].astype('uint8'))\n",
    "    img_pil.save(Path('ae_out/') / Path(base_model.name) / Path(x_test.filenames[i]).name)\n",
    "    #img_pil.show()"
   ]
  },
  {
   "cell_type": "code",
   "execution_count": 10,
   "metadata": {
    "pycharm": {
     "name": "#%%\n"
    }
   },
   "outputs": [],
   "source": [
    "encoded_vector = base_model.predict(x_test)"
   ]
  },
  {
   "cell_type": "code",
   "execution_count": 11,
   "metadata": {
    "pycharm": {
     "name": "#%%\n"
    }
   },
   "outputs": [
    {
     "data": {
      "text/plain": [
       "array([2, 2, 2, ..., 5, 5, 3], dtype=int32)"
      ]
     },
     "execution_count": 11,
     "metadata": {},
     "output_type": "execute_result"
    }
   ],
   "source": [
    "encoded_vector_f = encoded_vector.reshape(encoded_vector.shape[:-3] + (-1,))\n",
    "\n",
    "kmeans = KMeans(n_clusters=6, random_state=0).fit(encoded_vector_f)\n",
    "\n",
    "kmeans.labels_"
   ]
  },
  {
   "cell_type": "code",
   "execution_count": 12,
   "metadata": {
    "pycharm": {
     "name": "#%%\n"
    }
   },
   "outputs": [
    {
     "name": "stdout",
     "output_type": "stream",
     "text": [
      "Confusion Matrix\n",
      "[[  9   4 317 129   3  38]\n",
      " [189 200  10   5  38  58]\n",
      " [ 30 202  28 131  13  96]\n",
      " [  5   2 187 267   0  39]\n",
      " [165 101   0   4 193  37]\n",
      " [ 41   3  20 188  18 230]]\n",
      "Classification Report\n",
      "              precision    recall  f1-score   support\n",
      "\n",
      "    01_TUMOR       0.02      0.02      0.02       500\n",
      "   02_STROMA       0.39      0.40      0.40       500\n",
      "  03_COMPLEX       0.05      0.06      0.05       500\n",
      "   04_LYMPHO       0.37      0.53      0.44       500\n",
      "   05_DEBRIS       0.73      0.39      0.50       500\n",
      "   06_MUCOSA       0.46      0.46      0.46       500\n",
      "\n",
      "    accuracy                           0.31      3000\n",
      "   macro avg       0.34      0.31      0.31      3000\n",
      "weighted avg       0.34      0.31      0.31      3000\n",
      "\n"
     ]
    }
   ],
   "source": [
    "print('Confusion Matrix')\n",
    "print(confusion_matrix(x_test.classes, kmeans.labels_))\n",
    "print('Classification Report')\n",
    "print(classification_report(x_test.classes, kmeans.labels_, target_names=TARGETS[0:6], zero_division=1))"
   ]
  },
  {
   "cell_type": "markdown",
   "metadata": {},
   "source": [
    "Here comes the CNN with ae input"
   ]
  },
  {
   "cell_type": "code",
   "execution_count": 3,
   "metadata": {
    "pycharm": {
     "name": "#%%\n"
    }
   },
   "outputs": [],
   "source": [
    "model_name = 'MySimpleCNN_ae_preproc'"
   ]
  },
  {
   "cell_type": "code",
   "execution_count": 4,
   "metadata": {
    "pycharm": {
     "name": "#%%\n"
    }
   },
   "outputs": [],
   "source": [
    "autoencoder = load_model('saved-models/encoder')\n",
    "class AE_Smoothening(Preprocessor):\n",
    "\n",
    "    def preprocess_image(cls, img):\n",
    "        img = autoencoder.predict(np.array([img]))\n",
    "        return img"
   ]
  },
  {
   "cell_type": "code",
   "execution_count": 5,
   "metadata": {
    "pycharm": {
     "name": "#%%\n"
    }
   },
   "outputs": [],
   "source": [
    "class MySimpleCNN(ModelPipeline):\n",
    "\n",
    "    def __init__(cls, *args, **kwargs):\n",
    "        super().__init__(*args, **kwargs)\n",
    "        cls.model = cls.get_compiled_model()\n",
    "        cls.set_name(model_name)\n",
    "        cls.set_num_of_training_epochs(50)\n",
    "        cls.set_batch_size(16)\n",
    "        cls.set_image_normalization_method( AE_Smoothening())\n",
    "\n",
    "        cls.optimizer = Adam(\n",
    "            learning_rate=0.1,\n",
    "            beta_1=0.99,\n",
    "            beta_2=0.9999)\n",
    "\n",
    "    @staticmethod\n",
    "    def get_compiled_model():\n",
    "        inputs = Input(shape=(32, 32, 3))\n",
    "\n",
    "        x = Conv2D(filters=32, kernel_size=5, strides=(1, 1), padding='same')(inputs)\n",
    "        x = MaxPooling2D()(x)\n",
    "        for i in range(7):\n",
    "            x = Conv2D(filters=64 * (2 ** (i // 4)), kernel_size=5, strides=(1, 1), padding='same')(x)\n",
    "            x = MaxPooling2D(padding='same', pool_size=(2, 2))(x)\n",
    "            x = BatchNormalization(axis=3, epsilon=1.001e-5)(x)\n",
    "\n",
    "        x = Flatten()(x)\n",
    "        outputs = Dense(units=CLASSES, activation='softmax')(x)\n",
    "\n",
    "        model = Model(inputs, outputs, name='MySimpleAutoencoder')\n",
    "        model.summary()\n",
    "        return model\n",
    "\n",
    "    def _train_model(cls, data_train, data_valid):\n",
    "\n",
    "        reduce_lr = ReduceLROnPlateau(monitor='val_loss', factor=0.1,\n",
    "                                      patience=30, min_lr=1e-4, verbose=2,\n",
    "                                      cooldown=20)\n",
    "\n",
    "        cls.model.fit(data_train,\n",
    "                       steps_per_epoch=TRAINING_EXAMPLES_COUNT * 10 // cls.get_batch_size(),\n",
    "                       epochs=cls.get_num_of_training_epochs(),\n",
    "                       shuffle=True,\n",
    "                       validation_data=data_valid,\n",
    "                       validation_freq=1,\n",
    "                       verbose=1,\n",
    "                       callbacks=[cls.tensorboard, reduce_lr, PlotLossesKerasTF()])"
   ]
  },
  {
   "cell_type": "code",
   "execution_count": null,
   "metadata": {
    "pycharm": {
     "name": "#%%\n"
    }
   },
   "outputs": [
    {
     "data": {
      "image/png": "[encoded data removed]",
      "text/plain": [
       "<Figure size 864x864 with 4 Axes>"
      ]
     },
     "metadata": {
      "needs_background": "light"
     },
     "output_type": "display_data"
    },
    {
     "name": "stdout",
     "output_type": "stream",
     "text": [
      "categorical_accuracy\n",
      "\ttraining         \t (min:    0.672, max:    0.950, cur:    0.950)\n",
      "\tvalidation       \t (min:    0.619, max:    0.883, cur:    0.860)\n",
      "Loss\n",
      "\ttraining         \t (min:    0.145, max:    0.827, cur:    0.145)\n",
      "\tvalidation       \t (min:    0.377, max:    1.222, cur:    0.544)\n",
      "lr\n",
      "\tlr               \t (min:    0.010, max:    0.010, cur:    0.010)\n",
      "2500/2500 [==============================] - 66s 27ms/step - loss: 0.1447 - categorical_accuracy: 0.9503 - val_loss: 0.5439 - val_categorical_accuracy: 0.8600\n",
      "Epoch 18/50\n",
      "1671/2500 [===================>..........] - ETA: 22s - loss: 0.1235 - categorical_accuracy: 0.9580"
     ]
    }
   ],
   "source": [
    "pipeline = MySimpleCNN(train_data_dir='data/data_tiles_train_augmented',\n",
    "                        valid_data_dir='data/data_tiles_valid')\n",
    "\n",
    "pipeline.execute_pipeline(perform_validation=True, perform_test_segmentation=False)"
   ]
  },
  {
   "cell_type": "code",
   "execution_count": null,
   "metadata": {
    "pycharm": {
     "is_executing": true,
     "name": "#%%\n"
    }
   },
   "outputs": [],
   "source": [
    "pipeline.save_pipeline()"
   ]
  },
  {
   "cell_type": "code",
   "execution_count": null,
   "metadata": {
    "pycharm": {
     "is_executing": true,
     "name": "#%%\n"
    }
   },
   "outputs": [],
   "source": [
    "pipeline = ModelPipeline.load_pipeline(pipeline_name=model_name)\n",
    "pipeline.perform_segmentation()\n",
    "\n",
    "#'data/Kather_texture_2016_larger_images_10/CRC-Prim-HE-06_APPLICATION.tif'\n"
   ]
  },
  {
   "cell_type": "code",
   "execution_count": null,
   "metadata": {},
   "outputs": [],
   "source": []
  }
 ],
 "metadata": {
  "kernelspec": {
   "display_name": "PyCharm (recetox)",
   "language": "python",
   "name": "pycharm-3d6d50a5"
  },
  "language_info": {
   "codemirror_mode": {
    "name": "ipython",
    "version": 3
   },
   "file_extension": ".py",
   "mimetype": "text/x-python",
   "name": "python",
   "nbconvert_exporter": "python",
   "pygments_lexer": "ipython3",
   "version": "3.6.10"
  }
 },
 "nbformat": 4,
 "nbformat_minor": 1
}
