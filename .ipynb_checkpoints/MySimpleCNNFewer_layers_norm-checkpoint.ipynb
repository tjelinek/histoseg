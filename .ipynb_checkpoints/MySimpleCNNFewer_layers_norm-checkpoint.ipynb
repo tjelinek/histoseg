{
 "cells": [
  {
   "cell_type": "code",
   "execution_count": null,
   "metadata": {
    "collapsed": true
   },
   "outputs": [],
   "source": [
    "import os\n",
    "print(os.getcwd())\n",
    "os.chdir('/home/tomas/recetox/')"
   ]
  },
  {
   "cell_type": "code",
   "execution_count": null,
   "metadata": {
    "pycharm": {
     "name": "#%%\n"
    }
   },
   "outputs": [],
   "source": [
    "from ml.pipeline import ModelPipeline\n",
    "\n",
    "from tensorflow import keras\n",
    "\n",
    "from tensorflow.keras.optimizers import Adam\n",
    "from tensorflow.keras.optimizers import schedules\n",
    "\n",
    "from tensorflow.keras.callbacks import ReduceLROnPlateau\n",
    "\n",
    "from cfg import *\n",
    "\n",
    "from livelossplot import PlotLossesKerasTF\n",
    "\n",
    "class MySimpleCNN(ModelPipeline):\n",
    "\n",
    "    def __init__(cls, *args, **kwargs):\n",
    "        super().__init__(*args, **kwargs)\n",
    "\n",
    "        cls.model = cls.get_compiled_model()\n",
    "        cls.set_name(\"MySimpleCNN_non_norm_data\")\n",
    "        cls.set_num_of_training_epochs(40)\n",
    "        cls.set_batch_size(16)\n",
    "        cls.set_normalize_colors(True)\n",
    "\n",
    "        lr_schedule = schedules.ExponentialDecay(\n",
    "            initial_learning_rate=1e-2,\n",
    "            decay_steps=TRAINING_EXAMPLES_COUNT // cls.get_batch_size() * 30,\n",
    "            decay_rate=0.1,\n",
    "            staircase=True)\n",
    "\n",
    "        cls.optimizer = Adam(\n",
    "            # learning_rate=0.1,\n",
    "            learning_rate=lr_schedule,\n",
    "            beta_1=0.99,\n",
    "            beta_2=0.9999)\n",
    "\n",
    "    @staticmethod\n",
    "    def get_compiled_model():\n",
    "        inputs = keras.Input(shape=(150, 150, 3))\n",
    "\n",
    "        x = keras.layers.Conv2D(filters=32, kernel_size=5, strides=(1, 1), padding='same')(inputs)\n",
    "        x = keras.layers.MaxPooling2D()(x)\n",
    "        for i in range(7):\n",
    "            #x = keras.layers.Dropout(rate=0.2)(x)\n",
    "            x = keras.layers.Conv2D(filters=64 * (2 ** (i // 4)), kernel_size=5, strides=(1, 1), padding='same')(x)\n",
    "            x = keras.layers.MaxPooling2D(padding='same', pool_size=(2, 2))(x)\n",
    "            x = keras.layers.BatchNormalization(axis=3, epsilon=1.001e-5)(x)\n",
    "\n",
    "        x = keras.layers.Flatten()(x)\n",
    "        outputs = keras.layers.Dense(units=CLASSES, activation='softmax')(x)\n",
    "\n",
    "        model = keras.Model(inputs, outputs, name='MySimpleCnn')\n",
    "        model.summary()\n",
    "        return model\n",
    "\n",
    "    def _train_model(cls, data_train, data_valid):\n",
    "\n",
    "        reduce_lr = ReduceLROnPlateau(monitor='val_loss', factor=0.1,\n",
    "                                      patience=30, min_lr=1e-4, verbose=1,\n",
    "                                      cooldown=20)\n",
    "\n",
    "        cls.model.fit(data_train,\n",
    "                       steps_per_epoch=TRAINING_EXAMPLES_COUNT // cls.get_batch_size(),\n",
    "                       epochs=cls.get_num_of_training_epochs(),\n",
    "                       shuffle=True,\n",
    "                       validation_data=data_valid,\n",
    "                       validation_freq=1,\n",
    "                       verbose=1,\n",
    "                       callbacks=[cls.tensorboard, reduce_lr, PlotLossesKerasTF()])"
   ]
  },
  {
   "cell_type": "code",
   "execution_count": null,
   "metadata": {
    "pycharm": {
     "name": "#%%\n"
    }
   },
   "outputs": [],
   "source": [
    "from data_loader.data_loader import DataLoader\n",
    "\n",
    "data_loader = DataLoader(train_data_dir='data/data_tiles_train_preprocessed/',\n",
    "                         valid_data_dir='data/data_tiles_valid_preprocessed/')\n",
    "\n",
    "pipeline = MySimpleCNN(data_loader)\n",
    "\n",
    "pipeline.execute_pipeline(perform_validation=True, perform_test_segmentation=False)"
   ]
  },
  {
   "cell_type": "code",
   "execution_count": null,
   "metadata": {
    "pycharm": {
     "name": "#%%\n"
    }
   },
   "outputs": [],
   "source": [
    "pipeline.save_pipeline()"
   ]
  },
  {
   "cell_type": "code",
   "execution_count": null,
   "metadata": {
    "pycharm": {
     "name": "#%%\n"
    }
   },
   "outputs": [],
   "source": [
    "pipeline.perform_segmentation()\n",
    "\n"
   ]
  }
 ],
 "metadata": {
  "kernelspec": {
   "display_name": "PyCharm (recetox)",
   "language": "python",
   "name": "pycharm-3d6d50a5"
  },
  "language_info": {
   "codemirror_mode": {
    "name": "ipython",
    "version": 3
   },
   "file_extension": ".py",
   "mimetype": "text/x-python",
   "name": "python",
   "nbconvert_exporter": "python",
   "pygments_lexer": "ipython3",
   "version": "3.6.10"
  }
 },
 "nbformat": 4,
 "nbformat_minor": 1
}
