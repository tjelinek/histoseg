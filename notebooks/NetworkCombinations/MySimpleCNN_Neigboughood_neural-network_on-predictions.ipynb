{
 "cells": [
  {
   "cell_type": "code",
   "execution_count": 7,
   "outputs": [
    {
     "name": "stdout",
     "output_type": "stream",
     "text": [
      "/home/jelinek/recetox\n"
     ]
    }
   ],
   "source": [
    "from ml.models.layers import MyTransformerBlock, MyAddPositionEmbs, MyClassToken\n",
    "import os\n",
    "import datetime\n",
    "from pathlib import Path\n",
    "from tensorflow.keras.models import load_model\n",
    "\n",
    "os.environ['TF_CPP_MIN_LOG_LEVEL'] = '3'\n",
    "\n",
    "from keras.callbacks import TensorBoard\n",
    "from livelossplot import PlotLossesKerasTF\n",
    "from tensorflow.keras.optimizers import schedules\n",
    "from tensorflow.keras.optimizers import Adam\n",
    "\n",
    "from cfg import LOG_DIR\n",
    "\n",
    "print(os.getcwd())\n",
    "os.chdir('/home/jelinek/recetox/')\n",
    "\n",
    "from ml.pipeline import FeitDataPipelineEncoderDecoder\n",
    "import tensorflow\n",
    "from tensorflow import keras\n",
    "\n",
    "tensorflow.compat.v1.disable_eager_execution()\n",
    "\n",
    "\n",
    "name = 'MySimpleCNN_Autoencoder_neighb'\n",
    "\n",
    "class MyAutoencoder(FeitDataPipelineEncoderDecoder):\n",
    "\n",
    "    def _train_model(self, data_train, data_valid):\n",
    "        raise NotImplementedError(\"This method is intentionally not implemented in this instance\")\n",
    "\n",
    "    def __init__(self, *args, **kwargs):\n",
    "\n",
    "        self.params.tile_size=256\n",
    "        super().__init__(*args, **kwargs)\n",
    "\n",
    "        self.params.latent_representation_size = 11\n",
    "        self.params.tile_size=256\n",
    "        self.params.name = name\n",
    "        self.params.epochs = 200\n",
    "        self.batch_size = 16\n",
    "        self.model = MyAutoencoder.get_model(self.params.latent_representation_size)\n",
    "        self.params.neighborhood_tiles = 1\n",
    "\n",
    "\n",
    "    def get_optimizer(self):\n",
    "        lr_schedule = schedules.ExponentialDecay(\n",
    "            initial_learning_rate=1e-2,\n",
    "            decay_steps=100,\n",
    "            decay_rate=0.1,\n",
    "            staircase= True)\n",
    "\n",
    "        return Adam(\n",
    "            # learning_rate=0.1,\n",
    "            learning_rate=lr_schedule,\n",
    "            beta_1=0.99,\n",
    "            beta_2=0.9999)\n",
    "\n",
    "    @staticmethod\n",
    "    def get_encoder(encoder_vector_length: int):\n",
    "        pass\n",
    "\n",
    "    @staticmethod\n",
    "    def get_decoder(encoder_vector_length: int):\n",
    "        pass\n",
    "\n",
    "\n",
    "    @staticmethod\n",
    "    def get_model(encoder_vector_length: int):\n",
    "        return load_model('/home/jelinek/recetox/saved-models/' + \"MySimpleCnn_Feit-reduced-rgb-no-inception\" + '.h5')\n",
    "\n",
    "    def get_combinator_model(self):\n",
    "\n",
    "        inputs = [keras.Input(shape=(self.params.latent_representation_size, )) for i in range((self.params.neighborhood_tiles * 2 + 1) ** 2)]\n",
    "\n",
    "        reshaped = [keras.layers.Reshape((1, self.params.latent_representation_size))(_input) for _input in inputs]\n",
    "        x = keras.layers.Concatenate(axis=1)(reshaped)\n",
    "        x = keras.layers.Flatten()(x)\n",
    "\n",
    "        # x = MyClassToken(name=\"class_token\")(x)\n",
    "        # x = MyAddPositionEmbs(name=\"Transformer/posembed_input\")(x)\n",
    "        #\n",
    "        # x, _ = MyTransformerBlock(num_heads=1, mlp_dim=self.params.latent_representation_size, dropout=0.1)(x)\n",
    "        # x, _ = MyTransformerBlock(num_heads=1, mlp_dim=self.params.latent_representation_size, dropout=0.1)(x)\n",
    "        #\n",
    "        # x, _ = MyTransformerBlock(num_heads=1, mlp_dim=self.params.latent_representation_size, dropout=0.1)(x)\n",
    "        # x, _ = MyTransformerBlock(num_heads=1, mlp_dim=self.params.latent_representation_size, dropout=0.1)(x)\n",
    "        #\n",
    "        # x = keras.layers.LayerNormalization(epsilon=1e-6, name=\"Transformer/encoder_norm\")(x)\n",
    "        # x = keras.layers.Lambda(lambda v: v[:, 0], name=\"ExtractToken\")(x)\n",
    "        # x = keras.layers.Dense(512, name=\"pre_logits\", activation=\"tanh\")(x)\n",
    "\n",
    "        # x = keras.layers.Dense(units=12, activation='sigmoid')(x)\n",
    "\n",
    "        output = keras.layers.Dense(units = 11, activation = 'softmax')(x)\n",
    "\n",
    "        neighborhood_model = keras.Model(inputs=inputs, outputs=output)\n",
    "        return neighborhood_model\n",
    "\n",
    "    def _train_model_ae_neighborhood(self, data_train_autoencoder, data_valid_autoencoder,\n",
    "                                            data_train_classifier, data_valid_classifier,\n",
    "                                           data_train_neighborhood, data_valid_neighborhood):\n",
    "\n",
    "        autoencoder = MyAutoencoder.get_model(encoder_vector_length=self.params.latent_representation_size)\n",
    "\n",
    "        inputs = autoencoder.input\n",
    "        outputs = autoencoder.layers[-1].output\n",
    "\n",
    "        encoder_model = keras.Model(inputs, outputs, name=(self.params.name + '_encoder'))\n",
    "\n",
    "        self.model_encoder = encoder_model\n",
    "\n",
    "        neighborhood_networks = [MyAutoencoder._get_basic_layers(keras.models.clone_model(encoder_model), model_idx)\n",
    "                                 for model_idx in range((self.params.neighborhood_tiles * 2 + 1) ** 2)]\n",
    "\n",
    "\n",
    "        encoders_outputs = [model[1] for model in neighborhood_networks]\n",
    "\n",
    "        ## Here starts the Vision Transformer part of the model\n",
    "\n",
    "        encoders_inputs = [model[0] for model in neighborhood_networks]\n",
    "\n",
    "        tensorboard = TensorBoard(log_dir=LOG_DIR + datetime.datetime.now().strftime(\"%Y%m%d-%H%M%S\"))\n",
    "\n",
    "        neighbourhood_model = self.get_combinator_model()\n",
    "\n",
    "        output = neighbourhood_model(encoders_outputs)\n",
    "\n",
    "        neighborhood_autoencoder_model = keras.Model(inputs=encoders_inputs, outputs=output)\n",
    "\n",
    "        neighborhood_autoencoder_model.compile(loss='binary_crossentropy', optimizer='adam',\n",
    "                                               metrics=[keras.metrics.CategoricalAccuracy()])\n",
    "\n",
    "        neighborhood_autoencoder_model.fit(data_train_neighborhood,\n",
    "                       steps_per_epoch=250,\n",
    "                       epochs=10,\n",
    "                       shuffle=True,\n",
    "                       validation_data=data_valid_neighborhood, validation_steps=100,\n",
    "                       validation_freq=5,\n",
    "                       verbose=1,\n",
    "                       callbacks=[tensorboard, PlotLossesKerasTF()])\n",
    "\n",
    "        self.model = neighborhood_autoencoder_model\n",
    "\n",
    "        self.model_combinator = keras.Model(inputs = self.model.layers[-1].input, outputs = self.model.layers[-1].output)\n",
    "\n",
    "        self.model_combinator.summary()\n",
    "\n",
    "        self.model_combinator.compile(loss='binary_crossentropy', optimizer='adam', metrics=[keras.metrics.CategoricalAccuracy()])"
   ],
   "metadata": {
    "collapsed": false,
    "pycharm": {
     "name": "#%%\n"
    }
   }
  },
  {
   "cell_type": "code",
   "execution_count": 8,
   "outputs": [
    {
     "data": {
      "text/plain": "<Figure size 864x576 with 2 Axes>",
      "image/png": "[encoded data removed]"
     },
     "metadata": {
      "needs_background": "light"
     },
     "output_type": "display_data"
    },
    {
     "name": "stdout",
     "output_type": "stream",
     "text": [
      "categorical_accuracy\n",
      "\ttraining         \t (min:    0.331, max:    0.528, cur:    0.528)\n",
      "\tvalidation       \t (min:    0.631, max:    0.745, cur:    0.745)\n",
      "Loss\n",
      "\ttraining         \t (min:    0.197, max:    0.420, cur:    0.197)\n",
      "\tvalidation       \t (min:    0.177, max:    0.194, cur:    0.177)\n",
      "250/250 [==============================] - 273s 1s/step - batch: 124.5000 - size: 32.0000 - loss: 0.1974 - categorical_accuracy: 0.5276 - val_loss: 0.1775 - val_categorical_accuracy: 0.7447\n",
      "Model: \"model_4\"\n",
      "__________________________________________________________________________________________________\n",
      "Layer (type)                    Output Shape         Param #     Connected to                     \n",
      "==================================================================================================\n",
      "input_10 (InputLayer)           [(None, 11)]         0                                            \n",
      "__________________________________________________________________________________________________\n",
      "input_11 (InputLayer)           [(None, 11)]         0                                            \n",
      "__________________________________________________________________________________________________\n",
      "input_12 (InputLayer)           [(None, 11)]         0                                            \n",
      "__________________________________________________________________________________________________\n",
      "input_13 (InputLayer)           [(None, 11)]         0                                            \n",
      "__________________________________________________________________________________________________\n",
      "input_14 (InputLayer)           [(None, 11)]         0                                            \n",
      "__________________________________________________________________________________________________\n",
      "input_15 (InputLayer)           [(None, 11)]         0                                            \n",
      "__________________________________________________________________________________________________\n",
      "input_16 (InputLayer)           [(None, 11)]         0                                            \n",
      "__________________________________________________________________________________________________\n",
      "input_17 (InputLayer)           [(None, 11)]         0                                            \n",
      "__________________________________________________________________________________________________\n",
      "input_18 (InputLayer)           [(None, 11)]         0                                            \n",
      "__________________________________________________________________________________________________\n",
      "reshape_9 (Reshape)             (None, 1, 11)        0           input_10[0][0]                   \n",
      "__________________________________________________________________________________________________\n",
      "reshape_10 (Reshape)            (None, 1, 11)        0           input_11[0][0]                   \n",
      "__________________________________________________________________________________________________\n",
      "reshape_11 (Reshape)            (None, 1, 11)        0           input_12[0][0]                   \n",
      "__________________________________________________________________________________________________\n",
      "reshape_12 (Reshape)            (None, 1, 11)        0           input_13[0][0]                   \n",
      "__________________________________________________________________________________________________\n",
      "reshape_13 (Reshape)            (None, 1, 11)        0           input_14[0][0]                   \n",
      "__________________________________________________________________________________________________\n",
      "reshape_14 (Reshape)            (None, 1, 11)        0           input_15[0][0]                   \n",
      "__________________________________________________________________________________________________\n",
      "reshape_15 (Reshape)            (None, 1, 11)        0           input_16[0][0]                   \n",
      "__________________________________________________________________________________________________\n",
      "reshape_16 (Reshape)            (None, 1, 11)        0           input_17[0][0]                   \n",
      "__________________________________________________________________________________________________\n",
      "reshape_17 (Reshape)            (None, 1, 11)        0           input_18[0][0]                   \n",
      "__________________________________________________________________________________________________\n",
      "concatenate_1 (Concatenate)     (None, 9, 11)        0           reshape_9[0][0]                  \n",
      "                                                                 reshape_10[0][0]                 \n",
      "                                                                 reshape_11[0][0]                 \n",
      "                                                                 reshape_12[0][0]                 \n",
      "                                                                 reshape_13[0][0]                 \n",
      "                                                                 reshape_14[0][0]                 \n",
      "                                                                 reshape_15[0][0]                 \n",
      "                                                                 reshape_16[0][0]                 \n",
      "                                                                 reshape_17[0][0]                 \n",
      "__________________________________________________________________________________________________\n",
      "flatten_1 (Flatten)             (None, 99)           0           concatenate_1[0][0]              \n",
      "__________________________________________________________________________________________________\n",
      "dense_2 (Dense)                 (None, 11)           1100        flatten_1[0][0]                  \n",
      "==================================================================================================\n",
      "Total params: 1,100\n",
      "Trainable params: 1,100\n",
      "Non-trainable params: 0\n",
      "__________________________________________________________________________________________________\n"
     ]
    }
   ],
   "source": [
    "pipeline = MyAutoencoder(\n",
    "                         data_train_autoencoder='data/Feit_colon-annotation-tiles-128/data_train/',\n",
    "                         data_valid_autoencoder='data/Feit_colon-annotation-tiles-128/data_valid/',\n",
    "                         data_train_neighborhood='/media/jelinek/960 GB Disk/Feit_colon-annotation-tiles-256-1-neighborhood/data_train',\n",
    "                         data_valid_neighborhood='/media/jelinek/960 GB Disk/Feit_colon-annotation-tiles-256-1-neighborhood/data_train',\n",
    "                         train_data_dir='data/Feit_colon-annotation-tiles-128/data_train/',\n",
    "                         valid_data_dir='data/Feit_colon-annotation-tiles-128/data_valid/')\n",
    "\n",
    "pipeline.execute_pipeline(perform_validation=False, perform_test_segmentation=False)"
   ],
   "metadata": {
    "collapsed": false,
    "pycharm": {
     "name": "#%%\n"
    }
   }
  },
  {
   "cell_type": "code",
   "execution_count": 9,
   "outputs": [],
   "source": [
    "pipeline.save_pipeline()"
   ],
   "metadata": {
    "collapsed": false,
    "pycharm": {
     "name": "#%%\n"
    }
   }
  },
  {
   "cell_type": "code",
   "execution_count": 10,
   "outputs": [],
   "source": [
    "# pipeline = FeitDataPipelineEncoderDecoder.load_pipeline(pipeline_name=name)"
   ],
   "metadata": {
    "collapsed": false,
    "pycharm": {
     "name": "#%%\n"
    }
   }
  },
  {
   "cell_type": "code",
   "execution_count": 11,
   "outputs": [
    {
     "name": "stdout",
     "output_type": "stream",
     "text": [
      "Measuring time\n",
      "--Iteration 10/10\r\n",
      "Batch size: 32\n",
      "Mean time per tile 2.3761ms\n",
      "Confusion Matrix\n",
      "[[ 4893     0     0     0  1767     0     0     0     0     0    19]\n",
      " [  761    58     0     0   438     0     0     0     0     0     5]\n",
      " [ 1157     0     0     0  1652     0     0     0     0     0     1]\n",
      " [    0     0     0     0   206     0     0     0     0     0     0]\n",
      " [  285     0     0     0 10555     0     0     0     0     0     1]\n",
      " [   11     0     0     0     0     0     0     0     0     0     0]\n",
      " [  519     0     0     0  1010     0     0     0     0     0     1]\n",
      " [  474     0     0     0  1222     0     0     0     0     0     0]\n",
      " [    7     0     0     0     2     0     0     0     0     0     0]\n",
      " [    0     0     0     0     5     0     0     0     0     0     0]\n",
      " [ 3204     0     0     0  1415     0     0     0     0     0    28]]\n",
      "Classification Report\n",
      "                             precision    recall  f1-score   support\n",
      "\n",
      "             adenocarcinoma       0.43      0.73      0.54      6679\n",
      "          blood_and_vessels       1.00      0.05      0.09      1262\n",
      "          connective_tissue       1.00      0.00      0.00      2810\n",
      "                      empty       1.00      0.00      0.00       206\n",
      "                        fat       0.58      0.97      0.73     10841\n",
      "      inflammation_purulent       1.00      0.00      0.00        11\n",
      "       muscle_cross_section       1.00      0.00      0.00      1530\n",
      "muscle_longitudinal_section       1.00      0.00      0.00      1696\n",
      "                   necrosis       1.00      0.00      0.00         9\n",
      "                      nerve       1.00      0.00      0.00         5\n",
      "              normal_mucosa       0.51      0.01      0.01      4647\n",
      "\n",
      "                   accuracy                           0.52     29696\n",
      "                  macro avg       0.87      0.16      0.12     29696\n",
      "               weighted avg       0.64      0.52      0.39     29696\n",
      "\n"
     ]
    }
   ],
   "source": [
    "from ml.eval import eval_model\n",
    "\n",
    "eval_model(pipeline.model,\n",
    "           pipeline.get_data_loader_validation_neighborhood(),\n",
    "           pipeline_name=name,\n",
    "           print_confusion_matrix=True,\n",
    "           save_misclassified=True)"
   ],
   "metadata": {
    "collapsed": false,
    "pycharm": {
     "name": "#%%\n"
    }
   }
  },
  {
   "cell_type": "code",
   "execution_count": 12,
   "outputs": [
    {
     "name": "stderr",
     "output_type": "stream",
     "text": [
      "/home/jelinek/anaconda3/envs/recetox/lib/python3.8/site-packages/tensorflow/python/keras/engine/training.py:2426: UserWarning: `Model.state_updates` will be removed in a future version. This property should not be used in TensorFlow 2.0, as `updates` are applied automatically.\n",
      "  warnings.warn('`Model.state_updates` will be removed in a future version. '\n"
     ]
    },
    {
     "name": "stdout",
     "output_type": "stream",
     "text": [
      "Processing region 120 out of 120\n",
      "Post-processing image...\n",
      "Processing grid point 41664 out of 41664\n",
      "Processing image took 75.59026288986206 seconds\n",
      "Saving file...\n",
      "File saved to segmentations/MySimpleCNN_Autoencoder_neighb/ns-adenoca-colon-15071-2019-20x-he-4.tiff\n",
      "----------------------------------------------------\n",
      "[[ 813   29    0    2 1001    0   13    6    7    9  617]\n",
      " [   0    0    0    0    0    0    0    0    0    0    0]\n",
      " [ 484   22    0    1  104    0    2    3   10    1  129]\n",
      " [   0    0    0    0    0    0    0    0    0    0    0]\n",
      " [ 422    3    0    0 1366    0    0    0    1    0 4052]\n",
      " [  55    5    0    0   40    0    0    0    0    0   16]\n",
      " [ 164    5    0    0   60    0    0    3    2    1   43]\n",
      " [ 765   33    0    2  100    0    5    5   18    4  221]\n",
      " [   0    0    0    0    0    0    0    0    0    0    0]\n",
      " [   0    0    0    0    0    0    0    0    0    0    0]\n",
      " [   0    0    0    0    0    0    0    0    0    0    0]]\n",
      "                             precision    recall  f1-score   support\n",
      "\n",
      "             adenocarcinoma       0.30      0.33      0.31      2497\n",
      "          blood_and_vessels       0.00      1.00      0.00         0\n",
      "          connective_tissue       1.00      0.00      0.00       756\n",
      "                      empty       0.00      1.00      0.00         0\n",
      "                        fat       0.51      0.23      0.32      5844\n",
      "      inflammation_purulent       1.00      0.00      0.00       116\n",
      "       muscle_cross_section       0.00      0.00      0.00       278\n",
      "muscle_longitudinal_section       0.29      0.00      0.01      1153\n",
      "                   necrosis       0.00      1.00      0.00         0\n",
      "                      nerve       0.00      1.00      0.00         0\n",
      "              normal_mucosa       0.00      1.00      0.00         0\n",
      "\n",
      "                   accuracy                           0.21     10644\n",
      "                  macro avg       0.28      0.51      0.06     10644\n",
      "               weighted avg       0.47      0.21      0.25     10644\n",
      "\n",
      "Jaccard score: \n",
      "Vector:  [0.18532026 0.         0.         0.         0.19107567 0.\n",
      " 0.         0.00429185 0.         0.         0.        ]\n",
      "Weighted:  0.1488481249844777\n"
     ]
    }
   ],
   "source": [
    "from ml.eval import evaluate_segmentation_on_feit_annotation\n",
    "\n",
    "evaluation_path = Path('data/Feit_colon-annotation_valid/ns-adenoca-colon-15071-2019-20x-he-4/')\n",
    "\n",
    "segmentation_dir = Path('segmentations') / pipeline.params.name\n",
    "\n",
    "evaluate_segmentation_on_feit_annotation(evaluation_path, pipeline.build_segmenter(),\n",
    "                                         128, pipeline.params.class_names,\n",
    "                                         save_segmentations=True, segmentations_dir=segmentation_dir,\n",
    "                                         neighbourhood_size=pipeline.params.neighborhood_tiles, combinator_model=pipeline.model_combinator,\n",
    "                                         combination_procedure='neural_networks')"
   ],
   "metadata": {
    "collapsed": false,
    "pycharm": {
     "name": "#%%\n"
    }
   }
  },
  {
   "cell_type": "code",
   "execution_count": 12,
   "outputs": [],
   "source": [],
   "metadata": {
    "collapsed": false,
    "pycharm": {
     "name": "#%%\n"
    }
   }
  }
 ],
 "metadata": {
  "kernelspec": {
   "display_name": "Python 3",
   "language": "python",
   "name": "python3"
  },
  "language_info": {
   "codemirror_mode": {
    "name": "ipython",
    "version": 3
   },
   "file_extension": ".py",
   "mimetype": "text/x-python",
   "name": "python",
   "nbconvert_exporter": "python",
   "pygments_lexer": "ipython3",
   "version": "3.6.9"
  }
 },
 "nbformat": 4,
 "nbformat_minor": 2
}