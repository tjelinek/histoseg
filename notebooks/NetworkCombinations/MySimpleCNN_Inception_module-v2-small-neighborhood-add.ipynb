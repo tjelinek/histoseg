{
 "cells": [
  {
   "cell_type": "code",
   "execution_count": 5,
   "metadata": {
    "collapsed": true
   },
   "outputs": [
    {
     "name": "stdout",
     "output_type": "stream",
     "text": [
      "/home/jelinek/recetox\n"
     ]
    }
   ],
   "source": [
    "import os\n",
    "from itertools import product\n",
    "\n",
    "import numpy as np\n",
    "\n",
    "from image.segmentation import BasicImageSegmenter\n",
    "from ml.eval import eval_model\n",
    "\n",
    "print(os.getcwd())\n",
    "os.chdir('/home/jelinek/recetox/')\n",
    "\n",
    "from ml.pipeline import FeitDataPipeline\n",
    "from ml.util import NeighborhoodImageDataGenerator, rename_keras_layer\n",
    "\n",
    "from tensorflow import keras\n",
    "\n",
    "from tensorflow.keras.callbacks import ReduceLROnPlateau\n",
    "\n",
    "from cfg import *\n",
    "\n",
    "from livelossplot import PlotLossesKerasTF\n",
    "\n",
    "name = \"MySimpleCNN_Inception_module-v2-small-neighborhood-add\"\n"
   ]
  },
  {
   "cell_type": "code",
   "execution_count": 6,
   "metadata": {
    "pycharm": {
     "name": "#%%\n"
    }
   },
   "outputs": [],
   "source": [
    "class MySimpleCNNInceptionModule(FeitDataPipeline):\n",
    "\n",
    "    def __init__(self, neighborhood_tiles: int, *args, **kwargs):\n",
    "\n",
    "        self.neighborhood_tiles: int = neighborhood_tiles\n",
    "\n",
    "        super().__init__(*args, **kwargs)\n",
    "\n",
    "        self.model = self.get_compiled_model()\n",
    "        self.params.name = name\n",
    "        self.params.epochs = 9\n",
    "        self.batch_size = 16\n",
    "        self.params.tile_size=256\n",
    "        self.params.number_of_classes=12\n",
    "\n",
    "    @staticmethod\n",
    "    def __get_basic_layers(model_idx: int):\n",
    "        trained_base_model = keras.models.load_model('saved-models/frozen/MySimpleCnn_Feit-inception-v2-small.h5')\n",
    "        trained_base_model.trainable = False\n",
    "\n",
    "        name_suffix = '_model_tile_' + str(model_idx)\n",
    "\n",
    "        for i in range(len(trained_base_model.layers)):\n",
    "            rename_keras_layer(trained_base_model, trained_base_model.layers[i],\n",
    "                               trained_base_model.layers[i].name + name_suffix)\n",
    "\n",
    "        last_layer = trained_base_model(trained_base_model.inputs, training=False)\n",
    "\n",
    "        rename_keras_layer(trained_base_model, last_layer, last_layer.name + name_suffix)\n",
    "\n",
    "        trained_base_model._name += name_suffix\n",
    "\n",
    "        return trained_base_model.inputs[0], last_layer\n",
    "\n",
    "\n",
    "    @staticmethod\n",
    "    def get_compiled_model():\n",
    "        neighborhood = 1\n",
    "        neighborhood_size = 2 * neighborhood + 1\n",
    "\n",
    "\n",
    "        neighborhood_networks = [MySimpleCNNInceptionModule.__get_basic_layers(model_idx)\n",
    "                                 for model_idx in range(neighborhood_size ** 2)]\n",
    "\n",
    "        outputs = [model[1] for model in neighborhood_networks]\n",
    "\n",
    "        merge_layer = keras.layers.Add()(outputs)\n",
    "\n",
    "        output = keras.layers.Dense(units = 12, activation = 'softmax')(merge_layer)\n",
    "\n",
    "        inputs = [model[0] for model in neighborhood_networks]\n",
    "        model = keras.Model(inputs=inputs, outputs=output)\n",
    "        keras.utils.plot_model(model, to_file='neighborhood_ensemble.png', show_shapes=True)\n",
    "        model.summary()\n",
    "\n",
    "        return model\n",
    "\n",
    "\n",
    "    def _train_model(self, data_train, data_valid):\n",
    "\n",
    "        reduce_lr = ReduceLROnPlateau(monitor='val_loss', factor=0.1,\n",
    "                                      patience=30, min_lr=1e-4, verbose=1,\n",
    "                                      cooldown=20)\n",
    "\n",
    "        self.model.fit(data_train,\n",
    "                       steps_per_epoch=250,\n",
    "                       epochs=50,\n",
    "                       shuffle=True,\n",
    "                       validation_data=data_valid,\n",
    "                       validation_freq=5,\n",
    "                       verbose=1,\n",
    "                       validation_steps=1860 // 16,\n",
    "                       callbacks=[self.tensorboard, reduce_lr, PlotLossesKerasTF()])\n",
    "\n",
    "    def get_data_loader_training(self):\n",
    "        datagen_train = NeighborhoodImageDataGenerator(self.neighborhood_tiles, horizontal_flip=True, vertical_flip=True, samplewise_center=True,\n",
    "                                           samplewise_std_normalization=True)\n",
    "        tiles_per_axis = self.neighborhood_tiles * 2 + 1\n",
    "\n",
    "        return datagen_train.flow_from_directory(directory=self.params.data_training, color_mode='rgb',\n",
    "                                                 class_mode='categorical', batch_size=self.params.batch_size,\n",
    "                                                 shuffle=True,\n",
    "                                                 target_size=(self.params.tile_size * tiles_per_axis,\n",
    "                                                              self.params.tile_size * tiles_per_axis))\n",
    "\n",
    "    def get_data_loader_validation(self):\n",
    "        datagen_valid = NeighborhoodImageDataGenerator(self.neighborhood_tiles, samplewise_center=True, samplewise_std_normalization=True)\n",
    "        tiles_per_axis = self.neighborhood_tiles * 2 + 1\n",
    "\n",
    "        return datagen_valid.flow_from_directory(directory=self.params.data_validation, color_mode='rgb',\n",
    "                                                 class_mode='categorical', batch_size=self.params.batch_size,\n",
    "                                                 shuffle=False,\n",
    "                                                 target_size=(self.params.tile_size * tiles_per_axis,\n",
    "                                                              self.params.tile_size * tiles_per_axis))\n",
    "\n",
    "    def get_datagen_segmentation(self):\n",
    "        return NeighborhoodImageDataGenerator(self.neighborhood_tiles, samplewise_center=True,\n",
    "                                              samplewise_std_normalization=True)\n",
    "\n",
    "    def build_segmenter(self):\n",
    "        tiles_per_axis = self.neighborhood_tiles * 2 + 1\n",
    "\n",
    "        return BasicImageSegmenter(self.model, self.get_datagen_segmentation(),\n",
    "                                   tile_size=self.params.tile_size * tiles_per_axis,\n",
    "                                   num_classes=self.params.number_of_classes,\n",
    "                                   class_to_color_mapping=self.params.class_to_color_mapping)\n",
    "\n"
   ]
  },
  {
   "cell_type": "code",
   "execution_count": 7,
   "metadata": {
    "pycharm": {
     "name": "#%%\n"
    }
   },
   "outputs": [
    {
     "name": "stdout",
     "output_type": "stream",
     "text": [
      "Model: \"model_1\"\n",
      "__________________________________________________________________________________________________\n",
      "Layer (type)                    Output Shape         Param #     Connected to                     \n",
      "==================================================================================================\n",
      "input_1_model_tile_0 (InputLaye [(None, 256, 256, 3) 0                                            \n",
      "__________________________________________________________________________________________________\n",
      "input_1_model_tile_1 (InputLaye [(None, 256, 256, 3) 0                                            \n",
      "__________________________________________________________________________________________________\n",
      "input_1_model_tile_2 (InputLaye [(None, 256, 256, 3) 0                                            \n",
      "__________________________________________________________________________________________________\n",
      "input_1_model_tile_3 (InputLaye [(None, 256, 256, 3) 0                                            \n",
      "__________________________________________________________________________________________________\n",
      "input_1_model_tile_4 (InputLaye [(None, 256, 256, 3) 0                                            \n",
      "__________________________________________________________________________________________________\n",
      "input_1_model_tile_5 (InputLaye [(None, 256, 256, 3) 0                                            \n",
      "__________________________________________________________________________________________________\n",
      "input_1_model_tile_6 (InputLaye [(None, 256, 256, 3) 0                                            \n",
      "__________________________________________________________________________________________________\n",
      "input_1_model_tile_7 (InputLaye [(None, 256, 256, 3) 0                                            \n",
      "__________________________________________________________________________________________________\n",
      "input_1_model_tile_8 (InputLaye [(None, 256, 256, 3) 0                                            \n",
      "__________________________________________________________________________________________________\n",
      "MySimpleCnnFewerLayers_model_ti (None, 12)           172108      input_1_model_tile_0[0][0]       \n",
      "__________________________________________________________________________________________________\n",
      "MySimpleCnnFewerLayers_model_ti (None, 12)           172108      input_1_model_tile_1[0][0]       \n",
      "__________________________________________________________________________________________________\n",
      "MySimpleCnnFewerLayers_model_ti (None, 12)           172108      input_1_model_tile_2[0][0]       \n",
      "__________________________________________________________________________________________________\n",
      "MySimpleCnnFewerLayers_model_ti (None, 12)           172108      input_1_model_tile_3[0][0]       \n",
      "__________________________________________________________________________________________________\n",
      "MySimpleCnnFewerLayers_model_ti (None, 12)           172108      input_1_model_tile_4[0][0]       \n",
      "__________________________________________________________________________________________________\n",
      "MySimpleCnnFewerLayers_model_ti (None, 12)           172108      input_1_model_tile_5[0][0]       \n",
      "__________________________________________________________________________________________________\n",
      "MySimpleCnnFewerLayers_model_ti (None, 12)           172108      input_1_model_tile_6[0][0]       \n",
      "__________________________________________________________________________________________________\n",
      "MySimpleCnnFewerLayers_model_ti (None, 12)           172108      input_1_model_tile_7[0][0]       \n",
      "__________________________________________________________________________________________________\n",
      "MySimpleCnnFewerLayers_model_ti (None, 12)           172108      input_1_model_tile_8[0][0]       \n",
      "__________________________________________________________________________________________________\n",
      "add_1 (Add)                     (None, 12)           0           MySimpleCnnFewerLayers_model_tile\n",
      "                                                                 MySimpleCnnFewerLayers_model_tile\n",
      "                                                                 MySimpleCnnFewerLayers_model_tile\n",
      "                                                                 MySimpleCnnFewerLayers_model_tile\n",
      "                                                                 MySimpleCnnFewerLayers_model_tile\n",
      "                                                                 MySimpleCnnFewerLayers_model_tile\n",
      "                                                                 MySimpleCnnFewerLayers_model_tile\n",
      "                                                                 MySimpleCnnFewerLayers_model_tile\n",
      "                                                                 MySimpleCnnFewerLayers_model_tile\n",
      "__________________________________________________________________________________________________\n",
      "dense_1 (Dense)                 (None, 12)           156         add_1[0][0]                      \n",
      "==================================================================================================\n",
      "Total params: 1,549,128\n",
      "Trainable params: 156\n",
      "Non-trainable params: 1,548,972\n",
      "__________________________________________________________________________________________________\n"
     ]
    }
   ],
   "source": [
    "pipeline = MySimpleCNNInceptionModule(neighborhood_tiles=1,\n",
    "                                      train_data_dir='data/Feit_colon-annotation-tiles-256-1-neighborhood/data_train/',\n",
    "                                      valid_data_dir='data/Feit_colon-annotation-tiles-256-1-neighborhood/data_valid/')"
   ]
  },
  {
   "cell_type": "code",
   "execution_count": 8,
   "metadata": {
    "pycharm": {
     "name": "#%%\n"
    }
   },
   "outputs": [
    {
     "data": {
      "text/plain": "<Figure size 864x864 with 4 Axes>",
      "image/png": "[encoded data removed]"
     },
     "metadata": {
      "needs_background": "light"
     },
     "output_type": "display_data"
    },
    {
     "name": "stdout",
     "output_type": "stream",
     "text": [
      "categorical_accuracy\n",
      "\ttraining         \t (min:    0.863, max:    0.970, cur:    0.970)\n",
      "\tvalidation       \t (min:    0.960, max:    0.977, cur:    0.977)\n",
      "Loss\n",
      "\ttraining         \t (min:    0.092, max:    0.521, cur:    0.092)\n",
      "\tvalidation       \t (min:    0.076, max:    0.140, cur:    0.076)\n",
      "lr\n",
      "\tlr               \t (min:    0.010, max:    0.010, cur:    0.010)\n"
     ]
    }
   ],
   "source": [
    "pipeline.execute_pipeline(perform_validation=False, perform_test_segmentation=False)\n",
    "\n"
   ]
  },
  {
   "cell_type": "code",
   "execution_count": 17,
   "outputs": [
    {
     "name": "stdout",
     "output_type": "stream",
     "text": [
      "Model: \"model_6\"\n",
      "__________________________________________________________________________________________________\n",
      "Layer (type)                    Output Shape         Param #     Connected to                     \n",
      "==================================================================================================\n",
      "input_37 (InputLayer)           [(None, 12)]         0                                            \n",
      "__________________________________________________________________________________________________\n",
      "input_38 (InputLayer)           [(None, 12)]         0                                            \n",
      "__________________________________________________________________________________________________\n",
      "input_39 (InputLayer)           [(None, 12)]         0                                            \n",
      "__________________________________________________________________________________________________\n",
      "input_40 (InputLayer)           [(None, 12)]         0                                            \n",
      "__________________________________________________________________________________________________\n",
      "input_41 (InputLayer)           [(None, 12)]         0                                            \n",
      "__________________________________________________________________________________________________\n",
      "input_42 (InputLayer)           [(None, 12)]         0                                            \n",
      "__________________________________________________________________________________________________\n",
      "input_43 (InputLayer)           [(None, 12)]         0                                            \n",
      "__________________________________________________________________________________________________\n",
      "input_44 (InputLayer)           [(None, 12)]         0                                            \n",
      "__________________________________________________________________________________________________\n",
      "input_45 (InputLayer)           [(None, 12)]         0                                            \n",
      "__________________________________________________________________________________________________\n",
      "add_6 (Add)                     (None, 12)           0           input_37[0][0]                   \n",
      "                                                                 input_38[0][0]                   \n",
      "                                                                 input_39[0][0]                   \n",
      "                                                                 input_40[0][0]                   \n",
      "                                                                 input_41[0][0]                   \n",
      "                                                                 input_42[0][0]                   \n",
      "                                                                 input_43[0][0]                   \n",
      "                                                                 input_44[0][0]                   \n",
      "                                                                 input_45[0][0]                   \n",
      "__________________________________________________________________________________________________\n",
      "dense_6 (Dense)                 (None, 12)           156         add_6[0][0]                      \n",
      "==================================================================================================\n",
      "Total params: 156\n",
      "Trainable params: 156\n",
      "Non-trainable params: 0\n",
      "__________________________________________________________________________________________________\n",
      "Model: \"model_1\"\n",
      "__________________________________________________________________________________________________\n",
      "Layer (type)                    Output Shape         Param #     Connected to                     \n",
      "==================================================================================================\n",
      "input_1_model_tile_0 (InputLaye [(None, 256, 256, 3) 0                                            \n",
      "__________________________________________________________________________________________________\n",
      "input_1_model_tile_1 (InputLaye [(None, 256, 256, 3) 0                                            \n",
      "__________________________________________________________________________________________________\n",
      "input_1_model_tile_2 (InputLaye [(None, 256, 256, 3) 0                                            \n",
      "__________________________________________________________________________________________________\n",
      "input_1_model_tile_3 (InputLaye [(None, 256, 256, 3) 0                                            \n",
      "__________________________________________________________________________________________________\n",
      "input_1_model_tile_4 (InputLaye [(None, 256, 256, 3) 0                                            \n",
      "__________________________________________________________________________________________________\n",
      "input_1_model_tile_5 (InputLaye [(None, 256, 256, 3) 0                                            \n",
      "__________________________________________________________________________________________________\n",
      "input_1_model_tile_6 (InputLaye [(None, 256, 256, 3) 0                                            \n",
      "__________________________________________________________________________________________________\n",
      "input_1_model_tile_7 (InputLaye [(None, 256, 256, 3) 0                                            \n",
      "__________________________________________________________________________________________________\n",
      "input_1_model_tile_8 (InputLaye [(None, 256, 256, 3) 0                                            \n",
      "__________________________________________________________________________________________________\n",
      "MySimpleCnnFewerLayers_model_ti (None, 12)           172108      input_1_model_tile_0[0][0]       \n",
      "__________________________________________________________________________________________________\n",
      "MySimpleCnnFewerLayers_model_ti (None, 12)           172108      input_1_model_tile_1[0][0]       \n",
      "__________________________________________________________________________________________________\n",
      "MySimpleCnnFewerLayers_model_ti (None, 12)           172108      input_1_model_tile_2[0][0]       \n",
      "__________________________________________________________________________________________________\n",
      "MySimpleCnnFewerLayers_model_ti (None, 12)           172108      input_1_model_tile_3[0][0]       \n",
      "__________________________________________________________________________________________________\n",
      "MySimpleCnnFewerLayers_model_ti (None, 12)           172108      input_1_model_tile_4[0][0]       \n",
      "__________________________________________________________________________________________________\n",
      "MySimpleCnnFewerLayers_model_ti (None, 12)           172108      input_1_model_tile_5[0][0]       \n",
      "__________________________________________________________________________________________________\n",
      "MySimpleCnnFewerLayers_model_ti (None, 12)           172108      input_1_model_tile_6[0][0]       \n",
      "__________________________________________________________________________________________________\n",
      "MySimpleCnnFewerLayers_model_ti (None, 12)           172108      input_1_model_tile_7[0][0]       \n",
      "__________________________________________________________________________________________________\n",
      "MySimpleCnnFewerLayers_model_ti (None, 12)           172108      input_1_model_tile_8[0][0]       \n",
      "__________________________________________________________________________________________________\n",
      "add_1 (Add)                     (None, 12)           0           MySimpleCnnFewerLayers_model_tile\n",
      "                                                                 MySimpleCnnFewerLayers_model_tile\n",
      "                                                                 MySimpleCnnFewerLayers_model_tile\n",
      "                                                                 MySimpleCnnFewerLayers_model_tile\n",
      "                                                                 MySimpleCnnFewerLayers_model_tile\n",
      "                                                                 MySimpleCnnFewerLayers_model_tile\n",
      "                                                                 MySimpleCnnFewerLayers_model_tile\n",
      "                                                                 MySimpleCnnFewerLayers_model_tile\n",
      "                                                                 MySimpleCnnFewerLayers_model_tile\n",
      "__________________________________________________________________________________________________\n",
      "dense_1 (Dense)                 (None, 12)           156         add_1[0][0]                      \n",
      "==================================================================================================\n",
      "Total params: 1,549,128\n",
      "Trainable params: 156\n",
      "Non-trainable params: 1,548,972\n",
      "__________________________________________________________________________________________________\n",
      "WARNING:tensorflow:Compiled the loaded model, but the compiled metrics have yet to be built. `model.compile_metrics` will be empty until you train or evaluate the model.\n"
     ]
    },
    {
     "name": "stderr",
     "output_type": "stream",
     "text": [
      "/home/jelinek/anaconda3/envs/recetox/lib/python3.8/site-packages/tensorflow/python/keras/utils/generic_utils.py:494: CustomMaskWarning: Custom mask layers require a config and must override get_config. When loading, the custom mask layer must be passed to the custom_objects argument.\n",
      "  warnings.warn('Custom mask layers require a config and must override '\n"
     ]
    }
   ],
   "source": [
    "def extract_ensemble_classifier():\n",
    "\n",
    "    inputs = [keras.Input(shape=(12,)) for _ in range(9)]\n",
    "    merge_layer = keras.layers.Add()(inputs)\n",
    "    output = keras.layers.Dense(units = 12, activation = 'softmax')(merge_layer)\n",
    "\n",
    "    model = keras.Model(inputs=inputs, outputs=output)\n",
    "\n",
    "    model.summary()\n",
    "\n",
    "    pipeline.model.summary()\n",
    "\n",
    "    model.save('saved-models/frozen/' + name + '_combinator.h5')\n",
    "\n",
    "\n",
    "extract_ensemble_classifier()"
   ],
   "metadata": {
    "collapsed": false,
    "pycharm": {
     "name": "#%%\n"
    }
   }
  },
  {
   "cell_type": "code",
   "execution_count": 10,
   "outputs": [],
   "source": [
    "pipeline.save_pipeline()"
   ],
   "metadata": {
    "collapsed": false,
    "pycharm": {
     "name": "#%%\n"
    }
   }
  },
  {
   "cell_type": "code",
   "execution_count": 11,
   "outputs": [],
   "source": [
    "#eval_model(pipeline.model,\n",
    "#           pipeline.get_data_loader_validation(),\n",
    "#           print_confusion_matrix=True,\n",
    "#           save_misclassified=True)"
   ],
   "metadata": {
    "collapsed": false,
    "pycharm": {
     "name": "#%%\n"
    }
   }
  },
  {
   "cell_type": "code",
   "execution_count": 12,
   "outputs": [],
   "source": [
    "#pipeline = FeitDataPipeline.load_pipeline(pipeline_name=name)"
   ],
   "metadata": {
    "collapsed": false,
    "pycharm": {
     "name": "#%%\n"
    }
   }
  },
  {
   "cell_type": "code",
   "execution_count": 13,
   "outputs": [
    {
     "name": "stdout",
     "output_type": "stream",
     "text": [
      "Segmenting file 1 out of 1\n",
      "Processing region 15 out of 15\n",
      "Processing image took 35228.053095817566 seconds\n",
      "Segmenting file 1 out of 1\n",
      "Processing region 15 out of 15"
     ]
    },
    {
     "ename": "KeyboardInterrupt",
     "evalue": "",
     "output_type": "error",
     "traceback": [
      "\u001B[0;31m---------------------------------------------------------------------------\u001B[0m",
      "\u001B[0;31mKeyboardInterrupt\u001B[0m                         Traceback (most recent call last)",
      "\u001B[0;32m<ipython-input-13-19ee4c130a5c>\u001B[0m in \u001B[0;36m<module>\u001B[0;34m\u001B[0m\n\u001B[1;32m      4\u001B[0m \u001B[0mtiffs\u001B[0m\u001B[0;34m,\u001B[0m \u001B[0m_\u001B[0m \u001B[0;34m=\u001B[0m \u001B[0mgenerate_image_annotation_pairs\u001B[0m\u001B[0;34m(\u001B[0m\u001B[0mPath\u001B[0m\u001B[0;34m(\u001B[0m\u001B[0;34m'data/Feit_colon-annotation'\u001B[0m\u001B[0;34m)\u001B[0m\u001B[0;34m)\u001B[0m\u001B[0;34m\u001B[0m\u001B[0;34m\u001B[0m\u001B[0m\n\u001B[1;32m      5\u001B[0m \u001B[0;32mfor\u001B[0m \u001B[0mtiff\u001B[0m \u001B[0;32min\u001B[0m \u001B[0mtiffs\u001B[0m\u001B[0;34m:\u001B[0m\u001B[0;34m\u001B[0m\u001B[0;34m\u001B[0m\u001B[0m\n\u001B[0;32m----> 6\u001B[0;31m     \u001B[0mpipeline\u001B[0m\u001B[0;34m.\u001B[0m\u001B[0mperform_segmentation\u001B[0m\u001B[0;34m(\u001B[0m\u001B[0mtiff\u001B[0m\u001B[0;34m,\u001B[0m \u001B[0mstep\u001B[0m\u001B[0;34m=\u001B[0m\u001B[0;36m16\u001B[0m\u001B[0;34m)\u001B[0m\u001B[0;34m\u001B[0m\u001B[0;34m\u001B[0m\u001B[0m\n\u001B[0m",
      "\u001B[0;32m~/recetox/src/ml/pipeline.py\u001B[0m in \u001B[0;36mperform_segmentation\u001B[0;34m(self, img_path, step)\u001B[0m\n\u001B[1;32m    137\u001B[0m             \u001B[0mimage_path\u001B[0m \u001B[0;34m=\u001B[0m \u001B[0mimages_list\u001B[0m\u001B[0;34m[\u001B[0m\u001B[0mi\u001B[0m\u001B[0;34m]\u001B[0m\u001B[0;34m\u001B[0m\u001B[0;34m\u001B[0m\u001B[0m\n\u001B[1;32m    138\u001B[0m             \u001B[0mdestination_path\u001B[0m \u001B[0;34m=\u001B[0m \u001B[0mbase_dir\u001B[0m \u001B[0;34m/\u001B[0m \u001B[0mimage_path\u001B[0m\u001B[0;34m.\u001B[0m\u001B[0mname\u001B[0m\u001B[0;34m\u001B[0m\u001B[0;34m\u001B[0m\u001B[0m\n\u001B[0;32m--> 139\u001B[0;31m             \u001B[0msegmenter\u001B[0m\u001B[0;34m.\u001B[0m\u001B[0mperform_segmentation\u001B[0m\u001B[0;34m(\u001B[0m\u001B[0mimage_path\u001B[0m\u001B[0;34m,\u001B[0m \u001B[0mdestination_path\u001B[0m\u001B[0;34m,\u001B[0m \u001B[0mstep\u001B[0m\u001B[0;34m)\u001B[0m\u001B[0;34m\u001B[0m\u001B[0;34m\u001B[0m\u001B[0m\n\u001B[0m\u001B[1;32m    140\u001B[0m \u001B[0;34m\u001B[0m\u001B[0m\n\u001B[1;32m    141\u001B[0m     \u001B[0;32mdef\u001B[0m \u001B[0m_update_static_information\u001B[0m\u001B[0;34m(\u001B[0m\u001B[0mself\u001B[0m\u001B[0;34m)\u001B[0m\u001B[0;34m:\u001B[0m\u001B[0;34m\u001B[0m\u001B[0;34m\u001B[0m\u001B[0m\n",
      "\u001B[0;32m~/recetox/src/image/segmentation.py\u001B[0m in \u001B[0;36mperform_segmentation\u001B[0;34m(self, image_path, destination, step)\u001B[0m\n\u001B[1;32m    721\u001B[0m                                                                                    self.neighborhood_size)\n\u001B[1;32m    722\u001B[0m \u001B[0;34m\u001B[0m\u001B[0m\n\u001B[0;32m--> 723\u001B[0;31m         \u001B[0msegmentation_algorithm\u001B[0m\u001B[0;34m.\u001B[0m\u001B[0msegmented_image_to_file\u001B[0m\u001B[0;34m(\u001B[0m\u001B[0mdestination\u001B[0m\u001B[0;34m)\u001B[0m\u001B[0;34m\u001B[0m\u001B[0;34m\u001B[0m\u001B[0m\n\u001B[0m",
      "\u001B[0;32m~/recetox/src/image/segmentation.py\u001B[0m in \u001B[0;36msegmented_image_to_file\u001B[0;34m(self, destination, transparency)\u001B[0m\n\u001B[1;32m    486\u001B[0m     \u001B[0;32mdef\u001B[0m \u001B[0msegmented_image_to_file\u001B[0m\u001B[0;34m(\u001B[0m\u001B[0mself\u001B[0m\u001B[0;34m,\u001B[0m \u001B[0mdestination\u001B[0m\u001B[0;34m:\u001B[0m \u001B[0mPath\u001B[0m\u001B[0;34m,\u001B[0m \u001B[0mtransparency\u001B[0m\u001B[0;34m:\u001B[0m \u001B[0mfloat\u001B[0m \u001B[0;34m=\u001B[0m \u001B[0;36m0.4\u001B[0m\u001B[0;34m)\u001B[0m \u001B[0;34m->\u001B[0m \u001B[0;32mNone\u001B[0m\u001B[0;34m:\u001B[0m\u001B[0;34m\u001B[0m\u001B[0;34m\u001B[0m\u001B[0m\n\u001B[1;32m    487\u001B[0m \u001B[0;34m\u001B[0m\u001B[0m\n\u001B[0;32m--> 488\u001B[0;31m         \u001B[0mself\u001B[0m\u001B[0;34m.\u001B[0m\u001B[0m__process_image\u001B[0m\u001B[0;34m(\u001B[0m\u001B[0;34m)\u001B[0m\u001B[0;34m\u001B[0m\u001B[0;34m\u001B[0m\u001B[0m\n\u001B[0m\u001B[1;32m    489\u001B[0m \u001B[0;34m\u001B[0m\u001B[0m\n\u001B[1;32m    490\u001B[0m         \u001B[0mgrid_region_size\u001B[0m \u001B[0;34m=\u001B[0m \u001B[0mself\u001B[0m\u001B[0;34m.\u001B[0m\u001B[0mregion_size\u001B[0m \u001B[0;34m//\u001B[0m \u001B[0mself\u001B[0m\u001B[0;34m.\u001B[0m\u001B[0mstep\u001B[0m\u001B[0;34m\u001B[0m\u001B[0;34m\u001B[0m\u001B[0m\n",
      "\u001B[0;32m~/recetox/src/image/segmentation.py\u001B[0m in \u001B[0;36m__process_image\u001B[0;34m(self)\u001B[0m\n\u001B[1;32m    397\u001B[0m             \u001B[0mtile_idx\u001B[0m \u001B[0;34m+=\u001B[0m \u001B[0;36m1\u001B[0m\u001B[0;34m\u001B[0m\u001B[0;34m\u001B[0m\u001B[0m\n\u001B[1;32m    398\u001B[0m \u001B[0;34m\u001B[0m\u001B[0m\n\u001B[0;32m--> 399\u001B[0;31m         self.mapping = self.neighborhood_combinator(self.mapping, None, self.neighborhood_size, self.default_vector,\n\u001B[0m\u001B[1;32m    400\u001B[0m                                                     self.neighborhood_distance).synthesize_ensembles()\n\u001B[1;32m    401\u001B[0m \u001B[0;34m\u001B[0m\u001B[0m\n",
      "\u001B[0;32m~/recetox/src/ml/ensembles.py\u001B[0m in \u001B[0;36msynthesize_ensembles\u001B[0;34m(self)\u001B[0m\n\u001B[1;32m     46\u001B[0m                                       range(self.margins.up, self.grid_size_y - self.margins.down)):\n\u001B[1;32m     47\u001B[0m             \u001B[0mneighborhood\u001B[0m \u001B[0;34m=\u001B[0m \u001B[0mself\u001B[0m\u001B[0;34m.\u001B[0m\u001B[0m__extract_neighborhood\u001B[0m\u001B[0;34m(\u001B[0m\u001B[0mgrid_x\u001B[0m\u001B[0;34m,\u001B[0m \u001B[0mgrid_y\u001B[0m\u001B[0;34m)\u001B[0m\u001B[0;34m\u001B[0m\u001B[0;34m\u001B[0m\u001B[0m\n\u001B[0;32m---> 48\u001B[0;31m             \u001B[0mneighborhood_vec\u001B[0m \u001B[0;34m=\u001B[0m \u001B[0mneighbourhood_to_vector\u001B[0m\u001B[0;34m(\u001B[0m\u001B[0mneighborhood\u001B[0m\u001B[0;34m)\u001B[0m\u001B[0;34m\u001B[0m\u001B[0;34m\u001B[0m\u001B[0m\n\u001B[0m\u001B[1;32m     49\u001B[0m             \u001B[0mpredicted\u001B[0m \u001B[0;34m=\u001B[0m \u001B[0mself\u001B[0m\u001B[0;34m.\u001B[0m\u001B[0m__combine_neighbors\u001B[0m\u001B[0;34m(\u001B[0m\u001B[0mneighborhood_vec\u001B[0m\u001B[0;34m,\u001B[0m \u001B[0mself\u001B[0m\u001B[0;34m.\u001B[0m\u001B[0mnum_features\u001B[0m\u001B[0;34m)\u001B[0m\u001B[0;34m\u001B[0m\u001B[0;34m\u001B[0m\u001B[0m\n\u001B[1;32m     50\u001B[0m             \u001B[0mself\u001B[0m\u001B[0;34m.\u001B[0m\u001B[0mgrid\u001B[0m\u001B[0;34m[\u001B[0m\u001B[0mgrid_x\u001B[0m\u001B[0;34m,\u001B[0m \u001B[0mgrid_y\u001B[0m\u001B[0;34m]\u001B[0m \u001B[0;34m=\u001B[0m \u001B[0mpredicted\u001B[0m\u001B[0;34m\u001B[0m\u001B[0;34m\u001B[0m\u001B[0m\n",
      "\u001B[0;32m~/recetox/src/util/math_utils.py\u001B[0m in \u001B[0;36mneighbourhood_to_vector\u001B[0;34m(neighbourhood)\u001B[0m\n\u001B[1;32m     61\u001B[0m     \u001B[0;32mfor\u001B[0m \u001B[0mj\u001B[0m \u001B[0;32min\u001B[0m \u001B[0mrange\u001B[0m\u001B[0;34m(\u001B[0m\u001B[0mwidth\u001B[0m\u001B[0;34m)\u001B[0m\u001B[0;34m:\u001B[0m\u001B[0;34m\u001B[0m\u001B[0;34m\u001B[0m\u001B[0m\n\u001B[1;32m     62\u001B[0m         \u001B[0;32mfor\u001B[0m \u001B[0mi\u001B[0m \u001B[0;32min\u001B[0m \u001B[0mrange\u001B[0m\u001B[0;34m(\u001B[0m\u001B[0mheight\u001B[0m\u001B[0;34m)\u001B[0m\u001B[0;34m:\u001B[0m\u001B[0;34m\u001B[0m\u001B[0;34m\u001B[0m\u001B[0m\n\u001B[0;32m---> 63\u001B[0;31m             \u001B[0mneighborhood_vec\u001B[0m\u001B[0;34m[\u001B[0m\u001B[0midx\u001B[0m\u001B[0;34m]\u001B[0m \u001B[0;34m=\u001B[0m \u001B[0mneighbourhood\u001B[0m\u001B[0;34m[\u001B[0m\u001B[0mi\u001B[0m\u001B[0;34m]\u001B[0m\u001B[0;34m[\u001B[0m\u001B[0mj\u001B[0m\u001B[0;34m]\u001B[0m\u001B[0;34m\u001B[0m\u001B[0;34m\u001B[0m\u001B[0m\n\u001B[0m\u001B[1;32m     64\u001B[0m             \u001B[0midx\u001B[0m \u001B[0;34m+=\u001B[0m \u001B[0;36m1\u001B[0m\u001B[0;34m\u001B[0m\u001B[0;34m\u001B[0m\u001B[0m\n\u001B[1;32m     65\u001B[0m \u001B[0;34m\u001B[0m\u001B[0m\n",
      "\u001B[0;31mKeyboardInterrupt\u001B[0m: "
     ]
    }
   ],
   "source": [
    "path = Path('data/Kather_5000')\n",
    "from util.data_manipulation_scripts import generate_image_annotation_pairs\n",
    "\n",
    "tiffs, _ = generate_image_annotation_pairs(Path('data/Feit_colon-annotation'))\n",
    "for tiff in tiffs:\n",
    "    pipeline.perform_segmentation(tiff, step=16)"
   ],
   "metadata": {
    "collapsed": false,
    "pycharm": {
     "name": "#%%\n"
    }
   }
  }
 ],
 "metadata": {
  "kernelspec": {
   "name": "python3",
   "language": "python",
   "display_name": "Python 3"
  },
  "language_info": {
   "codemirror_mode": {
    "name": "ipython",
    "version": 3
   },
   "file_extension": ".py",
   "mimetype": "text/x-python",
   "name": "python",
   "nbconvert_exporter": "python",
   "pygments_lexer": "ipython3",
   "version": "3.6.10"
  }
 },
 "nbformat": 4,
 "nbformat_minor": 1
}