{
 "cells": [
  {
   "cell_type": "code",
   "execution_count": 1,
   "outputs": [
    {
     "name": "stdout",
     "output_type": "stream",
     "text": [
      "/home/jelinek/recetox/src/notebooks\n"
     ]
    }
   ],
   "source": [
    "from ml.models.layers import MyTransformerBlock, MyAddPositionEmbs, MyClassToken\n",
    "import os\n",
    "import datetime\n",
    "from pathlib import Path\n",
    "\n",
    "os.environ['TF_CPP_MIN_LOG_LEVEL'] = '3'\n",
    "\n",
    "from keras.callbacks import TensorBoard\n",
    "from livelossplot import PlotLossesKerasTF\n",
    "from tensorflow.keras.optimizers import schedules\n",
    "from tensorflow.keras.optimizers import Adam\n",
    "\n",
    "from cfg import LOG_DIR\n",
    "from ml.models.MySimpleCNN_Feit import MySimpleCNNInceptionModule\n",
    "\n",
    "print(os.getcwd())\n",
    "os.chdir('/home/jelinek/recetox/')\n",
    "\n",
    "from ml.pipeline import FeitDataPipelineEncoderDecoder\n",
    "import tensorflow\n",
    "from tensorflow import keras\n",
    "\n",
    "tensorflow.compat.v1.disable_eager_execution()\n",
    "\n",
    "from keras_preprocessing.image import ImageDataGenerator\n",
    "\n",
    "name = 'MySimpleCNN_Autoencoder_ViT-pos-emb-v4'\n",
    "\n",
    "class MyAutoencoder(FeitDataPipelineEncoderDecoder):\n",
    "\n",
    "    def _train_model(self, data_train, data_valid):\n",
    "        raise NotImplementedError(\"This method is intentionally not implemented in this instance\")\n",
    "\n",
    "    def __init__(self, *args, **kwargs):\n",
    "\n",
    "        self.params.tile_size=128\n",
    "        super().__init__(*args, **kwargs)\n",
    "\n",
    "        self.params.latent_representation_size = 8*8\n",
    "        self.params.tile_size=128\n",
    "        self.params.name = name\n",
    "        self.params.epochs = 200\n",
    "        self.batch_size = 16\n",
    "        self.model = MyAutoencoder.get_model(self.params.latent_representation_size)\n",
    "        self.params.neighborhood_tiles = 2\n",
    "\n",
    "\n",
    "    def get_optimizer(self):\n",
    "        lr_schedule = schedules.ExponentialDecay(\n",
    "            initial_learning_rate=1e-2,\n",
    "            decay_steps=100,\n",
    "            decay_rate=0.1,\n",
    "            staircase= True)\n",
    "\n",
    "        return Adam(\n",
    "            # learning_rate=0.1,\n",
    "            learning_rate=lr_schedule,\n",
    "            beta_1=0.99,\n",
    "            beta_2=0.9999)\n",
    "\n",
    "    @staticmethod\n",
    "    def get_encoder(encoder_vector_length: int):\n",
    "\n",
    "        inputs = keras.Input(shape=(128, 128, 3))\n",
    "\n",
    "        x = MySimpleCNNInceptionModule.get_inception_module_dim_reduction(inputs,\n",
    "                                                                          filters_1=8,\n",
    "                                                                          filters_2=8)\n",
    "\n",
    "        x = keras.layers.MaxPooling2D(padding='same', pool_size=(2, 2))(x)\n",
    "        x = keras.layers.BatchNormalization(axis=3, epsilon=1.001e-5)(x)\n",
    "\n",
    "        x = MySimpleCNNInceptionModule.get_inception_module_dim_reduction(x,\n",
    "                                                                          filters_1=8,\n",
    "                                                                          filters_2=8)\n",
    "        x = keras.layers.MaxPooling2D(padding='same', pool_size=(2, 2))(x)\n",
    "        x = keras.layers.BatchNormalization(axis=3, epsilon=1.001e-5)(x)\n",
    "\n",
    "        x = MySimpleCNNInceptionModule.get_inception_module_dim_reduction(x,\n",
    "                                                                          filters_1=16,\n",
    "                                                                          filters_2=16)\n",
    "        x = keras.layers.MaxPooling2D(padding='same', pool_size=(2, 2))(x)\n",
    "        x = keras.layers.BatchNormalization(axis=3, epsilon=1.001e-5)(x)\n",
    "\n",
    "        x = MySimpleCNNInceptionModule.get_inception_module_dim_reduction(x,\n",
    "                                                                          filters_1=16,\n",
    "                                                                          filters_2=16)\n",
    "        x = keras.layers.MaxPooling2D(padding='same', pool_size=(2, 2))(x)\n",
    "        x = keras.layers.BatchNormalization(axis=3, epsilon=1.001e-5)(x)\n",
    "\n",
    "        x = MySimpleCNNInceptionModule.get_inception_module_dim_reduction(x,\n",
    "                                                                          filters_1=32,\n",
    "                                                                          filters_2=32)\n",
    "        x = keras.layers.MaxPooling2D(padding='same', pool_size=(2, 2))(x)\n",
    "        x = keras.layers.BatchNormalization(axis=3, epsilon=1.001e-5)(x)\n",
    "\n",
    "        x = keras.layers.Flatten()(x)\n",
    "\n",
    "        encoder = tensorflow.keras.layers.Flatten()(x)\n",
    "        encoder = tensorflow.keras.layers.Dense(encoder_vector_length)(encoder)\n",
    "\n",
    "        encoder_model = tensorflow.keras.Model(inputs, encoder)\n",
    "\n",
    "        return encoder_model, inputs\n",
    "\n",
    "    @staticmethod\n",
    "    def get_decoder(encoder_vector_length: int):\n",
    "        decoder_input = tensorflow.keras.layers.Input(shape=(encoder_vector_length,))\n",
    "\n",
    "        decoder = tensorflow.keras.layers.Dense(8 * 8, activation=\"relu\")(decoder_input)\n",
    "        decoder = tensorflow.keras.layers.Reshape((8, 8, 1))(decoder)\n",
    "        decoder = tensorflow.keras.layers.Conv2DTranspose(64, 3, activation=\"relu\", strides=2, padding=\"same\")(decoder)\n",
    "        decoder = tensorflow.keras.layers.Conv2DTranspose(32, 3, activation=\"relu\", strides=2, padding=\"same\")(decoder)\n",
    "        decoder = tensorflow.keras.layers.Conv2DTranspose(16, 3, activation=\"relu\", strides=2, padding=\"same\")(decoder)\n",
    "        decoder = tensorflow.keras.layers.Conv2DTranspose(8, 3, activation=\"relu\", strides=2, padding=\"same\")(decoder)\n",
    "        decoder = tensorflow.keras.layers.Conv2DTranspose(3, 1, activation=\"sigmoid\", strides=1, padding=\"same\")(decoder)\n",
    "\n",
    "        decoder_model = tensorflow.keras.Model(decoder_input, decoder)\n",
    "\n",
    "        return decoder_model\n",
    "\n",
    "\n",
    "    @staticmethod\n",
    "    def get_model(encoder_vector_length: int):\n",
    "        encoder_model, input_data = MyAutoencoder.get_encoder(encoder_vector_length)\n",
    "\n",
    "        decoder_model = MyAutoencoder.get_decoder(encoder_vector_length)\n",
    "\n",
    "        encoded = encoder_model(input_data)\n",
    "        decoded = decoder_model(encoded)\n",
    "\n",
    "        autoencoder = tensorflow.keras.models.Model(input_data, decoded)\n",
    "\n",
    "        autoencoder.compile(loss='mean_squared_error', optimizer='adam')\n",
    "\n",
    "        return autoencoder\n",
    "\n",
    "    def get_combinator_model(self):\n",
    "\n",
    "        inputs = [keras.Input(shape=(self.params.latent_representation_size, )) for i in range((self.params.neighborhood_tiles * 2 + 1) ** 2)]\n",
    "\n",
    "        reshaped = [keras.layers.Reshape((1, 64))(_input) for _input in inputs]\n",
    "        x = keras.layers.Concatenate(axis=1)(reshaped)\n",
    "\n",
    "        x = MyClassToken(name=\"class_token\")(x)\n",
    "        x = MyAddPositionEmbs(name=\"Transformer/posembed_input\")(x)\n",
    "\n",
    "        x, _ = MyTransformerBlock(num_heads=8, mlp_dim=8*8, dropout=0.1)(x)\n",
    "        x, _ = MyTransformerBlock(num_heads=8, mlp_dim=8*8, dropout=0.1)(x)\n",
    "\n",
    "        x, _ = MyTransformerBlock(num_heads=8, mlp_dim=8*8, dropout=0.1)(x)\n",
    "        x, _ = MyTransformerBlock(num_heads=8, mlp_dim=8*8, dropout=0.1)(x)\n",
    "\n",
    "        x, _ = MyTransformerBlock(num_heads=8, mlp_dim=8*8, dropout=0.1)(x)\n",
    "        x, _ = MyTransformerBlock(num_heads=8, mlp_dim=8*8, dropout=0.1)(x)\n",
    "\n",
    "        x, _ = MyTransformerBlock(num_heads=8, mlp_dim=8*8, dropout=0.1)(x)\n",
    "        x, _ = MyTransformerBlock(num_heads=8, mlp_dim=8*8, dropout=0.1)(x)\n",
    "\n",
    "        x = keras.layers.LayerNormalization(epsilon=1e-6, name=\"Transformer/encoder_norm\")(x)\n",
    "        x = keras.layers.Lambda(lambda v: v[:, 0], name=\"ExtractToken\")(x)\n",
    "        x = keras.layers.Dense(512, name=\"pre_logits\", activation=\"tanh\")(x)\n",
    "\n",
    "        output = keras.layers.Dense(units = 11, activation = 'softmax')(x)\n",
    "\n",
    "        neighborhood_model = keras.Model(inputs=inputs, outputs=output)\n",
    "        return neighborhood_model\n",
    "\n",
    "    def _train_model_ae_neighborhood(self, data_train_autoencoder, data_valid_autoencoder,\n",
    "                                            data_train_classifier, data_valid_classifier,\n",
    "                                           data_train_neighborhood, data_valid_neighborhood):\n",
    "\n",
    "        autoencoder = MyAutoencoder.get_model(encoder_vector_length=8*8)\n",
    "        autoencoder.fit(data_train_autoencoder, epochs=100, steps_per_epoch=100, validation_data=data_valid_autoencoder,\n",
    "                        validation_steps=self.params.batch_size * 5, validation_freq=10)\n",
    "\n",
    "\n",
    "        # MyAutoencoder.autoencoder_showcase(data_train_autoencoder, autoencoder)\n",
    "\n",
    "        inputs = autoencoder.input\n",
    "        outputs = autoencoder.layers[1].output\n",
    "\n",
    "        encoder_model = keras.Model(inputs, outputs, name=(self.params.name + '_encoder'))\n",
    "\n",
    "        neighborhood_networks = [MyAutoencoder._get_basic_layers(keras.models.clone_model(encoder_model), model_idx)\n",
    "                                 for model_idx in range((self.params.neighborhood_tiles * 2 + 1) ** 2)]\n",
    "        encoders_outputs = [model[1] for model in neighborhood_networks]\n",
    "        encoders_inputs = [model[0] for model in neighborhood_networks]\n",
    "\n",
    "        parallel_encoder_model = keras.Model(inputs=encoders_inputs, outputs=encoders_outputs)\n",
    "\n",
    "        neighbourhood_model = self.get_combinator_model()\n",
    "        output_probs = neighbourhood_model(encoders_outputs)\n",
    "\n",
    "        neighborhood_autoencoder_model = keras.Model(inputs=parallel_encoder_model.inputs, outputs=output_probs)\n",
    "        neighborhood_autoencoder_model.compile(loss='binary_crossentropy', optimizer='adam',\n",
    "                                               metrics=[keras.metrics.CategoricalAccuracy()])\n",
    "\n",
    "\n",
    "        tensorboard = TensorBoard(log_dir=LOG_DIR + datetime.datetime.now().strftime(\"%Y%m%d-%H%M%S\"))\n",
    "        neighborhood_autoencoder_model.fit(data_train_neighborhood,\n",
    "                       steps_per_epoch=250,\n",
    "                       epochs=100,\n",
    "                       shuffle=True,\n",
    "                       validation_data=data_valid_neighborhood, validation_steps=100,\n",
    "                       validation_freq=5,\n",
    "                       verbose=1,\n",
    "                       callbacks=[tensorboard, PlotLossesKerasTF()])\n",
    "\n",
    "        self.model = neighborhood_autoencoder_model\n",
    "        self.model.summary()\n",
    "        self.model_encoder = encoder_model\n",
    "        self.model_combinator = keras.Model(inputs = self.model.layers[-1].input, outputs = self.model.layers[-1].output)"
   ],
   "metadata": {
    "collapsed": false,
    "pycharm": {
     "name": "#%%\n"
    }
   }
  },
  {
   "cell_type": "code",
   "execution_count": 2,
   "outputs": [
    {
     "data": {
      "text/plain": "<Figure size 864x576 with 2 Axes>",
      "image/png": "[encoded data removed]"
     },
     "metadata": {
      "needs_background": "light"
     },
     "output_type": "display_data"
    },
    {
     "name": "stdout",
     "output_type": "stream",
     "text": [
      "categorical_accuracy\n",
      "\ttraining         \t (min:    0.423, max:    0.943, cur:    0.943)\n",
      "\tvalidation       \t (min:    0.797, max:    0.926, cur:    0.890)\n",
      "Loss\n",
      "\ttraining         \t (min:    0.027, max:    0.237, cur:    0.027)\n",
      "\tvalidation       \t (min:    0.034, max:    0.103, cur:    0.054)\n",
      "250/250 [==============================] - 185s 742ms/step - batch: 124.5000 - size: 32.0000 - loss: 0.0271 - categorical_accuracy: 0.9434 - val_loss: 0.0542 - val_categorical_accuracy: 0.8900\n"
     ]
    }
   ],
   "source": [
    "pipeline = MyAutoencoder(\n",
    "                         data_train_autoencoder='data/Feit_colon-annotation-tiles-128/data_train/',\n",
    "                         data_valid_autoencoder='data/Feit_colon-annotation-tiles-128/data_valid/',\n",
    "                         data_train_neighborhood='data/Feit_colon-annotation-tiles-128-2-neighbourhood/data_train',\n",
    "                         data_valid_neighborhood='data/Feit_colon-annotation-tiles-128-2-neighbourhood/data_valid',\n",
    "                         train_data_dir='data/Feit_colon-annotation-tiles-128/data_train/',\n",
    "                         valid_data_dir='data/Feit_colon-annotation-tiles-128/data_valid/')\n",
    "\n",
    "pipeline.execute_pipeline(perform_validation=False, perform_test_segmentation=False)"
   ],
   "metadata": {
    "collapsed": false,
    "pycharm": {
     "name": "#%%\n"
    }
   }
  },
  {
   "cell_type": "code",
   "execution_count": 3,
   "outputs": [],
   "source": [
    "pipeline.save_pipeline()"
   ],
   "metadata": {
    "collapsed": false,
    "pycharm": {
     "name": "#%%\n"
    }
   }
  },
  {
   "cell_type": "code",
   "execution_count": 5,
   "outputs": [
    {
     "name": "stdout",
     "output_type": "stream",
     "text": [
      "WARNING:tensorflow:From /home/jelinek/anaconda3/envs/recetox/lib/python3.8/site-packages/keras/layers/normalization/batch_normalization.py:532: _colocate_with (from tensorflow.python.framework.ops) is deprecated and will be removed in a future version.\n",
      "Instructions for updating:\n",
      "Colocations handled automatically by placer.\n",
      "WARNING:tensorflow:No training configuration found in the save file, so the model was *not* compiled. Compile it manually.\n",
      "WARNING:tensorflow:No training configuration found in the save file, so the model was *not* compiled. Compile it manually.\n"
     ]
    }
   ],
   "source": [
    "pipeline = FeitDataPipelineEncoderDecoder.load_pipeline(pipeline_name=name)"
   ],
   "metadata": {
    "collapsed": false,
    "pycharm": {
     "name": "#%%\n"
    }
   }
  },
  {
   "cell_type": "code",
   "execution_count": 5,
   "outputs": [
    {
     "name": "stdout",
     "output_type": "stream",
     "text": [
      "Measuring time\n",
      "--Iteration 10/10\r\n",
      "Batch size: 32\n",
      "Mean time per tile 3.4794ms\n",
      "Confusion Matrix\n",
      "[[ 723    3   14    0    0    0    2    0    0    0  146]\n",
      " [   5  142   41    0    3    0   16    2    0    0    5]\n",
      " [   5   15  337    0    6    0   17    5    0    0    5]\n",
      " [   0    0    0   22    1    0    0    0    0    0    0]\n",
      " [   0    3   13    0 1279    0    0    0    0    0    0]\n",
      " [   0    0    0    0    0    2    0    0    0    0    1]\n",
      " [   0    6   17    0    0    0  163    4    0    0    0]\n",
      " [   0    1    4    0    0    0   12  181    0    0    0]\n",
      " [   1    1    0    0    0    0    0    0    0    0    0]\n",
      " [   0    0    2    0    0    0    0    0    0    0    1]\n",
      " [  30    0    1    0    0    0    0    0    0    0  475]]\n",
      "Classification Report\n",
      "                             precision    recall  f1-score   support\n",
      "\n",
      "             adenocarcinoma       0.95      0.81      0.88       888\n",
      "          blood_and_vessels       0.83      0.66      0.74       214\n",
      "          connective_tissue       0.79      0.86      0.82       390\n",
      "                      empty       1.00      0.96      0.98        23\n",
      "                        fat       0.99      0.99      0.99      1295\n",
      "      inflammation_purulent       1.00      0.67      0.80         3\n",
      "       muscle_cross_section       0.78      0.86      0.81       190\n",
      "muscle_longitudinal_section       0.94      0.91      0.93       198\n",
      "                   necrosis       1.00      0.00      0.00         2\n",
      "                      nerve       1.00      0.00      0.00         3\n",
      "              normal_mucosa       0.75      0.94      0.83       506\n",
      "\n",
      "                   accuracy                           0.90      3712\n",
      "                  macro avg       0.91      0.70      0.71      3712\n",
      "               weighted avg       0.90      0.90      0.90      3712\n",
      "\n"
     ]
    }
   ],
   "source": [
    "from ml.eval import eval_model\n",
    "\n",
    "eval_model(pipeline.model,\n",
    "           pipeline.get_data_loader_validation_neighborhood(),\n",
    "           pipeline_name=name,\n",
    "           print_confusion_matrix=True,\n",
    "           save_misclassified=True)"
   ],
   "metadata": {
    "collapsed": false,
    "pycharm": {
     "name": "#%%\n"
    }
   }
  },
  {
   "cell_type": "code",
   "execution_count": 6,
   "outputs": [
    {
     "name": "stderr",
     "output_type": "stream",
     "text": [
      "/home/jelinek/anaconda3/envs/recetox/lib/python3.8/site-packages/keras/engine/training_v1.py:2079: UserWarning: `Model.state_updates` will be removed in a future version. This property should not be used in TensorFlow 2.0, as `updates` are applied automatically.\n",
      "  updates=self.state_updates,\n"
     ]
    },
    {
     "name": "stdout",
     "output_type": "stream",
     "text": [
      "Processing region 437 out of 437\n",
      "Post-processing image...\n",
      "Processing grid point 663499 out of 663499\n",
      "Processing image took 927.241527557373 seconds\n",
      "Saving file...\n",
      "File saved to segmentations/MySimpleCNN_Autoencoder_ViT-pos-emb-v4/ns-adenoca-colon-15071-2019-20x-he-4.tiff\n",
      "----------------------------------------------------\n",
      "Aggregated evaluation: \n",
      "[[18262     0     0     0 16642     0     0     0     0     0  5130]\n",
      " [    0     0     0     0     0     0     0     0     0     0     0]\n",
      " [ 1823     0     0     0   639     0     0     0     0     0  9839]\n",
      " [    0     0     0     0     0     0     0     0     0     0     0]\n",
      " [89142     0     0     0   140     0     0     0     0     0  4245]\n",
      " [  242     0     0     0   403     0     0     0     0     0  1182]\n",
      " [  217     0     0     0    59     0     0     0     0     0  4183]\n",
      " [  967     0     0     0  1111     0     0     0     0     0 16324]\n",
      " [    0     0     0     0     0     0     0     0     0     0     0]\n",
      " [    0     0     0     0     0     0     0     0     0     0     0]\n",
      " [    0     0     0     0     0     0     0     0     0     0     0]]\n",
      "                             precision    recall  f1-score   support\n",
      "\n",
      "             adenocarcinoma       0.17      0.46      0.24     40034\n",
      "          connective_tissue       1.00      0.00      0.00     12301\n",
      "                        fat       0.01      0.00      0.00     93527\n",
      "      inflammation_purulent       1.00      0.00      0.00      1827\n",
      "       muscle_cross_section       1.00      0.00      0.00      4459\n",
      "muscle_longitudinal_section       1.00      0.00      0.00     18402\n",
      "              normal_mucosa       0.00      1.00      0.00         0\n",
      "\n",
      "                   accuracy                           0.11    170550\n",
      "                  macro avg       0.60      0.21      0.03    170550\n",
      "               weighted avg       0.26      0.11      0.06    170550\n",
      "\n",
      "Jaccard score (aggregated): \n",
      "Vector:  [0.13790447 0.         0.00124576 0.         0.         0.\n",
      " 0.        ]\n",
      "Weighted:  0.03305411973693691\n",
      "\n",
      "\n",
      "******************************\n",
      "Evaluation for individual images: \n",
      "Evaluation for image ns-adenoca-colon-15071-2019-20x-he-4\n",
      "[[18262     0     0     0 16642     0     0     0     0     0  5130]\n",
      " [    0     0     0     0     0     0     0     0     0     0     0]\n",
      " [ 1823     0     0     0   639     0     0     0     0     0  9839]\n",
      " [    0     0     0     0     0     0     0     0     0     0     0]\n",
      " [89142     0     0     0   140     0     0     0     0     0  4245]\n",
      " [  242     0     0     0   403     0     0     0     0     0  1182]\n",
      " [  217     0     0     0    59     0     0     0     0     0  4183]\n",
      " [  967     0     0     0  1111     0     0     0     0     0 16324]\n",
      " [    0     0     0     0     0     0     0     0     0     0     0]\n",
      " [    0     0     0     0     0     0     0     0     0     0     0]\n",
      " [    0     0     0     0     0     0     0     0     0     0     0]]\n",
      "                             precision    recall  f1-score   support\n",
      "\n",
      "             adenocarcinoma       0.17      0.46      0.24     40034\n",
      "          connective_tissue       1.00      0.00      0.00     12301\n",
      "                        fat       0.01      0.00      0.00     93527\n",
      "      inflammation_purulent       1.00      0.00      0.00      1827\n",
      "       muscle_cross_section       1.00      0.00      0.00      4459\n",
      "muscle_longitudinal_section       1.00      0.00      0.00     18402\n",
      "              normal_mucosa       0.00      1.00      0.00         0\n",
      "\n",
      "                   accuracy                           0.11    170550\n",
      "                  macro avg       0.60      0.21      0.03    170550\n",
      "               weighted avg       0.26      0.11      0.06    170550\n",
      "\n",
      "Jaccard score (aggregated): \n",
      "Vector:  [0.13790447 0.         0.00124576 0.         0.         0.\n",
      " 0.        ]\n",
      "Weighted:  0.03305411973693691\n",
      "------------------------------\n",
      "\n"
     ]
    }
   ],
   "source": [
    "from ml.eval import evaluate_segmentation_on_feit_annotation\n",
    "\n",
    "evaluation_path = Path('data/Feit_colon-annotation_valid/ns-adenoca-colon-15071-2019-20x-he-4/')\n",
    "# evaluation_path = Path('data/Feit_colon-annotation_valid/')\n",
    "\n",
    "segmentation_dir = Path('segmentations') / pipeline.params.name\n",
    "\n",
    "evaluate_segmentation_on_feit_annotation(evaluation_path, pipeline.build_segmenter(),\n",
    "                                         32, pipeline.params.class_names,\n",
    "                                         save_segmentations=True, segmentations_dir=segmentation_dir,\n",
    "                                         neighbourhood_size=pipeline.params.neighborhood_tiles, combinator_model=pipeline.model_combinator,\n",
    "                                         combination_procedure='neural_networks')"
   ],
   "metadata": {
    "collapsed": false,
    "pycharm": {
     "name": "#%%\n"
    }
   }
  },
  {
   "cell_type": "code",
   "execution_count": 6,
   "outputs": [],
   "source": [],
   "metadata": {
    "collapsed": false,
    "pycharm": {
     "name": "#%%\n"
    }
   }
  }
 ],
 "metadata": {
  "kernelspec": {
   "display_name": "Python 3",
   "language": "python",
   "name": "python3"
  },
  "language_info": {
   "codemirror_mode": {
    "name": "ipython",
    "version": 3
   },
   "file_extension": ".py",
   "mimetype": "text/x-python",
   "name": "python",
   "nbconvert_exporter": "python",
   "pygments_lexer": "ipython3",
   "version": "3.6.9"
  }
 },
 "nbformat": 4,
 "nbformat_minor": 2
}