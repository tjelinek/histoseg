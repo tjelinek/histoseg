{
 "cells": [
  {
   "cell_type": "code",
   "execution_count": 1,
   "metadata": {
    "collapsed": true,
    "pycharm": {
     "name": "#%%\n"
    }
   },
   "outputs": [
    {
     "name": "stdout",
     "output_type": "stream",
     "text": [
      "/home/jelinek/recetox/src/notebooks/MyCNNInception\n"
     ]
    }
   ],
   "source": [
    "import os\n",
    "\n",
    "from keras_preprocessing.image import ImageDataGenerator\n",
    "\n",
    "os.environ['TF_CPP_MIN_LOG_LEVEL'] = '3'\n",
    "from ml.eval import eval_model\n",
    "from ml.pipeline import FeitDataPipeline\n",
    "from tensorflow import keras\n",
    "\n",
    "from tensorflow.keras.callbacks import ReduceLROnPlateau\n",
    "from tensorflow.keras.layers import concatenate\n",
    "\n",
    "from cfg import *\n",
    "\n",
    "from livelossplot import PlotLossesKerasTF\n",
    "\n",
    "print(os.getcwd())\n",
    "os.chdir('/home/jelinek/recetox/')\n",
    "\n",
    "name = \"MySimpleCnn_Feit-inception-v2-reduced-rgb\"\n"
   ]
  },
  {
   "cell_type": "code",
   "execution_count": 2,
   "metadata": {
    "pycharm": {
     "name": "#%%\n"
    }
   },
   "outputs": [],
   "source": [
    "class MySimpleCNNInceptionModule(FeitDataPipeline):\n",
    "\n",
    "    def __init__(self, *args, **kwargs):\n",
    "        super().__init__(*args, **kwargs)\n",
    "\n",
    "        self.model = self.get_compiled_model()\n",
    "        self.params.name = name\n",
    "        self.params.epochs = 200\n",
    "        self.batch_size = 16\n",
    "        self.params.tile_size=256\n",
    "\n",
    "    @staticmethod\n",
    "    def get_inception_module_dim_reduction(prev_layer, filters_1, filters_2):\n",
    "        c11 = keras.layers.Conv2D(filters=filters_1, kernel_size=(1,1), padding='same')(prev_layer)\n",
    "        c12 = keras.layers.Conv2D(filters=filters_2, kernel_size=(1,1), padding='same')(prev_layer)\n",
    "        c13 = keras.layers.Conv2D(filters=filters_1, kernel_size=(1,1), padding='same')(prev_layer)\n",
    "        p1 = keras.layers.MaxPooling2D(padding='same', strides=(1,1), pool_size=(3,3))(prev_layer)\n",
    "\n",
    "        c21 = keras.layers.Conv2D(filters=filters_2, kernel_size=(3,3), padding='same')(c12)\n",
    "        c22 = keras.layers.Conv2D(filters=filters_2, kernel_size=(5,5), padding='same')(c13)\n",
    "        c23 = keras.layers.Conv2D(filters=filters_2, kernel_size=(1,1), padding='same')(p1)\n",
    "\n",
    "        output_layer = concatenate([c11, c21, c22, c23], axis=-1)\n",
    "\n",
    "        return output_layer\n",
    "\n",
    "\n",
    "    @staticmethod\n",
    "    def get_compiled_model():\n",
    "        inputs = keras.Input(shape=(256, 256, 3))\n",
    "\n",
    "        x = MySimpleCNNInceptionModule.get_inception_module_dim_reduction(inputs,\n",
    "                                                filters_1=4,\n",
    "                                                filters_2=4)\n",
    "\n",
    "        x = keras.layers.MaxPooling2D(padding='same', pool_size=(2, 2))(x)\n",
    "        x = keras.layers.BatchNormalization(axis=3, epsilon=1.001e-5)(x)\n",
    "\n",
    "        x = MySimpleCNNInceptionModule.get_inception_module_dim_reduction(x,\n",
    "                                                filters_1=8,\n",
    "                                                filters_2=8)\n",
    "        x = keras.layers.MaxPooling2D(padding='same', pool_size=(2, 2))(x)\n",
    "        x = keras.layers.BatchNormalization(axis=3, epsilon=1.001e-5)(x)\n",
    "\n",
    "\n",
    "        x = MySimpleCNNInceptionModule.get_inception_module_dim_reduction(x,\n",
    "                                                filters_1=16,\n",
    "                                                filters_2=16)\n",
    "        x = keras.layers.MaxPooling2D(padding='same', pool_size=(2, 2))(x)\n",
    "        x = keras.layers.BatchNormalization(axis=3, epsilon=1.001e-5)(x)\n",
    "\n",
    "        x = MySimpleCNNInceptionModule.get_inception_module_dim_reduction(x,\n",
    "                                                filters_1=32,\n",
    "                                                filters_2=32)\n",
    "        x = keras.layers.MaxPooling2D(padding='same', pool_size=(2, 2))(x)\n",
    "        x = keras.layers.BatchNormalization(axis=3, epsilon=1.001e-5)(x)\n",
    "\n",
    "        x = MySimpleCNNInceptionModule.get_inception_module_dim_reduction(x,\n",
    "                                                filters_1=64,\n",
    "                                                filters_2=64)\n",
    "        x = keras.layers.MaxPooling2D(padding='same', pool_size=(2, 2))(x)\n",
    "        x = keras.layers.BatchNormalization(axis=3, epsilon=1.001e-5)(x)\n",
    "\n",
    "\n",
    "        x = MySimpleCNNInceptionModule.get_inception_module_dim_reduction(x,\n",
    "                                                filters_1=128,\n",
    "                                                filters_2=128)\n",
    "        x = keras.layers.MaxPooling2D(padding='same', pool_size=(2, 2))(x)\n",
    "        x = keras.layers.BatchNormalization(axis=3, epsilon=1.001e-5)(x)\n",
    "\n",
    "        x = keras.layers.Flatten()(x)\n",
    "        outputs = keras.layers.Dense(units=12, activation='softmax')(x)\n",
    "\n",
    "        model = keras.Model(inputs, outputs, name='MySimpleCnnFewerLayers')\n",
    "        model.summary()\n",
    "        return model\n",
    "\n",
    "    def get_data_loader_training(self):\n",
    "        datagen_train = ImageDataGenerator(horizontal_flip=True, vertical_flip=True, samplewise_center=True,\n",
    "                                           samplewise_std_normalization=True)\n",
    "\n",
    "        return datagen_train.flow_from_directory(directory=self.params.data_training, color_mode='rgb',\n",
    "                                                 class_mode='categorical', batch_size=self.params.batch_size,\n",
    "                                                 shuffle=True,\n",
    "                                                 target_size=(self.params.tile_size, self.params.tile_size))\n",
    "\n",
    "    def get_data_loader_validation(self):\n",
    "        datagen_valid = ImageDataGenerator(samplewise_center=True, samplewise_std_normalization=True)\n",
    "        return datagen_valid.flow_from_directory(directory=self.params.data_validation, color_mode='rgb',\n",
    "                                                 class_mode='categorical', batch_size=self.params.batch_size,\n",
    "                                                 shuffle=False,\n",
    "                                                 target_size=(self.params.tile_size, self.params.tile_size))\n",
    "\n",
    "\n",
    "    def _train_model(self, data_train, data_valid):\n",
    "\n",
    "        reduce_lr = ReduceLROnPlateau(monitor='val_loss', factor=0.1,\n",
    "                                      patience=30, min_lr=1e-4, verbose=1,\n",
    "                                      cooldown=20)\n",
    "\n",
    "        self.model.fit(data_train,\n",
    "                       steps_per_epoch=250,\n",
    "                       epochs=200,\n",
    "                       shuffle=True,\n",
    "                       validation_data=data_valid,\n",
    "                       validation_freq=10,\n",
    "                       verbose=1,\n",
    "                       callbacks=[self.tensorboard, reduce_lr, PlotLossesKerasTF()])"
   ]
  },
  {
   "cell_type": "code",
   "execution_count": 3,
   "metadata": {
    "pycharm": {
     "name": "#%%\n"
    }
   },
   "outputs": [
    {
     "name": "stderr",
     "output_type": "stream",
     "text": [
      "2022-02-23 13:33:40.969801: I tensorflow/stream_executor/cuda/cuda_gpu_executor.cc:937] successful NUMA node read from SysFS had negative value (-1), but there must be at least one NUMA node, so returning NUMA node zero\n",
      "2022-02-23 13:33:40.970000: I tensorflow/core/common_runtime/gpu/gpu_device.cc:1733] Found device 0 with properties: \n",
      "pciBusID: 0000:01:00.0 name: NVIDIA GeForce RTX 2080 Ti computeCapability: 7.5\n",
      "coreClock: 1.65GHz coreCount: 68 deviceMemorySize: 10.76GiB deviceMemoryBandwidth: 573.69GiB/s\n",
      "2022-02-23 13:33:40.970044: I tensorflow/stream_executor/platform/default/dso_loader.cc:53] Successfully opened dynamic library libcudart.so.11.0\n",
      "2022-02-23 13:33:40.973685: I tensorflow/stream_executor/platform/default/dso_loader.cc:53] Successfully opened dynamic library libcublas.so.11\n",
      "2022-02-23 13:33:40.973794: I tensorflow/stream_executor/platform/default/dso_loader.cc:53] Successfully opened dynamic library libcublasLt.so.11\n",
      "2022-02-23 13:33:40.999158: I tensorflow/stream_executor/platform/default/dso_loader.cc:53] Successfully opened dynamic library libcufft.so.10\n",
      "2022-02-23 13:33:41.000415: I tensorflow/stream_executor/platform/default/dso_loader.cc:53] Successfully opened dynamic library libcurand.so.10\n",
      "2022-02-23 13:33:41.001168: I tensorflow/stream_executor/platform/default/dso_loader.cc:53] Successfully opened dynamic library libcusolver.so.11\n",
      "2022-02-23 13:33:41.003827: I tensorflow/stream_executor/platform/default/dso_loader.cc:53] Successfully opened dynamic library libcusparse.so.11\n",
      "2022-02-23 13:33:41.004059: I tensorflow/stream_executor/platform/default/dso_loader.cc:53] Successfully opened dynamic library libcudnn.so.8\n",
      "2022-02-23 13:33:41.004182: I tensorflow/stream_executor/cuda/cuda_gpu_executor.cc:937] successful NUMA node read from SysFS had negative value (-1), but there must be at least one NUMA node, so returning NUMA node zero\n",
      "2022-02-23 13:33:41.004393: I tensorflow/stream_executor/cuda/cuda_gpu_executor.cc:937] successful NUMA node read from SysFS had negative value (-1), but there must be at least one NUMA node, so returning NUMA node zero\n",
      "2022-02-23 13:33:41.004511: I tensorflow/core/common_runtime/gpu/gpu_device.cc:1871] Adding visible gpu devices: 0\n",
      "2022-02-23 13:33:41.005178: I tensorflow/core/platform/cpu_feature_guard.cc:142] This TensorFlow binary is optimized with oneAPI Deep Neural Network Library (oneDNN) to use the following CPU instructions in performance-critical operations:  AVX2 FMA\n",
      "To enable them in other operations, rebuild TensorFlow with the appropriate compiler flags.\n",
      "2022-02-23 13:33:41.005497: I tensorflow/stream_executor/cuda/cuda_gpu_executor.cc:937] successful NUMA node read from SysFS had negative value (-1), but there must be at least one NUMA node, so returning NUMA node zero\n",
      "2022-02-23 13:33:41.005651: I tensorflow/core/common_runtime/gpu/gpu_device.cc:1733] Found device 0 with properties: \n",
      "pciBusID: 0000:01:00.0 name: NVIDIA GeForce RTX 2080 Ti computeCapability: 7.5\n",
      "coreClock: 1.65GHz coreCount: 68 deviceMemorySize: 10.76GiB deviceMemoryBandwidth: 573.69GiB/s\n",
      "2022-02-23 13:33:41.005754: I tensorflow/stream_executor/cuda/cuda_gpu_executor.cc:937] successful NUMA node read from SysFS had negative value (-1), but there must be at least one NUMA node, so returning NUMA node zero\n",
      "2022-02-23 13:33:41.005918: I tensorflow/stream_executor/cuda/cuda_gpu_executor.cc:937] successful NUMA node read from SysFS had negative value (-1), but there must be at least one NUMA node, so returning NUMA node zero\n",
      "2022-02-23 13:33:41.006028: I tensorflow/core/common_runtime/gpu/gpu_device.cc:1871] Adding visible gpu devices: 0\n",
      "2022-02-23 13:33:41.006077: I tensorflow/stream_executor/platform/default/dso_loader.cc:53] Successfully opened dynamic library libcudart.so.11.0\n",
      "2022-02-23 13:33:41.665167: I tensorflow/core/common_runtime/gpu/gpu_device.cc:1258] Device interconnect StreamExecutor with strength 1 edge matrix:\n",
      "2022-02-23 13:33:41.665189: I tensorflow/core/common_runtime/gpu/gpu_device.cc:1264]      0 \n",
      "2022-02-23 13:33:41.665196: I tensorflow/core/common_runtime/gpu/gpu_device.cc:1277] 0:   N \n",
      "2022-02-23 13:33:41.665390: I tensorflow/stream_executor/cuda/cuda_gpu_executor.cc:937] successful NUMA node read from SysFS had negative value (-1), but there must be at least one NUMA node, so returning NUMA node zero\n",
      "2022-02-23 13:33:41.665650: I tensorflow/stream_executor/cuda/cuda_gpu_executor.cc:937] successful NUMA node read from SysFS had negative value (-1), but there must be at least one NUMA node, so returning NUMA node zero\n",
      "2022-02-23 13:33:41.665829: I tensorflow/stream_executor/cuda/cuda_gpu_executor.cc:937] successful NUMA node read from SysFS had negative value (-1), but there must be at least one NUMA node, so returning NUMA node zero\n",
      "2022-02-23 13:33:41.665952: I tensorflow/core/common_runtime/gpu/gpu_device.cc:1418] Created TensorFlow device (/job:localhost/replica:0/task:0/device:GPU:0 with 8963 MB memory) -> physical GPU (device: 0, name: NVIDIA GeForce RTX 2080 Ti, pci bus id: 0000:01:00.0, compute capability: 7.5)\n"
     ]
    },
    {
     "name": "stdout",
     "output_type": "stream",
     "text": [
      "Model: \"MySimpleCnnFewerLayers\"\n",
      "__________________________________________________________________________________________________\n",
      "Layer (type)                    Output Shape         Param #     Connected to                     \n",
      "==================================================================================================\n",
      "input_1 (InputLayer)            [(None, 256, 256, 3) 0                                            \n",
      "__________________________________________________________________________________________________\n",
      "conv2d_1 (Conv2D)               (None, 256, 256, 4)  16          input_1[0][0]                    \n",
      "__________________________________________________________________________________________________\n",
      "conv2d_2 (Conv2D)               (None, 256, 256, 4)  16          input_1[0][0]                    \n",
      "__________________________________________________________________________________________________\n",
      "max_pooling2d (MaxPooling2D)    (None, 256, 256, 3)  0           input_1[0][0]                    \n",
      "__________________________________________________________________________________________________\n",
      "conv2d (Conv2D)                 (None, 256, 256, 4)  16          input_1[0][0]                    \n",
      "__________________________________________________________________________________________________\n",
      "conv2d_3 (Conv2D)               (None, 256, 256, 4)  148         conv2d_1[0][0]                   \n",
      "__________________________________________________________________________________________________\n",
      "conv2d_4 (Conv2D)               (None, 256, 256, 4)  404         conv2d_2[0][0]                   \n",
      "__________________________________________________________________________________________________\n",
      "conv2d_5 (Conv2D)               (None, 256, 256, 4)  16          max_pooling2d[0][0]              \n",
      "__________________________________________________________________________________________________\n",
      "concatenate (Concatenate)       (None, 256, 256, 16) 0           conv2d[0][0]                     \n",
      "                                                                 conv2d_3[0][0]                   \n",
      "                                                                 conv2d_4[0][0]                   \n",
      "                                                                 conv2d_5[0][0]                   \n",
      "__________________________________________________________________________________________________\n",
      "max_pooling2d_1 (MaxPooling2D)  (None, 128, 128, 16) 0           concatenate[0][0]                \n",
      "__________________________________________________________________________________________________\n",
      "batch_normalization (BatchNorma (None, 128, 128, 16) 64          max_pooling2d_1[0][0]            \n",
      "__________________________________________________________________________________________________\n",
      "conv2d_7 (Conv2D)               (None, 128, 128, 8)  136         batch_normalization[0][0]        \n",
      "__________________________________________________________________________________________________\n",
      "conv2d_8 (Conv2D)               (None, 128, 128, 8)  136         batch_normalization[0][0]        \n",
      "__________________________________________________________________________________________________\n",
      "max_pooling2d_2 (MaxPooling2D)  (None, 128, 128, 16) 0           batch_normalization[0][0]        \n",
      "__________________________________________________________________________________________________\n",
      "conv2d_6 (Conv2D)               (None, 128, 128, 8)  136         batch_normalization[0][0]        \n",
      "__________________________________________________________________________________________________\n",
      "conv2d_9 (Conv2D)               (None, 128, 128, 8)  584         conv2d_7[0][0]                   \n",
      "__________________________________________________________________________________________________\n",
      "conv2d_10 (Conv2D)              (None, 128, 128, 8)  1608        conv2d_8[0][0]                   \n",
      "__________________________________________________________________________________________________\n",
      "conv2d_11 (Conv2D)              (None, 128, 128, 8)  136         max_pooling2d_2[0][0]            \n",
      "__________________________________________________________________________________________________\n",
      "concatenate_1 (Concatenate)     (None, 128, 128, 32) 0           conv2d_6[0][0]                   \n",
      "                                                                 conv2d_9[0][0]                   \n",
      "                                                                 conv2d_10[0][0]                  \n",
      "                                                                 conv2d_11[0][0]                  \n",
      "__________________________________________________________________________________________________\n",
      "max_pooling2d_3 (MaxPooling2D)  (None, 64, 64, 32)   0           concatenate_1[0][0]              \n",
      "__________________________________________________________________________________________________\n",
      "batch_normalization_1 (BatchNor (None, 64, 64, 32)   128         max_pooling2d_3[0][0]            \n",
      "__________________________________________________________________________________________________\n",
      "conv2d_13 (Conv2D)              (None, 64, 64, 16)   528         batch_normalization_1[0][0]      \n",
      "__________________________________________________________________________________________________\n",
      "conv2d_14 (Conv2D)              (None, 64, 64, 16)   528         batch_normalization_1[0][0]      \n",
      "__________________________________________________________________________________________________\n",
      "max_pooling2d_4 (MaxPooling2D)  (None, 64, 64, 32)   0           batch_normalization_1[0][0]      \n",
      "__________________________________________________________________________________________________\n",
      "conv2d_12 (Conv2D)              (None, 64, 64, 16)   528         batch_normalization_1[0][0]      \n",
      "__________________________________________________________________________________________________\n",
      "conv2d_15 (Conv2D)              (None, 64, 64, 16)   2320        conv2d_13[0][0]                  \n",
      "__________________________________________________________________________________________________\n",
      "conv2d_16 (Conv2D)              (None, 64, 64, 16)   6416        conv2d_14[0][0]                  \n",
      "__________________________________________________________________________________________________\n",
      "conv2d_17 (Conv2D)              (None, 64, 64, 16)   528         max_pooling2d_4[0][0]            \n",
      "__________________________________________________________________________________________________\n",
      "concatenate_2 (Concatenate)     (None, 64, 64, 64)   0           conv2d_12[0][0]                  \n",
      "                                                                 conv2d_15[0][0]                  \n",
      "                                                                 conv2d_16[0][0]                  \n",
      "                                                                 conv2d_17[0][0]                  \n",
      "__________________________________________________________________________________________________\n",
      "max_pooling2d_5 (MaxPooling2D)  (None, 32, 32, 64)   0           concatenate_2[0][0]              \n",
      "__________________________________________________________________________________________________\n",
      "batch_normalization_2 (BatchNor (None, 32, 32, 64)   256         max_pooling2d_5[0][0]            \n",
      "__________________________________________________________________________________________________\n",
      "conv2d_19 (Conv2D)              (None, 32, 32, 32)   2080        batch_normalization_2[0][0]      \n",
      "__________________________________________________________________________________________________\n",
      "conv2d_20 (Conv2D)              (None, 32, 32, 32)   2080        batch_normalization_2[0][0]      \n",
      "__________________________________________________________________________________________________\n",
      "max_pooling2d_6 (MaxPooling2D)  (None, 32, 32, 64)   0           batch_normalization_2[0][0]      \n",
      "__________________________________________________________________________________________________\n",
      "conv2d_18 (Conv2D)              (None, 32, 32, 32)   2080        batch_normalization_2[0][0]      \n",
      "__________________________________________________________________________________________________\n",
      "conv2d_21 (Conv2D)              (None, 32, 32, 32)   9248        conv2d_19[0][0]                  \n",
      "__________________________________________________________________________________________________\n",
      "conv2d_22 (Conv2D)              (None, 32, 32, 32)   25632       conv2d_20[0][0]                  \n",
      "__________________________________________________________________________________________________\n",
      "conv2d_23 (Conv2D)              (None, 32, 32, 32)   2080        max_pooling2d_6[0][0]            \n",
      "__________________________________________________________________________________________________\n",
      "concatenate_3 (Concatenate)     (None, 32, 32, 128)  0           conv2d_18[0][0]                  \n",
      "                                                                 conv2d_21[0][0]                  \n",
      "                                                                 conv2d_22[0][0]                  \n",
      "                                                                 conv2d_23[0][0]                  \n",
      "__________________________________________________________________________________________________\n",
      "max_pooling2d_7 (MaxPooling2D)  (None, 16, 16, 128)  0           concatenate_3[0][0]              \n",
      "__________________________________________________________________________________________________\n",
      "batch_normalization_3 (BatchNor (None, 16, 16, 128)  512         max_pooling2d_7[0][0]            \n",
      "__________________________________________________________________________________________________\n",
      "conv2d_25 (Conv2D)              (None, 16, 16, 64)   8256        batch_normalization_3[0][0]      \n",
      "__________________________________________________________________________________________________\n",
      "conv2d_26 (Conv2D)              (None, 16, 16, 64)   8256        batch_normalization_3[0][0]      \n",
      "__________________________________________________________________________________________________\n",
      "max_pooling2d_8 (MaxPooling2D)  (None, 16, 16, 128)  0           batch_normalization_3[0][0]      \n",
      "__________________________________________________________________________________________________\n",
      "conv2d_24 (Conv2D)              (None, 16, 16, 64)   8256        batch_normalization_3[0][0]      \n",
      "__________________________________________________________________________________________________\n",
      "conv2d_27 (Conv2D)              (None, 16, 16, 64)   36928       conv2d_25[0][0]                  \n",
      "__________________________________________________________________________________________________\n",
      "conv2d_28 (Conv2D)              (None, 16, 16, 64)   102464      conv2d_26[0][0]                  \n",
      "__________________________________________________________________________________________________\n",
      "conv2d_29 (Conv2D)              (None, 16, 16, 64)   8256        max_pooling2d_8[0][0]            \n",
      "__________________________________________________________________________________________________\n",
      "concatenate_4 (Concatenate)     (None, 16, 16, 256)  0           conv2d_24[0][0]                  \n",
      "                                                                 conv2d_27[0][0]                  \n",
      "                                                                 conv2d_28[0][0]                  \n",
      "                                                                 conv2d_29[0][0]                  \n",
      "__________________________________________________________________________________________________\n",
      "max_pooling2d_9 (MaxPooling2D)  (None, 8, 8, 256)    0           concatenate_4[0][0]              \n",
      "__________________________________________________________________________________________________\n",
      "batch_normalization_4 (BatchNor (None, 8, 8, 256)    1024        max_pooling2d_9[0][0]            \n",
      "__________________________________________________________________________________________________\n",
      "conv2d_31 (Conv2D)              (None, 8, 8, 128)    32896       batch_normalization_4[0][0]      \n",
      "__________________________________________________________________________________________________\n",
      "conv2d_32 (Conv2D)              (None, 8, 8, 128)    32896       batch_normalization_4[0][0]      \n",
      "__________________________________________________________________________________________________\n",
      "max_pooling2d_10 (MaxPooling2D) (None, 8, 8, 256)    0           batch_normalization_4[0][0]      \n",
      "__________________________________________________________________________________________________\n",
      "conv2d_30 (Conv2D)              (None, 8, 8, 128)    32896       batch_normalization_4[0][0]      \n",
      "__________________________________________________________________________________________________\n",
      "conv2d_33 (Conv2D)              (None, 8, 8, 128)    147584      conv2d_31[0][0]                  \n",
      "__________________________________________________________________________________________________\n",
      "conv2d_34 (Conv2D)              (None, 8, 8, 128)    409728      conv2d_32[0][0]                  \n",
      "__________________________________________________________________________________________________\n",
      "conv2d_35 (Conv2D)              (None, 8, 8, 128)    32896       max_pooling2d_10[0][0]           \n",
      "__________________________________________________________________________________________________\n",
      "concatenate_5 (Concatenate)     (None, 8, 8, 512)    0           conv2d_30[0][0]                  \n",
      "                                                                 conv2d_33[0][0]                  \n",
      "                                                                 conv2d_34[0][0]                  \n",
      "                                                                 conv2d_35[0][0]                  \n",
      "__________________________________________________________________________________________________\n",
      "max_pooling2d_11 (MaxPooling2D) (None, 4, 4, 512)    0           concatenate_5[0][0]              \n",
      "__________________________________________________________________________________________________\n",
      "batch_normalization_5 (BatchNor (None, 4, 4, 512)    2048        max_pooling2d_11[0][0]           \n",
      "__________________________________________________________________________________________________\n",
      "flatten (Flatten)               (None, 8192)         0           batch_normalization_5[0][0]      \n",
      "__________________________________________________________________________________________________\n",
      "dense (Dense)                   (None, 12)           98316       flatten[0][0]                    \n",
      "==================================================================================================\n",
      "Total params: 1,021,060\n",
      "Trainable params: 1,019,044\n",
      "Non-trainable params: 2,016\n",
      "__________________________________________________________________________________________________\n"
     ]
    }
   ],
   "source": [
    "pipeline = MySimpleCNNInceptionModule(train_data_dir='data/Feit_colon-annotation-tiles-256/data_train/',\n",
    "                        valid_data_dir='data/Feit_colon-annotation-tiles-256/data_valid/')"
   ]
  },
  {
   "cell_type": "code",
   "execution_count": 4,
   "metadata": {
    "pycharm": {
     "name": "#%%\n"
    }
   },
   "outputs": [
    {
     "data": {
      "text/plain": "<Figure size 864x864 with 4 Axes>",
      "image/png": "[encoded data removed]"
     },
     "metadata": {
      "needs_background": "light"
     },
     "output_type": "display_data"
    },
    {
     "name": "stdout",
     "output_type": "stream",
     "text": [
      "categorical_accuracy\n",
      "\ttraining         \t (min:    0.738, max:    0.987, cur:    0.982)\n",
      "\tvalidation       \t (min:    0.854, max:    0.975, cur:    0.967)\n",
      "Loss\n",
      "\ttraining         \t (min:    0.040, max:    1.195, cur:    0.050)\n",
      "\tvalidation       \t (min:    0.083, max:    0.740, cur:    0.116)\n",
      "lr\n",
      "\tlr               \t (min:    0.001, max:    0.001, cur:    0.001)\n",
      "95/95 [==============================] - 5s 49ms/step - loss: 0.1159 - categorical_accuracy: 0.9674\n",
      "Measuring time\n",
      "--Iteration 10/10\r\n",
      "Batch size: 16\n",
      "Mean time per tile 0.4868ms\n",
      "Confusion Matrix\n",
      "[[330   0   0   0   2   0   0   0   0   0   2   1]\n",
      " [  5  51   5   0   2   0   1   0   0   0   0   0]\n",
      " [  2   1 141   0   1   0   0   0   0   0   0   0]\n",
      " [  0   0   0   9   1   0   1   0   0   0   0   0]\n",
      " [  1   0   0   1 542   0   0   0   0   0   0   0]\n",
      " [  0   0   0   0   0   1   0   0   0   0   0   0]\n",
      " [  1   6   1   0   0   0  69   0   0   0   0   0]\n",
      " [  1   1   2   0   0   0   1  81   0   0   0   0]\n",
      " [  0   0   0   0   0   0   0   0   1   0   0   0]\n",
      " [  0   1   0   0   0   0   0   0   0   0   0   0]\n",
      " [  9   0   0   0   0   0   0   0   0   0 225   0]\n",
      " [  0   0   0   0   0   0   0   0   0   0   0   6]]\n",
      "Classification Report\n",
      "                             precision    recall  f1-score   support\n",
      "\n",
      "             adenocarcinoma       0.95      0.99      0.96       335\n",
      "          blood_and_vessels       0.85      0.80      0.82        64\n",
      "          connective_tissue       0.95      0.97      0.96       145\n",
      "                      empty       0.90      0.82      0.86        11\n",
      "                        fat       0.99      1.00      0.99       544\n",
      "      inflammation_purulent       1.00      1.00      1.00         1\n",
      "       muscle_cross_section       0.96      0.90      0.93        77\n",
      "muscle_longitudinal_section       1.00      0.94      0.97        86\n",
      "                   necrosis       1.00      1.00      1.00         1\n",
      "                      nerve       1.00      0.00      0.00         1\n",
      "              normal_mucosa       0.99      0.96      0.98       234\n",
      "                    unknown       0.86      1.00      0.92         6\n",
      "\n",
      "                   accuracy                           0.97      1505\n",
      "                  macro avg       0.95      0.86      0.87      1505\n",
      "               weighted avg       0.97      0.97      0.97      1505\n",
      "\n"
     ]
    }
   ],
   "source": [
    "pipeline.execute_pipeline(perform_validation=True, perform_test_segmentation=False)"
   ]
  },
  {
   "cell_type": "code",
   "execution_count": 5,
   "metadata": {
    "pycharm": {
     "name": "#%%\n"
    }
   },
   "outputs": [],
   "source": [
    "pipeline.save_pipeline()"
   ]
  },
  {
   "cell_type": "code",
   "execution_count": 6,
   "outputs": [
    {
     "name": "stdout",
     "output_type": "stream",
     "text": [
      "Found 1505 images belonging to 12 classes.\n",
      "95/95 [==============================] - 5s 50ms/step - loss: 0.1159 - categorical_accuracy: 0.9674\n",
      "Measuring time\n",
      "--Iteration 10/10\r\n",
      "Batch size: 16\n",
      "Mean time per tile 0.4182ms\n",
      "Confusion Matrix\n",
      "[[330   0   0   0   2   0   0   0   0   0   2   1]\n",
      " [  5  51   5   0   2   0   1   0   0   0   0   0]\n",
      " [  2   1 141   0   1   0   0   0   0   0   0   0]\n",
      " [  0   0   0   9   1   0   1   0   0   0   0   0]\n",
      " [  1   0   0   1 542   0   0   0   0   0   0   0]\n",
      " [  0   0   0   0   0   1   0   0   0   0   0   0]\n",
      " [  1   6   1   0   0   0  69   0   0   0   0   0]\n",
      " [  1   1   2   0   0   0   1  81   0   0   0   0]\n",
      " [  0   0   0   0   0   0   0   0   1   0   0   0]\n",
      " [  0   1   0   0   0   0   0   0   0   0   0   0]\n",
      " [  9   0   0   0   0   0   0   0   0   0 225   0]\n",
      " [  0   0   0   0   0   0   0   0   0   0   0   6]]\n",
      "Classification Report\n",
      "                             precision    recall  f1-score   support\n",
      "\n",
      "             adenocarcinoma       0.95      0.99      0.96       335\n",
      "          blood_and_vessels       0.85      0.80      0.82        64\n",
      "          connective_tissue       0.95      0.97      0.96       145\n",
      "                      empty       0.90      0.82      0.86        11\n",
      "                        fat       0.99      1.00      0.99       544\n",
      "      inflammation_purulent       1.00      1.00      1.00         1\n",
      "       muscle_cross_section       0.96      0.90      0.93        77\n",
      "muscle_longitudinal_section       1.00      0.94      0.97        86\n",
      "                   necrosis       1.00      1.00      1.00         1\n",
      "                      nerve       1.00      0.00      0.00         1\n",
      "              normal_mucosa       0.99      0.96      0.98       234\n",
      "                    unknown       0.86      1.00      0.92         6\n",
      "\n",
      "                   accuracy                           0.97      1505\n",
      "                  macro avg       0.95      0.86      0.87      1505\n",
      "               weighted avg       0.97      0.97      0.97      1505\n",
      "\n"
     ]
    }
   ],
   "source": [
    "eval_model(pipeline.model,\n",
    "           pipeline.get_data_loader_validation(),\n",
    "           print_confusion_matrix=True,\n",
    "           pipeline_name=name,\n",
    "           save_misclassified=True)"
   ],
   "metadata": {
    "collapsed": false,
    "pycharm": {
     "name": "#%%\n"
    }
   }
  },
  {
   "cell_type": "code",
   "execution_count": 3,
   "metadata": {
    "pycharm": {
     "name": "#%%\n"
    }
   },
   "outputs": [],
   "source": [
    "pipeline = FeitDataPipeline.load_pipeline(pipeline_name=name)"
   ]
  },
  {
   "cell_type": "code",
   "execution_count": 4,
   "outputs": [
    {
     "name": "stdout",
     "output_type": "stream",
     "text": [
      "Processing region 1 out of 120"
     ]
    },
    {
     "ename": "ValueError",
     "evalue": "could not broadcast input array from shape (12) into shape (11)",
     "output_type": "error",
     "traceback": [
      "\u001B[0;31m---------------------------------------------------------------------------\u001B[0m",
      "\u001B[0;31mValueError\u001B[0m                                Traceback (most recent call last)",
      "\u001B[0;32m/tmp/ipykernel_7625/2953841916.py\u001B[0m in \u001B[0;36m<module>\u001B[0;34m\u001B[0m\n\u001B[1;32m      5\u001B[0m \u001B[0msegmentation_dir\u001B[0m \u001B[0;34m=\u001B[0m \u001B[0mPath\u001B[0m\u001B[0;34m(\u001B[0m\u001B[0;34m'segmentations'\u001B[0m\u001B[0;34m)\u001B[0m \u001B[0;34m/\u001B[0m \u001B[0mpipeline\u001B[0m\u001B[0;34m.\u001B[0m\u001B[0mparams\u001B[0m\u001B[0;34m.\u001B[0m\u001B[0mname\u001B[0m\u001B[0;34m\u001B[0m\u001B[0;34m\u001B[0m\u001B[0m\n\u001B[1;32m      6\u001B[0m \u001B[0;34m\u001B[0m\u001B[0m\n\u001B[0;32m----> 7\u001B[0;31m evaluate_segmentation_on_feit_annotation(evaluation_path, pipeline.build_segmenter(),\n\u001B[0m\u001B[1;32m      8\u001B[0m                                          \u001B[0;36m32\u001B[0m\u001B[0;34m,\u001B[0m \u001B[0mpipeline\u001B[0m\u001B[0;34m.\u001B[0m\u001B[0mparams\u001B[0m\u001B[0;34m.\u001B[0m\u001B[0mclass_names\u001B[0m\u001B[0;34m,\u001B[0m\u001B[0;34m\u001B[0m\u001B[0;34m\u001B[0m\u001B[0m\n\u001B[1;32m      9\u001B[0m                                          \u001B[0msave_segmentations\u001B[0m\u001B[0;34m=\u001B[0m\u001B[0;32mTrue\u001B[0m\u001B[0;34m,\u001B[0m \u001B[0msegmentations_dir\u001B[0m\u001B[0;34m=\u001B[0m\u001B[0msegmentation_dir\u001B[0m\u001B[0;34m,\u001B[0m\u001B[0;34m\u001B[0m\u001B[0;34m\u001B[0m\u001B[0m\n",
      "\u001B[0;32m~/recetox/src/ml/eval.py\u001B[0m in \u001B[0;36mevaluate_segmentation_on_feit_annotation\u001B[0;34m(data_validation, image_segmenter, step, class_names, save_segmentations, segmentations_dir, neighbourhood_size, combinator_model, combination_procedure, use_sampling)\u001B[0m\n\u001B[1;32m    239\u001B[0m                                                          combination_model=combinator_model)\n\u001B[1;32m    240\u001B[0m \u001B[0;34m\u001B[0m\u001B[0m\n\u001B[0;32m--> 241\u001B[0;31m             \u001B[0mprediction_grid\u001B[0m \u001B[0;34m=\u001B[0m \u001B[0msegmentation_algorithm\u001B[0m\u001B[0;34m.\u001B[0m\u001B[0mget_predictions_argmax_idx\u001B[0m\u001B[0;34m(\u001B[0m\u001B[0;34m)\u001B[0m\u001B[0;34m\u001B[0m\u001B[0;34m\u001B[0m\u001B[0m\n\u001B[0m\u001B[1;32m    242\u001B[0m             \u001B[0;32mif\u001B[0m \u001B[0msave_segmentations\u001B[0m\u001B[0;34m:\u001B[0m\u001B[0;34m\u001B[0m\u001B[0;34m\u001B[0m\u001B[0m\n\u001B[1;32m    243\u001B[0m                 \u001B[0msegmentation_algorithm\u001B[0m\u001B[0;34m.\u001B[0m\u001B[0msegmented_image_to_file\u001B[0m\u001B[0;34m(\u001B[0m\u001B[0msegmentations_dir\u001B[0m \u001B[0;34m/\u001B[0m \u001B[0mimg_path\u001B[0m\u001B[0;34m.\u001B[0m\u001B[0mname\u001B[0m\u001B[0;34m)\u001B[0m\u001B[0;34m\u001B[0m\u001B[0;34m\u001B[0m\u001B[0m\n",
      "\u001B[0;32m~/recetox/src/image/segmentation.py\u001B[0m in \u001B[0;36mget_predictions_argmax_idx\u001B[0;34m(self)\u001B[0m\n\u001B[1;32m    574\u001B[0m \u001B[0;34m\u001B[0m\u001B[0m\n\u001B[1;32m    575\u001B[0m     \u001B[0;32mdef\u001B[0m \u001B[0mget_predictions_argmax_idx\u001B[0m\u001B[0;34m(\u001B[0m\u001B[0mself\u001B[0m\u001B[0;34m)\u001B[0m\u001B[0;34m:\u001B[0m\u001B[0;34m\u001B[0m\u001B[0;34m\u001B[0m\u001B[0m\n\u001B[0;32m--> 576\u001B[0;31m         \u001B[0mpredictions\u001B[0m \u001B[0;34m=\u001B[0m \u001B[0mself\u001B[0m\u001B[0;34m.\u001B[0m\u001B[0mget_predictions\u001B[0m\u001B[0;34m(\u001B[0m\u001B[0;34m)\u001B[0m\u001B[0;34m\u001B[0m\u001B[0;34m\u001B[0m\u001B[0m\n\u001B[0m\u001B[1;32m    577\u001B[0m         \u001B[0;32mreturn\u001B[0m \u001B[0mnp\u001B[0m\u001B[0;34m.\u001B[0m\u001B[0margmax\u001B[0m\u001B[0;34m(\u001B[0m\u001B[0mpredictions\u001B[0m\u001B[0;34m,\u001B[0m \u001B[0maxis\u001B[0m\u001B[0;34m=\u001B[0m\u001B[0;36m2\u001B[0m\u001B[0;34m)\u001B[0m\u001B[0;34m\u001B[0m\u001B[0;34m\u001B[0m\u001B[0m\n\u001B[1;32m    578\u001B[0m \u001B[0;34m\u001B[0m\u001B[0m\n",
      "\u001B[0;32m~/recetox/src/image/segmentation.py\u001B[0m in \u001B[0;36mget_predictions\u001B[0;34m(self)\u001B[0m\n\u001B[1;32m    569\u001B[0m     \u001B[0;32mdef\u001B[0m \u001B[0mget_predictions\u001B[0m\u001B[0;34m(\u001B[0m\u001B[0mself\u001B[0m\u001B[0;34m)\u001B[0m \u001B[0;34m->\u001B[0m \u001B[0mnp\u001B[0m\u001B[0;34m.\u001B[0m\u001B[0mndarray\u001B[0m\u001B[0;34m:\u001B[0m\u001B[0;34m\u001B[0m\u001B[0;34m\u001B[0m\u001B[0m\n\u001B[1;32m    570\u001B[0m         \u001B[0;32mif\u001B[0m \u001B[0;32mnot\u001B[0m \u001B[0mself\u001B[0m\u001B[0;34m.\u001B[0m\u001B[0mprocessed\u001B[0m\u001B[0;34m:\u001B[0m\u001B[0;34m\u001B[0m\u001B[0;34m\u001B[0m\u001B[0m\n\u001B[0;32m--> 571\u001B[0;31m             \u001B[0mself\u001B[0m\u001B[0;34m.\u001B[0m\u001B[0m__process_image\u001B[0m\u001B[0;34m(\u001B[0m\u001B[0;34m)\u001B[0m\u001B[0;34m\u001B[0m\u001B[0;34m\u001B[0m\u001B[0m\n\u001B[0m\u001B[1;32m    572\u001B[0m \u001B[0;34m\u001B[0m\u001B[0m\n\u001B[1;32m    573\u001B[0m         \u001B[0;32mreturn\u001B[0m \u001B[0mself\u001B[0m\u001B[0;34m.\u001B[0m\u001B[0mmapping\u001B[0m\u001B[0;34m\u001B[0m\u001B[0;34m\u001B[0m\u001B[0m\n",
      "\u001B[0;32m~/recetox/src/image/segmentation.py\u001B[0m in \u001B[0;36m__process_image\u001B[0;34m(self)\u001B[0m\n\u001B[1;32m    418\u001B[0m             \u001B[0mmargins\u001B[0m \u001B[0;34m=\u001B[0m \u001B[0mMargins\u001B[0m\u001B[0;34m(\u001B[0m\u001B[0mhalf_tile_size\u001B[0m\u001B[0;34m,\u001B[0m \u001B[0mhalf_tile_size\u001B[0m\u001B[0;34m,\u001B[0m \u001B[0mhalf_tile_size\u001B[0m\u001B[0;34m,\u001B[0m \u001B[0mhalf_tile_size\u001B[0m\u001B[0;34m)\u001B[0m\u001B[0;34m\u001B[0m\u001B[0;34m\u001B[0m\u001B[0m\n\u001B[1;32m    419\u001B[0m \u001B[0;34m\u001B[0m\u001B[0m\n\u001B[0;32m--> 420\u001B[0;31m             \u001B[0mself\u001B[0m\u001B[0;34m.\u001B[0m\u001B[0m__grid_generation\u001B[0m\u001B[0;34m(\u001B[0m\u001B[0mregion_with_border\u001B[0m\u001B[0;34m,\u001B[0m \u001B[0mx\u001B[0m\u001B[0;34m,\u001B[0m \u001B[0my\u001B[0m\u001B[0;34m,\u001B[0m \u001B[0mmargins\u001B[0m\u001B[0;34m,\u001B[0m \u001B[0msampling\u001B[0m\u001B[0;34m=\u001B[0m\u001B[0mself\u001B[0m\u001B[0;34m.\u001B[0m\u001B[0msampling\u001B[0m\u001B[0;34m)\u001B[0m\u001B[0;34m\u001B[0m\u001B[0;34m\u001B[0m\u001B[0m\n\u001B[0m\u001B[1;32m    421\u001B[0m \u001B[0;34m\u001B[0m\u001B[0m\n\u001B[1;32m    422\u001B[0m             \u001B[0mtile_idx\u001B[0m \u001B[0;34m+=\u001B[0m \u001B[0;36m1\u001B[0m\u001B[0;34m\u001B[0m\u001B[0;34m\u001B[0m\u001B[0m\n",
      "\u001B[0;32m~/recetox/src/image/segmentation.py\u001B[0m in \u001B[0;36m__grid_generation\u001B[0;34m(self, region_numpy, x, y, margins, sampling)\u001B[0m\n\u001B[1;32m    505\u001B[0m         \"\"\"\n\u001B[1;32m    506\u001B[0m         \u001B[0msegmentation_algo\u001B[0m \u001B[0;34m=\u001B[0m \u001B[0mself\u001B[0m\u001B[0;34m.\u001B[0m\u001B[0m__build_small_slide_segmenter\u001B[0m\u001B[0;34m(\u001B[0m\u001B[0mregion_numpy\u001B[0m\u001B[0;34m,\u001B[0m \u001B[0mmargins\u001B[0m\u001B[0;34m)\u001B[0m\u001B[0;34m\u001B[0m\u001B[0;34m\u001B[0m\u001B[0m\n\u001B[0;32m--> 507\u001B[0;31m         \u001B[0mpredictions\u001B[0m \u001B[0;34m=\u001B[0m \u001B[0msegmentation_algo\u001B[0m\u001B[0;34m.\u001B[0m\u001B[0mget_predictions\u001B[0m\u001B[0;34m(\u001B[0m\u001B[0msampling\u001B[0m\u001B[0;34m=\u001B[0m\u001B[0msampling\u001B[0m\u001B[0;34m,\u001B[0m \u001B[0mcombine_neighbors\u001B[0m\u001B[0;34m=\u001B[0m\u001B[0;32mFalse\u001B[0m\u001B[0;34m)\u001B[0m\u001B[0;34m\u001B[0m\u001B[0;34m\u001B[0m\u001B[0m\n\u001B[0m\u001B[1;32m    508\u001B[0m \u001B[0;34m\u001B[0m\u001B[0m\n\u001B[1;32m    509\u001B[0m         \u001B[0mgrid_x\u001B[0m \u001B[0;34m=\u001B[0m \u001B[0mx\u001B[0m \u001B[0;34m//\u001B[0m \u001B[0mself\u001B[0m\u001B[0;34m.\u001B[0m\u001B[0mstep\u001B[0m\u001B[0;34m\u001B[0m\u001B[0;34m\u001B[0m\u001B[0m\n",
      "\u001B[0;32m~/recetox/src/image/segmentation.py\u001B[0m in \u001B[0;36mget_predictions\u001B[0;34m(self, combine_neighbors, sampling)\u001B[0m\n\u001B[1;32m    218\u001B[0m \u001B[0;34m\u001B[0m\u001B[0m\n\u001B[1;32m    219\u001B[0m                 \u001B[0;32mif\u001B[0m \u001B[0mlen\u001B[0m\u001B[0;34m(\u001B[0m\u001B[0mtile_stack\u001B[0m\u001B[0;34m)\u001B[0m \u001B[0;34m==\u001B[0m \u001B[0mself\u001B[0m\u001B[0;34m.\u001B[0m\u001B[0msegmentation_batch_size\u001B[0m\u001B[0;34m:\u001B[0m\u001B[0;34m\u001B[0m\u001B[0;34m\u001B[0m\u001B[0m\n\u001B[0;32m--> 220\u001B[0;31m                     \u001B[0mself\u001B[0m\u001B[0;34m.\u001B[0m\u001B[0m__predict_tile_stack\u001B[0m\u001B[0;34m(\u001B[0m\u001B[0mtile_stack\u001B[0m\u001B[0;34m,\u001B[0m \u001B[0mtile_coords_stack\u001B[0m\u001B[0;34m)\u001B[0m\u001B[0;34m\u001B[0m\u001B[0;34m\u001B[0m\u001B[0m\n\u001B[0m\u001B[1;32m    221\u001B[0m                     \u001B[0mtile_stack\u001B[0m\u001B[0;34m.\u001B[0m\u001B[0mclear\u001B[0m\u001B[0;34m(\u001B[0m\u001B[0;34m)\u001B[0m\u001B[0;34m\u001B[0m\u001B[0;34m\u001B[0m\u001B[0m\n\u001B[1;32m    222\u001B[0m                     \u001B[0mtile_coords_stack\u001B[0m\u001B[0;34m.\u001B[0m\u001B[0mclear\u001B[0m\u001B[0;34m(\u001B[0m\u001B[0;34m)\u001B[0m\u001B[0;34m\u001B[0m\u001B[0;34m\u001B[0m\u001B[0m\n",
      "\u001B[0;32m~/recetox/src/image/segmentation.py\u001B[0m in \u001B[0;36m__predict_tile_stack\u001B[0;34m(self, tile_stack, tile_coords_stack)\u001B[0m\n\u001B[1;32m    324\u001B[0m             \u001B[0mclf_input\u001B[0m \u001B[0;34m=\u001B[0m \u001B[0mnext\u001B[0m\u001B[0;34m(\u001B[0m\u001B[0minput_generator\u001B[0m\u001B[0;34m)\u001B[0m\u001B[0;34m\u001B[0m\u001B[0;34m\u001B[0m\u001B[0m\n\u001B[1;32m    325\u001B[0m             \u001B[0my_batch_pred\u001B[0m \u001B[0;34m=\u001B[0m \u001B[0mself\u001B[0m\u001B[0;34m.\u001B[0m\u001B[0mmodel\u001B[0m\u001B[0;34m.\u001B[0m\u001B[0mpredict\u001B[0m\u001B[0;34m(\u001B[0m\u001B[0mclf_input\u001B[0m\u001B[0;34m)\u001B[0m\u001B[0;34m\u001B[0m\u001B[0;34m\u001B[0m\u001B[0m\n\u001B[0;32m--> 326\u001B[0;31m             \u001B[0mself\u001B[0m\u001B[0;34m.\u001B[0m\u001B[0m__update_mapping\u001B[0m\u001B[0;34m(\u001B[0m\u001B[0mtile_coords_stack\u001B[0m\u001B[0;34m,\u001B[0m \u001B[0my_batch_pred\u001B[0m\u001B[0;34m)\u001B[0m\u001B[0;34m\u001B[0m\u001B[0;34m\u001B[0m\u001B[0m\n\u001B[0m\u001B[1;32m    327\u001B[0m \u001B[0;34m\u001B[0m\u001B[0m\n\u001B[1;32m    328\u001B[0m             \u001B[0;32mreturn\u001B[0m \u001B[0my_batch_pred\u001B[0m\u001B[0;34m\u001B[0m\u001B[0;34m\u001B[0m\u001B[0m\n",
      "\u001B[0;32m~/recetox/src/image/segmentation.py\u001B[0m in \u001B[0;36m__update_mapping\u001B[0;34m(self, tile_coords_stack, y_batch_pred)\u001B[0m\n\u001B[1;32m    191\u001B[0m                 \u001B[0mclass_index\u001B[0m \u001B[0;34m=\u001B[0m \u001B[0mnp\u001B[0m\u001B[0;34m.\u001B[0m\u001B[0margmax\u001B[0m\u001B[0;34m(\u001B[0m\u001B[0my_pred\u001B[0m\u001B[0;34m)\u001B[0m\u001B[0;34m\u001B[0m\u001B[0;34m\u001B[0m\u001B[0m\n\u001B[1;32m    192\u001B[0m                 \u001B[0mself\u001B[0m\u001B[0;34m.\u001B[0m\u001B[0mmapping_votes\u001B[0m\u001B[0;34m[\u001B[0m\u001B[0mgrid_x\u001B[0m\u001B[0;34m,\u001B[0m \u001B[0mgrid_y\u001B[0m\u001B[0;34m,\u001B[0m \u001B[0mclass_index\u001B[0m\u001B[0;34m]\u001B[0m \u001B[0;34m+=\u001B[0m \u001B[0;36m1\u001B[0m\u001B[0;34m\u001B[0m\u001B[0;34m\u001B[0m\u001B[0m\n\u001B[0;32m--> 193\u001B[0;31m             \u001B[0mself\u001B[0m\u001B[0;34m.\u001B[0m\u001B[0mmapping\u001B[0m\u001B[0;34m[\u001B[0m\u001B[0mgrid_x\u001B[0m\u001B[0;34m,\u001B[0m \u001B[0mgrid_y\u001B[0m\u001B[0;34m]\u001B[0m \u001B[0;34m=\u001B[0m \u001B[0my_pred\u001B[0m\u001B[0;34m\u001B[0m\u001B[0;34m\u001B[0m\u001B[0m\n\u001B[0m\u001B[1;32m    194\u001B[0m \u001B[0;34m\u001B[0m\u001B[0m\n\u001B[1;32m    195\u001B[0m     \u001B[0;32mdef\u001B[0m \u001B[0mget_predictions\u001B[0m\u001B[0;34m(\u001B[0m\u001B[0mself\u001B[0m\u001B[0;34m,\u001B[0m \u001B[0mcombine_neighbors\u001B[0m\u001B[0;34m=\u001B[0m\u001B[0;32mTrue\u001B[0m\u001B[0;34m,\u001B[0m \u001B[0msampling\u001B[0m\u001B[0;34m=\u001B[0m\u001B[0;32mFalse\u001B[0m\u001B[0;34m)\u001B[0m \u001B[0;34m->\u001B[0m \u001B[0mnp\u001B[0m\u001B[0;34m.\u001B[0m\u001B[0mndarray\u001B[0m\u001B[0;34m:\u001B[0m\u001B[0;34m\u001B[0m\u001B[0;34m\u001B[0m\u001B[0m\n",
      "\u001B[0;31mValueError\u001B[0m: could not broadcast input array from shape (12) into shape (11)"
     ]
    }
   ],
   "source": [
    "from ml.eval import evaluate_segmentation_on_feit_annotation\n",
    "\n",
    "evaluation_path = Path('data/Feit_colon-annotation_valid/')\n",
    "\n",
    "segmentation_dir = Path('segmentations') / pipeline.params.name\n",
    "\n",
    "evaluate_segmentation_on_feit_annotation(evaluation_path, pipeline.build_segmenter(),\n",
    "                                         32, pipeline.params.class_names,\n",
    "                                         save_segmentations=True, segmentations_dir=segmentation_dir,\n",
    "                                         neighbourhood_size=1, include_unknown=False)"
   ],
   "metadata": {
    "collapsed": false,
    "pycharm": {
     "name": "#%%\n"
    }
   }
  },
  {
   "cell_type": "code",
   "execution_count": null,
   "outputs": [],
   "source": [],
   "metadata": {
    "collapsed": false,
    "pycharm": {
     "name": "#%%\n"
    }
   }
  }
 ],
 "metadata": {
  "kernelspec": {
   "name": "python3",
   "language": "python",
   "display_name": "Python 3"
  },
  "language_info": {
   "codemirror_mode": {
    "name": "ipython",
    "version": 3
   },
   "file_extension": ".py",
   "mimetype": "text/x-python",
   "name": "python",
   "nbconvert_exporter": "python",
   "pygments_lexer": "ipython3",
   "version": "3.6.10"
  }
 },
 "nbformat": 4,
 "nbformat_minor": 1
}