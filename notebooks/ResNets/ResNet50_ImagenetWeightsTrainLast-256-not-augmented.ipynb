{
 "cells": [
  {
   "cell_type": "code",
   "execution_count": 1,
   "metadata": {
    "pycharm": {
     "name": "#%%\n"
    }
   },
   "outputs": [
    {
     "name": "stderr",
     "output_type": "stream",
     "text": [
      "2022-02-15 09:11:09.902248: I tensorflow/stream_executor/platform/default/dso_loader.cc:53] Successfully opened dynamic library libcudart.so.11.0\n",
      "2022-02-15 09:11:12.247885: I tensorflow/core/profiler/lib/profiler_session.cc:126] Profiler session initializing.\n",
      "2022-02-15 09:11:12.248209: I tensorflow/core/profiler/lib/profiler_session.cc:141] Profiler session started.\n",
      "2022-02-15 09:11:12.257656: I tensorflow/stream_executor/platform/default/dso_loader.cc:53] Successfully opened dynamic library libcuda.so.1\n",
      "2022-02-15 09:11:12.326587: I tensorflow/core/profiler/internal/gpu/cupti_tracer.cc:1611] Profiler found 1 GPUs\n",
      "2022-02-15 09:11:12.326946: W tensorflow/stream_executor/platform/default/dso_loader.cc:64] Could not load dynamic library 'libcupti.so.11.2'; dlerror: libcupti.so.11.2: cannot open shared object file: No such file or directory\n",
      "2022-02-15 09:11:12.337187: I tensorflow/stream_executor/platform/default/dso_loader.cc:53] Successfully opened dynamic library libcupti.so\n",
      "2022-02-15 09:11:12.347536: I tensorflow/core/profiler/lib/profiler_session.cc:159] Profiler session tear down.\n",
      "2022-02-15 09:11:12.347655: I tensorflow/core/profiler/internal/gpu/cupti_tracer.cc:1743] CUPTI activity buffer flushed\n"
     ]
    },
    {
     "name": "stdout",
     "output_type": "stream",
     "text": [
      "/home/jelinek/recetox/src/notebooks\n"
     ]
    }
   ],
   "source": [
    "from image.segmentation import BasicImageSegmenter\n",
    "from ml.eval import eval_model\n",
    "from ml.pipeline import FeitDataPipeline\n",
    "\n",
    "from tensorflow.keras.applications import ResNet50\n",
    "\n",
    "from tensorflow.keras.optimizers import Adam\n",
    "from tensorflow.keras.optimizers import schedules\n",
    "\n",
    "from tensorflow.keras.callbacks import ReduceLROnPlateau\n",
    "\n",
    "from tensorflow import keras\n",
    "\n",
    "from cfg import *\n",
    "\n",
    "from livelossplot import PlotLossesKerasTF\n",
    "\n",
    "import os\n",
    "print(os.getcwd())\n",
    "os.chdir('/home/jelinek/recetox/')\n",
    "\n",
    "\n",
    "model_name = 'ResNet50_ImagenetWeightsTrainLast-256'"
   ]
  },
  {
   "cell_type": "code",
   "execution_count": 2,
   "metadata": {
    "pycharm": {
     "name": "#%%\n"
    }
   },
   "outputs": [],
   "source": [
    "from tensorflow.python.keras.preprocessing.image import ImageDataGenerator\n",
    "\n",
    "\n",
    "class MyResNet50(FeitDataPipeline):\n",
    "\n",
    "    def __init__(self, *args, **kwargs):\n",
    "        super().__init__(*args, **kwargs)\n",
    "\n",
    "        self.model = self.get_compiled_model()\n",
    "        self.params. name = model_name\n",
    "        self.params.batch_size = 16\n",
    "        self.params.tile_size = 256\n",
    "\n",
    "        lr_schedule = schedules.ExponentialDecay(\n",
    "                        initial_learning_rate=1e-1,\n",
    "                        decay_steps=80,\n",
    "                        decay_rate=0.1,\n",
    "                        staircase=True)\n",
    "\n",
    "        self.optimizer = ( Adam(\n",
    "            learning_rate=lr_schedule,\n",
    "            beta_1=0.99,\n",
    "            beta_2=0.9999))\n",
    "\n",
    "    # def get_data_loader_training(self):\n",
    "    #     datagen_train = ImageDataGenerator(horizontal_flip=True, vertical_flip=True, samplewise_center=True,\n",
    "    #                                        samplewise_std_normalization=True, height_shift_range=0.25, width_shift_range=0.25,\n",
    "    #                                        zoom_range=0.25, rotation_range=30)\n",
    "    #\n",
    "    #     return datagen_train.flow_from_directory(directory=self.params.data_training, color_mode='rgb',\n",
    "    #                                          class_mode='categorical', batch_size=self.params.batch_size,\n",
    "    #                                          shuffle=True,\n",
    "    #                                          target_size=(self.params.tile_size, self.params.tile_size))\n",
    "    #\n",
    "    # def get_data_loader_validation(self):\n",
    "    #     datagen_valid = ImageDataGenerator(samplewise_center=True, samplewise_std_normalization=True)\n",
    "    #     return datagen_valid.flow_from_directory(directory=self.params.data_validation, color_mode='rgb',\n",
    "    #                                              class_mode='categorical', batch_size=self.params.batch_size,\n",
    "    #                                              shuffle=False,\n",
    "    #                                              target_size=(self.params.tile_size, self.params.tile_size))\n",
    "\n",
    "    def get_datagen_segmentation(self):\n",
    "        return ImageDataGenerator(samplewise_center=True, samplewise_std_normalization=True)\n",
    "\n",
    "\n",
    "    @staticmethod\n",
    "    def get_compiled_model():\n",
    "        base_model = ResNet50(include_top=False,\n",
    "                      input_shape=(256, 256, 3),\n",
    "                      weights='imagenet',\n",
    "                      pooling=None\n",
    "                      )\n",
    "        base_model.trainable = False\n",
    "\n",
    "        inputs = keras.Input(shape=(256, 256, 3))\n",
    "        x = base_model(inputs, training=False)\n",
    "        x = keras.layers.GlobalAveragePooling2D(name='avg_pool')(x)\n",
    "        outputs = keras.layers.Dense(12, activation='softmax', name='probs')(x)\n",
    "\n",
    "        model = keras.Model(inputs, outputs)\n",
    "\n",
    "        return model\n",
    "\n",
    "    def _train_model(self, data_train, data_valid):\n",
    "\n",
    "        reduce_lr = ReduceLROnPlateau(monitor='val_loss', factor=0.1,\n",
    "                                      patience=30, min_lr=1e-4, verbose=1,\n",
    "                                      cooldown=20)\n",
    "\n",
    "        self.model.fit(data_train,\n",
    "                       steps_per_epoch=250,\n",
    "                       epochs=100,\n",
    "                       shuffle=True,\n",
    "                       validation_data=data_valid,\n",
    "                       validation_freq=5,\n",
    "                       verbose=1,\n",
    "                       callbacks=[self.tensorboard, reduce_lr, PlotLossesKerasTF()])"
   ]
  },
  {
   "cell_type": "code",
   "execution_count": 3,
   "metadata": {
    "pycharm": {
     "name": "#%%\n"
    }
   },
   "outputs": [
    {
     "data": {
      "text/plain": "<Figure size 864x864 with 4 Axes>",
      "image/png": "[encoded data removed]"
     },
     "metadata": {
      "needs_background": "light"
     },
     "output_type": "display_data"
    },
    {
     "name": "stdout",
     "output_type": "stream",
     "text": [
      "categorical_accuracy\n",
      "\ttraining         \t (min:    0.787, max:    0.955, cur:    0.944)\n",
      "\tvalidation       \t (min:    0.899, max:    0.941, cur:    0.940)\n",
      "Loss\n",
      "\ttraining         \t (min:    0.132, max:    0.690, cur:    0.161)\n",
      "\tvalidation       \t (min:    0.193, max:    0.329, cur:    0.194)\n",
      "lr\n",
      "\tlr               \t (min:    0.001, max:    0.001, cur:    0.001)\n",
      "95/95 [==============================] - 5s 51ms/step - loss: 0.1941 - categorical_accuracy: 0.9395\n",
      "Measuring time\n",
      "--Iteration 10/10\r\n",
      "Batch size: 16\n",
      "Mean time per tile 1.0711ms\n",
      "Confusion Matrix\n",
      "[[319   1   3   0   2   0   0   0   0   0   9   1]\n",
      " [  4  46   8   1   1   0   1   1   0   0   2   0]\n",
      " [  1   5 134   0   1   0   2   2   0   0   0   0]\n",
      " [  0   1   0  10   0   0   0   0   0   0   0   0]\n",
      " [  1   0   0   1 542   0   0   0   0   0   0   0]\n",
      " [  1   0   0   0   0   0   0   0   0   0   0   0]\n",
      " [  1   0   5   0   0   0  70   1   0   0   0   0]\n",
      " [  0   0   6   0   0   0   0  79   0   0   1   0]\n",
      " [  0   0   0   0   0   0   0   0   1   0   0   0]\n",
      " [  0   0   1   0   0   0   0   0   0   0   0   0]\n",
      " [ 20   1   1   0   1   0   1   1   0   0 209   0]\n",
      " [  0   0   0   0   0   0   0   0   0   0   2   4]]\n",
      "Classification Report\n",
      "                             precision    recall  f1-score   support\n",
      "\n",
      "             adenocarcinoma       0.92      0.95      0.94       335\n",
      "          blood_and_vessels       0.85      0.72      0.78        64\n",
      "          connective_tissue       0.85      0.92      0.88       145\n",
      "                      empty       0.83      0.91      0.87        11\n",
      "                        fat       0.99      1.00      0.99       544\n",
      "      inflammation_purulent       1.00      0.00      0.00         1\n",
      "       muscle_cross_section       0.95      0.91      0.93        77\n",
      "muscle_longitudinal_section       0.94      0.92      0.93        86\n",
      "                   necrosis       1.00      1.00      1.00         1\n",
      "                      nerve       1.00      0.00      0.00         1\n",
      "              normal_mucosa       0.94      0.89      0.91       234\n",
      "                    unknown       0.80      0.67      0.73         6\n",
      "\n",
      "                   accuracy                           0.94      1505\n",
      "                  macro avg       0.92      0.74      0.75      1505\n",
      "               weighted avg       0.94      0.94      0.94      1505\n",
      "\n"
     ]
    }
   ],
   "source": [
    "pipeline = MyResNet50(train_data_dir='data/Feit_colon-annotation-tiles-256/data_train/',\n",
    "                      valid_data_dir='data/Feit_colon-annotation-tiles-256/data_valid/')\n",
    "\n",
    "pipeline.execute_pipeline(perform_validation=True, perform_test_segmentation=False)"
   ]
  },
  {
   "cell_type": "code",
   "execution_count": 4,
   "metadata": {
    "pycharm": {
     "name": "#%%\n"
    }
   },
   "outputs": [
    {
     "name": "stderr",
     "output_type": "stream",
     "text": [
      "/home/jelinek/anaconda3/envs/recetox/lib/python3.8/site-packages/tensorflow/python/keras/utils/generic_utils.py:494: CustomMaskWarning: Custom mask layers require a config and must override get_config. When loading, the custom mask layer must be passed to the custom_objects argument.\n",
      "  warnings.warn('Custom mask layers require a config and must override '\n"
     ]
    }
   ],
   "source": [
    "pipeline.save_pipeline()"
   ]
  },
  {
   "cell_type": "code",
   "execution_count": 5,
   "outputs": [
    {
     "name": "stdout",
     "output_type": "stream",
     "text": [
      "Found 1505 images belonging to 12 classes.\n",
      "95/95 [==============================] - 5s 51ms/step - loss: 0.1941 - categorical_accuracy: 0.9395\n",
      "Measuring time\n",
      "--Iteration 10/10\r\n",
      "Batch size: 16\n",
      "Mean time per tile 0.9700ms\n",
      "Confusion Matrix\n",
      "[[319   1   3   0   2   0   0   0   0   0   9   1]\n",
      " [  4  46   8   1   1   0   1   1   0   0   2   0]\n",
      " [  1   5 134   0   1   0   2   2   0   0   0   0]\n",
      " [  0   1   0  10   0   0   0   0   0   0   0   0]\n",
      " [  1   0   0   1 542   0   0   0   0   0   0   0]\n",
      " [  1   0   0   0   0   0   0   0   0   0   0   0]\n",
      " [  1   0   5   0   0   0  70   1   0   0   0   0]\n",
      " [  0   0   6   0   0   0   0  79   0   0   1   0]\n",
      " [  0   0   0   0   0   0   0   0   1   0   0   0]\n",
      " [  0   0   1   0   0   0   0   0   0   0   0   0]\n",
      " [ 20   1   1   0   1   0   1   1   0   0 209   0]\n",
      " [  0   0   0   0   0   0   0   0   0   0   2   4]]\n",
      "Classification Report\n",
      "                             precision    recall  f1-score   support\n",
      "\n",
      "             adenocarcinoma       0.92      0.95      0.94       335\n",
      "          blood_and_vessels       0.85      0.72      0.78        64\n",
      "          connective_tissue       0.85      0.92      0.88       145\n",
      "                      empty       0.83      0.91      0.87        11\n",
      "                        fat       0.99      1.00      0.99       544\n",
      "      inflammation_purulent       1.00      0.00      0.00         1\n",
      "       muscle_cross_section       0.95      0.91      0.93        77\n",
      "muscle_longitudinal_section       0.94      0.92      0.93        86\n",
      "                   necrosis       1.00      1.00      1.00         1\n",
      "                      nerve       1.00      0.00      0.00         1\n",
      "              normal_mucosa       0.94      0.89      0.91       234\n",
      "                    unknown       0.80      0.67      0.73         6\n",
      "\n",
      "                   accuracy                           0.94      1505\n",
      "                  macro avg       0.92      0.74      0.75      1505\n",
      "               weighted avg       0.94      0.94      0.94      1505\n",
      "\n"
     ]
    }
   ],
   "source": [
    "eval_model(pipeline.model,\n",
    "           pipeline.get_data_loader_validation(),\n",
    "           print_confusion_matrix=True,\n",
    "           save_misclassified=False)"
   ],
   "metadata": {
    "collapsed": false,
    "pycharm": {
     "name": "#%%\n"
    }
   }
  },
  {
   "cell_type": "code",
   "execution_count": 2,
   "metadata": {
    "pycharm": {
     "name": "#%%\n"
    }
   },
   "outputs": [
    {
     "name": "stderr",
     "output_type": "stream",
     "text": [
      "2022-02-15 09:11:21.841584: I tensorflow/stream_executor/cuda/cuda_gpu_executor.cc:937] successful NUMA node read from SysFS had negative value (-1), but there must be at least one NUMA node, so returning NUMA node zero\n",
      "2022-02-15 09:11:21.841779: I tensorflow/core/common_runtime/gpu/gpu_device.cc:1733] Found device 0 with properties: \n",
      "pciBusID: 0000:01:00.0 name: NVIDIA GeForce RTX 2080 Ti computeCapability: 7.5\n",
      "coreClock: 1.65GHz coreCount: 68 deviceMemorySize: 10.76GiB deviceMemoryBandwidth: 573.69GiB/s\n",
      "2022-02-15 09:11:21.841831: I tensorflow/stream_executor/platform/default/dso_loader.cc:53] Successfully opened dynamic library libcudart.so.11.0\n",
      "2022-02-15 09:11:21.874577: I tensorflow/stream_executor/platform/default/dso_loader.cc:53] Successfully opened dynamic library libcublas.so.11\n",
      "2022-02-15 09:11:21.874696: I tensorflow/stream_executor/platform/default/dso_loader.cc:53] Successfully opened dynamic library libcublasLt.so.11\n",
      "2022-02-15 09:11:21.910703: I tensorflow/stream_executor/platform/default/dso_loader.cc:53] Successfully opened dynamic library libcufft.so.10\n",
      "2022-02-15 09:11:21.914795: I tensorflow/stream_executor/platform/default/dso_loader.cc:53] Successfully opened dynamic library libcurand.so.10\n",
      "2022-02-15 09:11:21.920716: I tensorflow/stream_executor/platform/default/dso_loader.cc:53] Successfully opened dynamic library libcusolver.so.11\n",
      "2022-02-15 09:11:21.957518: I tensorflow/stream_executor/platform/default/dso_loader.cc:53] Successfully opened dynamic library libcusparse.so.11\n",
      "2022-02-15 09:11:21.958388: I tensorflow/stream_executor/platform/default/dso_loader.cc:53] Successfully opened dynamic library libcudnn.so.8\n",
      "2022-02-15 09:11:21.958539: I tensorflow/stream_executor/cuda/cuda_gpu_executor.cc:937] successful NUMA node read from SysFS had negative value (-1), but there must be at least one NUMA node, so returning NUMA node zero\n",
      "2022-02-15 09:11:21.958907: I tensorflow/stream_executor/cuda/cuda_gpu_executor.cc:937] successful NUMA node read from SysFS had negative value (-1), but there must be at least one NUMA node, so returning NUMA node zero\n",
      "2022-02-15 09:11:21.959492: I tensorflow/core/common_runtime/gpu/gpu_device.cc:1871] Adding visible gpu devices: 0\n",
      "2022-02-15 09:11:21.964154: I tensorflow/core/platform/cpu_feature_guard.cc:142] This TensorFlow binary is optimized with oneAPI Deep Neural Network Library (oneDNN) to use the following CPU instructions in performance-critical operations:  AVX2 FMA\n",
      "To enable them in other operations, rebuild TensorFlow with the appropriate compiler flags.\n",
      "2022-02-15 09:11:21.967794: I tensorflow/stream_executor/cuda/cuda_gpu_executor.cc:937] successful NUMA node read from SysFS had negative value (-1), but there must be at least one NUMA node, so returning NUMA node zero\n",
      "2022-02-15 09:11:21.968000: I tensorflow/core/common_runtime/gpu/gpu_device.cc:1733] Found device 0 with properties: \n",
      "pciBusID: 0000:01:00.0 name: NVIDIA GeForce RTX 2080 Ti computeCapability: 7.5\n",
      "coreClock: 1.65GHz coreCount: 68 deviceMemorySize: 10.76GiB deviceMemoryBandwidth: 573.69GiB/s\n",
      "2022-02-15 09:11:21.968187: I tensorflow/stream_executor/cuda/cuda_gpu_executor.cc:937] successful NUMA node read from SysFS had negative value (-1), but there must be at least one NUMA node, so returning NUMA node zero\n",
      "2022-02-15 09:11:21.968363: I tensorflow/stream_executor/cuda/cuda_gpu_executor.cc:937] successful NUMA node read from SysFS had negative value (-1), but there must be at least one NUMA node, so returning NUMA node zero\n",
      "2022-02-15 09:11:21.968470: I tensorflow/core/common_runtime/gpu/gpu_device.cc:1871] Adding visible gpu devices: 0\n",
      "2022-02-15 09:11:21.969024: I tensorflow/stream_executor/platform/default/dso_loader.cc:53] Successfully opened dynamic library libcudart.so.11.0\n",
      "2022-02-15 09:11:23.091147: I tensorflow/core/common_runtime/gpu/gpu_device.cc:1258] Device interconnect StreamExecutor with strength 1 edge matrix:\n",
      "2022-02-15 09:11:23.091208: I tensorflow/core/common_runtime/gpu/gpu_device.cc:1264]      0 \n",
      "2022-02-15 09:11:23.091226: I tensorflow/core/common_runtime/gpu/gpu_device.cc:1277] 0:   N \n",
      "2022-02-15 09:11:23.091629: I tensorflow/stream_executor/cuda/cuda_gpu_executor.cc:937] successful NUMA node read from SysFS had negative value (-1), but there must be at least one NUMA node, so returning NUMA node zero\n",
      "2022-02-15 09:11:23.092171: I tensorflow/stream_executor/cuda/cuda_gpu_executor.cc:937] successful NUMA node read from SysFS had negative value (-1), but there must be at least one NUMA node, so returning NUMA node zero\n",
      "2022-02-15 09:11:23.092600: I tensorflow/stream_executor/cuda/cuda_gpu_executor.cc:937] successful NUMA node read from SysFS had negative value (-1), but there must be at least one NUMA node, so returning NUMA node zero\n",
      "2022-02-15 09:11:23.092909: I tensorflow/core/common_runtime/gpu/gpu_device.cc:1418] Created TensorFlow device (/job:localhost/replica:0/task:0/device:GPU:0 with 8818 MB memory) -> physical GPU (device: 0, name: NVIDIA GeForce RTX 2080 Ti, pci bus id: 0000:01:00.0, compute capability: 7.5)\n"
     ]
    }
   ],
   "source": [
    "pipeline = FeitDataPipeline.load_pipeline(model_name)\n"
   ]
  },
  {
   "cell_type": "code",
   "execution_count": 3,
   "outputs": [
    {
     "name": "stdout",
     "output_type": "stream",
     "text": [
      "Processing region 1 out of 120"
     ]
    },
    {
     "name": "stderr",
     "output_type": "stream",
     "text": [
      "2022-02-15 09:11:25.497143: I tensorflow/compiler/mlir/mlir_graph_optimization_pass.cc:176] None of the MLIR Optimization Passes are enabled (registered 2)\n",
      "2022-02-15 09:11:25.519895: I tensorflow/core/platform/profile_utils/cpu_utils.cc:114] CPU Frequency: 3399905000 Hz\n",
      "2022-02-15 09:11:26.297346: I tensorflow/stream_executor/platform/default/dso_loader.cc:53] Successfully opened dynamic library libcudnn.so.8\n",
      "2022-02-15 09:11:27.212525: I tensorflow/stream_executor/cuda/cuda_dnn.cc:359] Loaded cuDNN version 8101\n",
      "2022-02-15 09:11:28.493434: E tensorflow/core/platform/default/subprocess.cc:304] Start cannot spawn child process: No such file or directory\n",
      "2022-02-15 09:11:28.493463: W tensorflow/stream_executor/gpu/asm_compiler.cc:56] Couldn't invoke ptxas --version\n",
      "2022-02-15 09:11:28.494113: E tensorflow/core/platform/default/subprocess.cc:304] Start cannot spawn child process: No such file or directory\n",
      "2022-02-15 09:11:28.494178: W tensorflow/stream_executor/gpu/redzone_allocator.cc:314] Internal: Failed to launch ptxas\n",
      "Relying on driver to perform ptx compilation. \n",
      "Modify $PATH to customize ptxas location.\n",
      "This message will be only logged once.\n",
      "2022-02-15 09:11:28.531005: I tensorflow/stream_executor/platform/default/dso_loader.cc:53] Successfully opened dynamic library libcublas.so.11\n",
      "2022-02-15 09:11:29.963654: I tensorflow/stream_executor/platform/default/dso_loader.cc:53] Successfully opened dynamic library libcublasLt.so.11\n"
     ]
    },
    {
     "name": "stdout",
     "output_type": "stream",
     "text": [
      "Processing region 120 out of 120\n",
      "Processing image took 2578.2305524349213 seconds\n",
      "Saving file...\n",
      "File saved to segmentations/ResNet50_ImagenetWeightsTrainLast-256/ns-adenoca-colon-15071-2019-20x-he-4.tiff\n",
      "Processing region 255 out of 255\n",
      "Processing image took 6190.350555419922 seconds\n",
      "Saving file...\n",
      "File saved to segmentations/ResNet50_ImagenetWeightsTrainLast-256/ns-adenoca-colon-15072-2019-20x-he-a2.tiff\n",
      "Processing region 255 out of 255\n",
      "Processing image took 6056.839920759201 seconds\n",
      "Saving file...\n",
      "File saved to segmentations/ResNet50_ImagenetWeightsTrainLast-256/ns-adenoca-colon-3043-2019-20x-he-a1.tiff\n",
      "Processing region 56 out of 56\n",
      "Processing image took 1234.1840586662292 seconds\n",
      "Saving file...\n",
      "File saved to segmentations/ResNet50_ImagenetWeightsTrainLast-256/ns-adenoca-colon-lupos-15071-2019-20x-he-14.tiff\n",
      "Processing region 567 out of 567\n",
      "Processing image took 14199.804604291916 seconds\n",
      "Saving file...\n",
      "File saved to segmentations/ResNet50_ImagenetWeightsTrainLast-256/pop-ca-colon-1708-2019-5-20x-he.tiff\n",
      "[[343753   6475  19560    753   3167      0   1075   3360     43      0\n",
      "  151118   2753]\n",
      " [     0      0      0      0      0      0      0      0      0      0\n",
      "       0      0]\n",
      " [  4311   6626  26196   5200   4068      0   3861   4945     46      0\n",
      "    7415     69]\n",
      " [   895    736     39   1610    342      0    123     68      5      0\n",
      "    8700      7]\n",
      " [  6032   5091  16242  57395 203382      0   3007   6378     11      1\n",
      "    5620     69]\n",
      " [   714    369    214   1820     23      0     79      1    408      0\n",
      "      24      2]\n",
      " [ 10487  13389  17060  13523  13777      0  11041  12796    128      0\n",
      "   42411    340]\n",
      " [ 10174  13380  20196  29146  10500      0   6725  39256     11      0\n",
      "   33433    412]\n",
      " [     0      0      0      0      0      0      0      0      0      0\n",
      "       0      0]\n",
      " [   451    335   3870    558    485      0    221    619      1      0\n",
      "    2016     48]\n",
      " [ 24362  20491  20548  27399   9963      0  18296  19516     95      6\n",
      "   72902   1320]\n",
      " [     0      0      0      0      0      0      0      0      0      0\n",
      "       0      0]]\n",
      "                             precision    recall  f1-score   support\n",
      "\n",
      "             adenocarcinoma       0.86      0.65      0.74    532057\n",
      "          blood_and_vessels       0.00      1.00      0.00         0\n",
      "          connective_tissue       0.21      0.42      0.28     62737\n",
      "                      empty       0.01      0.13      0.02     12525\n",
      "                        fat       0.83      0.67      0.74    303228\n",
      "      inflammation_purulent       1.00      0.00      0.00      3654\n",
      "       muscle_cross_section       0.25      0.08      0.12    134952\n",
      "muscle_longitudinal_section       0.45      0.24      0.31    163233\n",
      "                   necrosis       0.00      1.00      0.00         0\n",
      "                      nerve       0.00      0.00      0.00      8604\n",
      "              normal_mucosa       0.23      0.34      0.27    214898\n",
      "                    unknown       0.00      1.00      0.00         0\n",
      "\n",
      "                   accuracy                           0.49   1435888\n",
      "                  macro avg       0.32      0.46      0.21   1435888\n",
      "               weighted avg       0.61      0.49      0.53   1435888\n",
      "\n",
      "[0.58314319 0.         0.16324954 0.01085498 0.58856963 0.\n",
      " 0.06558789 0.18612149 0.         0.         0.15656469 0.        ]\n"
     ]
    }
   ],
   "source": [
    "from ml.eval import evaluate_segmentation_on_feit_annotation\n",
    "\n",
    "evaluation_path = Path('data/Feit_colon-annotation_valid/')\n",
    "\n",
    "segmentation_dir = Path('segmentations') / model_name\n",
    "\n",
    "evaluate_segmentation_on_feit_annotation(evaluation_path, pipeline.build_segmenter(),\n",
    "                                         32, pipeline.params.class_names,\n",
    "                                         save_segmentations=True, segmentations_dir=segmentation_dir,\n",
    "                                         neighbourhood_size=0)"
   ],
   "metadata": {
    "collapsed": false,
    "pycharm": {
     "name": "#%%\n"
    }
   }
  },
  {
   "cell_type": "code",
   "execution_count": null,
   "outputs": [],
   "source": [],
   "metadata": {
    "collapsed": false,
    "pycharm": {
     "name": "#%%\n"
    }
   }
  }
 ],
 "metadata": {
  "kernelspec": {
   "display_name": "Python 3",
   "language": "python",
   "name": "python3"
  },
  "language_info": {
   "codemirror_mode": {
    "name": "ipython",
    "version": 3
   },
   "file_extension": ".py",
   "mimetype": "text/x-python",
   "name": "python",
   "nbconvert_exporter": "python",
   "pygments_lexer": "ipython3",
   "version": "3.8.5"
  }
 },
 "nbformat": 4,
 "nbformat_minor": 1
}