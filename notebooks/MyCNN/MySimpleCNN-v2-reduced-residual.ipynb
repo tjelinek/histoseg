{
 "cells": [
  {
   "cell_type": "code",
   "execution_count": 1,
   "metadata": {
    "collapsed": true
   },
   "outputs": [
    {
     "name": "stdout",
     "output_type": "stream",
     "text": [
      "/home/jelinek/recetox/src/notebooks/model_heaven\n"
     ]
    }
   ],
   "source": [
    "import os\n",
    "\n",
    "os.environ['TF_CPP_MIN_LOG_LEVEL'] = '3'\n",
    "\n",
    "from keras_preprocessing.image import ImageDataGenerator\n",
    "\n",
    "\n",
    "from src.ml.eval import eval_model\n",
    "from ml.pipeline import FeitDataPipeline\n",
    "from tensorflow import keras\n",
    "\n",
    "from tensorflow.keras.optimizers import Adam\n",
    "from tensorflow.keras.optimizers import schedules\n",
    "from tensorflow.keras.callbacks import ReduceLROnPlateau\n",
    "from tensorflow.keras.layers import concatenate\n",
    "\n",
    "from cfg import *\n",
    "\n",
    "from livelossplot import PlotLossesKerasTF\n",
    "\n",
    "print(os.getcwd())\n",
    "os.chdir('/home/jelinek/recetox/')\n",
    "\n",
    "name = \"MySimpleCnn_Feit-reduced-rgb-no-inception-residual\"\n"
   ]
  },
  {
   "cell_type": "code",
   "execution_count": 2,
   "metadata": {
    "pycharm": {
     "name": "#%%\n"
    }
   },
   "outputs": [],
   "source": [
    "class MySimpleCNNInceptionModule(FeitDataPipeline):\n",
    "\n",
    "    def __init__(self, *args, **kwargs):\n",
    "        super().__init__(*args, **kwargs)\n",
    "\n",
    "        self.model = self.get_compiled_model()\n",
    "        self.params.name = name\n",
    "        self.params.epochs = 200\n",
    "        self.batch_size = 16\n",
    "        self.params.tile_size=256\n",
    "\n",
    "\n",
    "    @staticmethod\n",
    "    def get_compiled_model():\n",
    "        inputs = keras.Input(shape=(256, 256, 3))\n",
    "\n",
    "        x1 = keras.layers.Conv2D(filters=16, kernel_size=5, strides=(1, 1), padding='same')(inputs)\n",
    "        x1 = keras.layers.MaxPooling2D(padding='same', pool_size=(2, 2))(x1)\n",
    "        x1 = keras.layers.BatchNormalization(axis=3, epsilon=1.001e-5)(x1)\n",
    "\n",
    "        x2 = keras.layers.Conv2D(filters=32, kernel_size=5, strides=(1, 1), padding='same')(x1)\n",
    "        x2 = keras.layers.MaxPooling2D(padding='same', pool_size=(2, 2))(x2)\n",
    "        x2 = keras.layers.BatchNormalization(axis=3, epsilon=1.001e-5)(x2)\n",
    "\n",
    "        x1_padded = keras.layers.Conv2D(filters=32, kernel_size=1, strides=(2, 2))(x1)\n",
    "        x1_padded = keras.layers.BatchNormalization(axis=3, epsilon=1.001e-5)(x1_padded)\n",
    "\n",
    "        add1 = keras.layers.Add()([x2, x1_padded])\n",
    "\n",
    "\n",
    "        x3 = keras.layers.Conv2D(filters=64, kernel_size=5, strides=(1, 1), padding='same')(add1)\n",
    "        x3 = keras.layers.MaxPooling2D(padding='same', pool_size=(2, 2))(x3)\n",
    "        x3 = keras.layers.BatchNormalization(axis=3, epsilon=1.001e-5)(x3)\n",
    "\n",
    "        add1_padded = keras.layers.Conv2D(filters=64, kernel_size=1, strides=(2, 2))(add1)\n",
    "        add1_padded = keras.layers.BatchNormalization(axis=3, epsilon=1.001e-5)(add1_padded)\n",
    "\n",
    "        add2 = keras.layers.Add()([add1_padded, x3])\n",
    "\n",
    "        x4 = keras.layers.Conv2D(filters=128, kernel_size=5, strides=(1, 1), padding='same')(add2)\n",
    "        x4 = keras.layers.MaxPooling2D(padding='same', pool_size=(2, 2))(x4)\n",
    "        x4 = keras.layers.BatchNormalization(axis=3, epsilon=1.001e-5)(x4)\n",
    "\n",
    "        add2_padded = keras.layers.Conv2D(filters=128, kernel_size=1, strides=(2, 2))(x3)\n",
    "        add2_padded = keras.layers.BatchNormalization(axis=3, epsilon=1.001e-5)(add2_padded)\n",
    "\n",
    "        add3 = keras.layers.Add()([x4, add2_padded])\n",
    "\n",
    "        x5 = keras.layers.Conv2D(filters=256, kernel_size=5, strides=(1, 1), padding='same')(add3)\n",
    "        x5 = keras.layers.MaxPooling2D(padding='same', pool_size=(2, 2))(x5)\n",
    "        x5 = keras.layers.BatchNormalization(axis=3, epsilon=1.001e-5)(x5)\n",
    "\n",
    "        add3_padded = keras.layers.Conv2D(filters=256, kernel_size=1, strides=(2, 2))(add3)\n",
    "        add3_padded = keras.layers.BatchNormalization(axis=3, epsilon=1.001e-5)(add3_padded)\n",
    "\n",
    "        add4 = keras.layers.Add()([x5, add3_padded])\n",
    "\n",
    "        x6 = keras.layers.Conv2D(filters=512, kernel_size=5, strides=(1, 1), padding='same')(add4)\n",
    "\n",
    "        x6 = keras.layers.MaxPooling2D(padding='same', pool_size=(2, 2))(x6)\n",
    "        x6 = keras.layers.BatchNormalization(axis=3, epsilon=1.001e-5)(x6)\n",
    "\n",
    "        x = keras.layers.Flatten()(x6)\n",
    "        outputs = keras.layers.Dense(units=12, activation='softmax')(x)\n",
    "\n",
    "        model = keras.Model(inputs, outputs, name='MySimpleCnnFewerLayersResidual')\n",
    "        model.summary()\n",
    "        return model\n",
    "\n",
    "    def get_data_loader_training(self):\n",
    "        datagen_train = ImageDataGenerator(horizontal_flip=True, vertical_flip=True, samplewise_center=True,\n",
    "                                           samplewise_std_normalization=True, height_shift_range=0.15, width_shift_range=0.15,\n",
    "                                           zoom_range=0.25, rotation_range=30)\n",
    "\n",
    "        return datagen_train.flow_from_directory(directory=self.params.data_training, color_mode='rgb',\n",
    "                                             class_mode='categorical', batch_size=self.params.batch_size,\n",
    "                                             shuffle=True,\n",
    "                                             target_size=(self.params.tile_size, self.params.tile_size))\n",
    "\n",
    "    def get_data_loader_validation(self):\n",
    "        datagen_valid = ImageDataGenerator(samplewise_center=True, samplewise_std_normalization=True)\n",
    "        return datagen_valid.flow_from_directory(directory=self.params.data_validation, color_mode='rgb',\n",
    "                                                 class_mode='categorical', batch_size=self.params.batch_size,\n",
    "                                                 shuffle=False,\n",
    "                                                 target_size=(self.params.tile_size, self.params.tile_size))\n",
    "\n",
    "\n",
    "    def _train_model(self, data_train, data_valid):\n",
    "\n",
    "        reduce_lr = ReduceLROnPlateau(monitor='val_loss', factor=0.1,\n",
    "                                      patience=30, min_lr=1e-4, verbose=1,\n",
    "                                      cooldown=20)\n",
    "\n",
    "        self.model.fit(data_train,\n",
    "                       steps_per_epoch=250,\n",
    "                       epochs=200,\n",
    "                       shuffle=True,\n",
    "                       validation_data=data_valid,\n",
    "                       validation_freq=10,\n",
    "                       verbose=1,\n",
    "                       callbacks=[self.tensorboard, reduce_lr, PlotLossesKerasTF()])"
   ]
  },
  {
   "cell_type": "code",
   "execution_count": 3,
   "metadata": {
    "pycharm": {
     "name": "#%%\n"
    }
   },
   "outputs": [
    {
     "name": "stdout",
     "output_type": "stream",
     "text": [
      "Model: \"MySimpleCnnFewerLayersResidual\"\n",
      "__________________________________________________________________________________________________\n",
      "Layer (type)                    Output Shape         Param #     Connected to                     \n",
      "==================================================================================================\n",
      "input_1 (InputLayer)            [(None, 256, 256, 3) 0                                            \n",
      "__________________________________________________________________________________________________\n",
      "conv2d (Conv2D)                 (None, 256, 256, 16) 1216        input_1[0][0]                    \n",
      "__________________________________________________________________________________________________\n",
      "max_pooling2d (MaxPooling2D)    (None, 128, 128, 16) 0           conv2d[0][0]                     \n",
      "__________________________________________________________________________________________________\n",
      "batch_normalization (BatchNorma (None, 128, 128, 16) 64          max_pooling2d[0][0]              \n",
      "__________________________________________________________________________________________________\n",
      "conv2d_1 (Conv2D)               (None, 128, 128, 32) 12832       batch_normalization[0][0]        \n",
      "__________________________________________________________________________________________________\n",
      "max_pooling2d_1 (MaxPooling2D)  (None, 64, 64, 32)   0           conv2d_1[0][0]                   \n",
      "__________________________________________________________________________________________________\n",
      "conv2d_2 (Conv2D)               (None, 64, 64, 32)   544         batch_normalization[0][0]        \n",
      "__________________________________________________________________________________________________\n",
      "batch_normalization_1 (BatchNor (None, 64, 64, 32)   128         max_pooling2d_1[0][0]            \n",
      "__________________________________________________________________________________________________\n",
      "batch_normalization_2 (BatchNor (None, 64, 64, 32)   128         conv2d_2[0][0]                   \n",
      "__________________________________________________________________________________________________\n",
      "add (Add)                       (None, 64, 64, 32)   0           batch_normalization_1[0][0]      \n",
      "                                                                 batch_normalization_2[0][0]      \n",
      "__________________________________________________________________________________________________\n",
      "conv2d_3 (Conv2D)               (None, 64, 64, 64)   51264       add[0][0]                        \n",
      "__________________________________________________________________________________________________\n",
      "conv2d_4 (Conv2D)               (None, 32, 32, 64)   2112        add[0][0]                        \n",
      "__________________________________________________________________________________________________\n",
      "max_pooling2d_2 (MaxPooling2D)  (None, 32, 32, 64)   0           conv2d_3[0][0]                   \n",
      "__________________________________________________________________________________________________\n",
      "batch_normalization_4 (BatchNor (None, 32, 32, 64)   256         conv2d_4[0][0]                   \n",
      "__________________________________________________________________________________________________\n",
      "batch_normalization_3 (BatchNor (None, 32, 32, 64)   256         max_pooling2d_2[0][0]            \n",
      "__________________________________________________________________________________________________\n",
      "add_1 (Add)                     (None, 32, 32, 64)   0           batch_normalization_4[0][0]      \n",
      "                                                                 batch_normalization_3[0][0]      \n",
      "__________________________________________________________________________________________________\n",
      "conv2d_5 (Conv2D)               (None, 32, 32, 128)  204928      add_1[0][0]                      \n",
      "__________________________________________________________________________________________________\n",
      "max_pooling2d_3 (MaxPooling2D)  (None, 16, 16, 128)  0           conv2d_5[0][0]                   \n",
      "__________________________________________________________________________________________________\n",
      "conv2d_6 (Conv2D)               (None, 16, 16, 128)  8320        batch_normalization_3[0][0]      \n",
      "__________________________________________________________________________________________________\n",
      "batch_normalization_5 (BatchNor (None, 16, 16, 128)  512         max_pooling2d_3[0][0]            \n",
      "__________________________________________________________________________________________________\n",
      "batch_normalization_6 (BatchNor (None, 16, 16, 128)  512         conv2d_6[0][0]                   \n",
      "__________________________________________________________________________________________________\n",
      "add_2 (Add)                     (None, 16, 16, 128)  0           batch_normalization_5[0][0]      \n",
      "                                                                 batch_normalization_6[0][0]      \n",
      "__________________________________________________________________________________________________\n",
      "conv2d_7 (Conv2D)               (None, 16, 16, 256)  819456      add_2[0][0]                      \n",
      "__________________________________________________________________________________________________\n",
      "max_pooling2d_4 (MaxPooling2D)  (None, 8, 8, 256)    0           conv2d_7[0][0]                   \n",
      "__________________________________________________________________________________________________\n",
      "conv2d_8 (Conv2D)               (None, 8, 8, 256)    33024       add_2[0][0]                      \n",
      "__________________________________________________________________________________________________\n",
      "batch_normalization_7 (BatchNor (None, 8, 8, 256)    1024        max_pooling2d_4[0][0]            \n",
      "__________________________________________________________________________________________________\n",
      "batch_normalization_8 (BatchNor (None, 8, 8, 256)    1024        conv2d_8[0][0]                   \n",
      "__________________________________________________________________________________________________\n",
      "add_3 (Add)                     (None, 8, 8, 256)    0           batch_normalization_7[0][0]      \n",
      "                                                                 batch_normalization_8[0][0]      \n",
      "__________________________________________________________________________________________________\n",
      "conv2d_9 (Conv2D)               (None, 8, 8, 512)    3277312     add_3[0][0]                      \n",
      "__________________________________________________________________________________________________\n",
      "max_pooling2d_5 (MaxPooling2D)  (None, 4, 4, 512)    0           conv2d_9[0][0]                   \n",
      "__________________________________________________________________________________________________\n",
      "batch_normalization_9 (BatchNor (None, 4, 4, 512)    2048        max_pooling2d_5[0][0]            \n",
      "__________________________________________________________________________________________________\n",
      "flatten (Flatten)               (None, 8192)         0           batch_normalization_9[0][0]      \n",
      "__________________________________________________________________________________________________\n",
      "dense (Dense)                   (None, 12)           98316       flatten[0][0]                    \n",
      "==================================================================================================\n",
      "Total params: 4,515,276\n",
      "Trainable params: 4,512,300\n",
      "Non-trainable params: 2,976\n",
      "__________________________________________________________________________________________________\n"
     ]
    }
   ],
   "source": [
    "pipeline = MySimpleCNNInceptionModule(train_data_dir='data/Feit_colon-annotation-tiles-256/data_train/',\n",
    "                        valid_data_dir='data/Feit_colon-annotation-tiles-256/data_valid/')"
   ]
  },
  {
   "cell_type": "code",
   "execution_count": 4,
   "metadata": {
    "pycharm": {
     "name": "#%%\n"
    }
   },
   "outputs": [
    {
     "data": {
      "text/plain": "<Figure size 864x864 with 4 Axes>",
      "image/png": "[encoded data removed]"
     },
     "metadata": {
      "needs_background": "light"
     },
     "output_type": "display_data"
    },
    {
     "name": "stdout",
     "output_type": "stream",
     "text": [
      "categorical_accuracy\n",
      "\ttraining         \t (min:    0.627, max:    0.956, cur:    0.951)\n",
      "\tvalidation       \t (min:    0.793, max:    0.953, cur:    0.878)\n",
      "Loss\n",
      "\ttraining         \t (min:    0.128, max:    1.942, cur:    0.138)\n",
      "\tvalidation       \t (min:    0.138, max:    0.828, cur:    0.405)\n",
      "lr\n",
      "\tlr               \t (min:    0.001, max:    0.001, cur:    0.001)\n",
      "102/102 [==============================] - 5s 48ms/step - loss: 0.4048 - categorical_accuracy: 0.8776\n",
      "Measuring time\n",
      "--Iteration 10/10\r\n",
      "Batch size: 16\n",
      "Mean time per tile 0.4023ms\n",
      "Confusion Matrix\n",
      "[[335   0   0   0   0   0   0   0   0   0   0   0]\n",
      " [  8  46   9   1   0   0   0   0   0   0   0   0]\n",
      " [  3   3 138   0   1   0   0   0   0   0   0   0]\n",
      " [  0   0   0  11   0   0   0   0   0   0   0   0]\n",
      " [  4   0   0   2 537   0   0   0   0   1   0   0]\n",
      " [  0   0   0   0   0   1   0   0   0   0   0   0]\n",
      " [  3   0   3   0   0   0  71   0   0   0   0   0]\n",
      " [  1   2   6   0   0   0   1  76   0   0   0   0]\n",
      " [  0   0   0   0   0   0   0   0   1   0   0   0]\n",
      " [  0   0   1   0   0   0   0   0   0   0   0   0]\n",
      " [ 77   0   0   0   0   0   0   0   0   0 157   0]\n",
      " [ 71   0   1   0   0   0   0   0   0   0   0  46]]\n",
      "Classification Report\n",
      "                             precision    recall  f1-score   support\n",
      "\n",
      "             adenocarcinoma       0.67      1.00      0.80       335\n",
      "          blood_and_vessels       0.90      0.72      0.80        64\n",
      "          connective_tissue       0.87      0.95      0.91       145\n",
      "                      empty       0.79      1.00      0.88        11\n",
      "                        fat       1.00      0.99      0.99       544\n",
      "      inflammation_purulent       1.00      1.00      1.00         1\n",
      "       muscle_cross_section       0.99      0.92      0.95        77\n",
      "muscle_longitudinal_section       1.00      0.88      0.94        86\n",
      "                   necrosis       1.00      1.00      1.00         1\n",
      "                      nerve       0.00      0.00      0.00         1\n",
      "              normal_mucosa       1.00      0.67      0.80       234\n",
      "                    unknown       1.00      0.39      0.56       118\n",
      "\n",
      "                   accuracy                           0.88      1617\n",
      "                  macro avg       0.85      0.79      0.80      1617\n",
      "               weighted avg       0.91      0.88      0.87      1617\n",
      "\n"
     ]
    }
   ],
   "source": [
    "pipeline.execute_pipeline(perform_validation=True, perform_test_segmentation=False)"
   ]
  },
  {
   "cell_type": "code",
   "execution_count": 5,
   "metadata": {
    "pycharm": {
     "name": "#%%\n"
    }
   },
   "outputs": [
    {
     "name": "stderr",
     "output_type": "stream",
     "text": [
      "/home/jelinek/anaconda3/envs/recetox/lib/python3.8/site-packages/tensorflow/python/keras/utils/generic_utils.py:494: CustomMaskWarning: Custom mask layers require a config and must override get_config. When loading, the custom mask layer must be passed to the custom_objects argument.\n",
      "  warnings.warn('Custom mask layers require a config and must override '\n"
     ]
    }
   ],
   "source": [
    "pipeline.save_pipeline()"
   ]
  },
  {
   "cell_type": "code",
   "execution_count": 6,
   "metadata": {
    "pycharm": {
     "name": "#%%\n"
    }
   },
   "outputs": [
    {
     "name": "stdout",
     "output_type": "stream",
     "text": [
      "Found 1617 images belonging to 12 classes.\n",
      "102/102 [==============================] - 5s 48ms/step - loss: 0.4048 - categorical_accuracy: 0.8776\n",
      "Measuring time\n",
      "--Iteration 10/10\r\n",
      "Batch size: 16\n",
      "Mean time per tile 0.3931ms\n",
      "Confusion Matrix\n",
      "[[335   0   0   0   0   0   0   0   0   0   0   0]\n",
      " [  8  46   9   1   0   0   0   0   0   0   0   0]\n",
      " [  3   3 138   0   1   0   0   0   0   0   0   0]\n",
      " [  0   0   0  11   0   0   0   0   0   0   0   0]\n",
      " [  4   0   0   2 537   0   0   0   0   1   0   0]\n",
      " [  0   0   0   0   0   1   0   0   0   0   0   0]\n",
      " [  3   0   3   0   0   0  71   0   0   0   0   0]\n",
      " [  1   2   6   0   0   0   1  76   0   0   0   0]\n",
      " [  0   0   0   0   0   0   0   0   1   0   0   0]\n",
      " [  0   0   1   0   0   0   0   0   0   0   0   0]\n",
      " [ 77   0   0   0   0   0   0   0   0   0 157   0]\n",
      " [ 71   0   1   0   0   0   0   0   0   0   0  46]]\n",
      "Classification Report\n",
      "                             precision    recall  f1-score   support\n",
      "\n",
      "             adenocarcinoma       0.67      1.00      0.80       335\n",
      "          blood_and_vessels       0.90      0.72      0.80        64\n",
      "          connective_tissue       0.87      0.95      0.91       145\n",
      "                      empty       0.79      1.00      0.88        11\n",
      "                        fat       1.00      0.99      0.99       544\n",
      "      inflammation_purulent       1.00      1.00      1.00         1\n",
      "       muscle_cross_section       0.99      0.92      0.95        77\n",
      "muscle_longitudinal_section       1.00      0.88      0.94        86\n",
      "                   necrosis       1.00      1.00      1.00         1\n",
      "                      nerve       0.00      0.00      0.00         1\n",
      "              normal_mucosa       1.00      0.67      0.80       234\n",
      "                    unknown       1.00      0.39      0.56       118\n",
      "\n",
      "                   accuracy                           0.88      1617\n",
      "                  macro avg       0.85      0.79      0.80      1617\n",
      "               weighted avg       0.91      0.88      0.87      1617\n",
      "\n"
     ]
    }
   ],
   "source": [
    "eval_model(pipeline.model,\n",
    "           pipeline.get_data_loader_validation(),\n",
    "           name,\n",
    "           print_confusion_matrix=True,\n",
    "           save_misclassified=True)"
   ]
  },
  {
   "cell_type": "code",
   "execution_count": 7,
   "metadata": {
    "pycharm": {
     "name": "#%%\n"
    }
   },
   "outputs": [],
   "source": [
    "pipeline = FeitDataPipeline.load_pipeline(pipeline_name=name)"
   ]
  },
  {
   "cell_type": "code",
   "execution_count": 8,
   "metadata": {
    "pycharm": {
     "name": "#%%\n"
    }
   },
   "outputs": [
    {
     "name": "stdout",
     "output_type": "stream",
     "text": [
      "Processing region 120 out of 120\n",
      "Processing image took 1838.9168729782104 seconds\n",
      "Saving file...\n",
      "File saved to segmentations/MySimpleCnn_Feit-reduced-rgb-no-inception-residual/ns-adenoca-colon-15071-2019-20x-he-4.tiff\n",
      "Processing region 255 out of 255\n",
      "Processing image took 4414.629497051239 seconds\n",
      "Saving file...\n",
      "File saved to segmentations/MySimpleCnn_Feit-reduced-rgb-no-inception-residual/ns-adenoca-colon-15072-2019-20x-he-a2.tiff\n",
      "Processing region 255 out of 255\n",
      "Processing image took 4234.062113761902 seconds\n",
      "Saving file...\n",
      "File saved to segmentations/MySimpleCnn_Feit-reduced-rgb-no-inception-residual/ns-adenoca-colon-3043-2019-20x-he-a1.tiff\n",
      "Processing region 567 out of 567\n",
      "Processing image took 9614.68898820877 seconds\n",
      "Saving file...\n",
      "File saved to segmentations/MySimpleCnn_Feit-reduced-rgb-no-inception-residual/pop-ca-colon-1708-2019-5-20x-he.tiff\n",
      "[[513219   2819   2586     36     97      0    415   1535      0      0\n",
      "    7936    468]\n",
      " [     0      0      0      0      0      0      0      0      0      0\n",
      "       0      0]\n",
      " [  7626   6977  17957   4631   1420      0   4147   3934      0      0\n",
      "    5874      0]\n",
      " [  1709     79      0    965      0      0   1739      0      0      0\n",
      "    8033      0]\n",
      " [  7683   7514   2206  59791 167690      0   4338   4334      0      0\n",
      "    1377     22]\n",
      " [  1433      0    322   1827      0     72      0      0      0      0\n",
      "       0      0]\n",
      " [ 16672  20828  12451  14385  10319      0  11885   9153      0      0\n",
      "   39259      0]\n",
      " [ 22908  27051  13627  30326   6142      0   4976  26354      0      0\n",
      "   31849      0]\n",
      " [     0      0      0      0      0      0      0      0      0      0\n",
      "       0      0]\n",
      " [  1204    656   4098    619    172      0    181    305      0      0\n",
      "    1369      0]\n",
      " [ 81462  25956  10201  29416   5149      0  25579  17399      0      0\n",
      "   19618    118]\n",
      " [     0      0      0      0      0      0      0      0      0      0\n",
      "       0      0]]\n",
      "                             precision    recall  f1-score   support\n",
      "\n",
      "             adenocarcinoma       0.78      0.97      0.87    529111\n",
      "          blood_and_vessels       0.00      1.00      0.00         0\n",
      "          connective_tissue       0.28      0.34      0.31     52566\n",
      "                      empty       0.01      0.08      0.01     12525\n",
      "                        fat       0.88      0.66      0.75    254955\n",
      "      inflammation_purulent       1.00      0.02      0.04      3654\n",
      "       muscle_cross_section       0.22      0.09      0.13    134952\n",
      "muscle_longitudinal_section       0.42      0.16      0.23    163233\n",
      "                      nerve       1.00      0.00      0.00      8604\n",
      "              normal_mucosa       0.17      0.09      0.12    214898\n",
      "                    unknown       0.00      1.00      0.00         0\n",
      "\n",
      "                   accuracy                           0.55   1374498\n",
      "                  macro avg       0.43      0.40      0.22   1374498\n",
      "               weighted avg       0.58      0.55      0.54   1374498\n",
      "\n",
      "Jaccard score: \n",
      "Vector:  [0.76621808 0.         0.18312818 0.00628435 0.60265082 0.01970443\n",
      " 0.06740318 0.13184053 0.         0.06316264 0.        ]\n",
      "Weighted:  0.44600335925101087\n"
     ]
    }
   ],
   "source": [
    "from ml.eval import evaluate_segmentation_on_feit_annotation\n",
    "\n",
    "evaluation_path = Path('data/Feit_colon-annotation_valid/')\n",
    "\n",
    "segmentation_dir = Path('segmentations') / pipeline.params.name\n",
    "\n",
    "evaluate_segmentation_on_feit_annotation(evaluation_path, pipeline.build_segmenter(),\n",
    "                                         32, pipeline.params.class_names,\n",
    "                                         save_segmentations=True, segmentations_dir=segmentation_dir,\n",
    "                                         neighbourhood_size=1)"
   ]
  },
  {
   "cell_type": "code",
   "execution_count": 8,
   "metadata": {
    "pycharm": {
     "name": "#%%\n"
    }
   },
   "outputs": [],
   "source": []
  }
 ],
 "metadata": {
  "kernelspec": {
   "display_name": "Python 3 (ipykernel)",
   "language": "python",
   "name": "python3"
  },
  "language_info": {
   "codemirror_mode": {
    "name": "ipython",
    "version": 3
   },
   "file_extension": ".py",
   "mimetype": "text/x-python",
   "name": "python",
   "nbconvert_exporter": "python",
   "pygments_lexer": "ipython3",
   "version": "3.8.12"
  }
 },
 "nbformat": 4,
 "nbformat_minor": 1
}