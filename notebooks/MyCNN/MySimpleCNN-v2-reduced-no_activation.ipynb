{
 "cells": [
  {
   "cell_type": "code",
   "execution_count": 18,
   "metadata": {
    "collapsed": true,
    "pycharm": {
     "name": "#%%\n"
    }
   },
   "outputs": [
    {
     "name": "stdout",
     "output_type": "stream",
     "text": [
      "/home/jelinek/recetox\n"
     ]
    }
   ],
   "source": [
    "import os\n",
    "\n",
    "os.environ['TF_CPP_MIN_LOG_LEVEL'] = '3'\n",
    "\n",
    "from keras_preprocessing.image import ImageDataGenerator\n",
    "\n",
    "\n",
    "from ml.eval import eval_model\n",
    "from ml.pipeline import FeitDataPipeline\n",
    "from tensorflow import keras\n",
    "\n",
    "from tensorflow.keras.optimizers import Adam\n",
    "from tensorflow.keras.optimizers import schedules\n",
    "from tensorflow.keras.callbacks import ReduceLROnPlateau\n",
    "from tensorflow.keras.layers import concatenate\n",
    "\n",
    "from cfg import *\n",
    "\n",
    "from livelossplot import PlotLossesKerasTF\n",
    "\n",
    "print(os.getcwd())\n",
    "os.chdir('/home/jelinek/recetox/')\n",
    "\n",
    "name = \"MySimpleCnn_Feit-reduced-rgb-no-inception\"\n"
   ]
  },
  {
   "cell_type": "code",
   "execution_count": 19,
   "metadata": {
    "pycharm": {
     "name": "#%%\n"
    }
   },
   "outputs": [],
   "source": [
    "class MySimpleCNNInceptionModule(FeitDataPipeline):\n",
    "\n",
    "    def __init__(self, *args, **kwargs):\n",
    "        super().__init__(*args, **kwargs)\n",
    "\n",
    "        self.model = self.get_compiled_model()\n",
    "        self.params.name = name\n",
    "        self.params.epochs = 200\n",
    "        self.batch_size = 16\n",
    "        self.params.tile_size=256\n",
    "\n",
    "\n",
    "    @staticmethod\n",
    "    def get_compiled_model():\n",
    "        inputs = keras.Input(shape=(256, 256, 3))\n",
    "\n",
    "        x = keras.layers.Conv2D(filters=16, kernel_size=5, strides=(1, 1), padding='same')(inputs)\n",
    "\n",
    "        x = keras.layers.MaxPooling2D(padding='same', pool_size=(2, 2))(x)\n",
    "        x = keras.layers.BatchNormalization(axis=3, epsilon=1.001e-5)(x)\n",
    "\n",
    "        x = keras.layers.Conv2D(filters=32, kernel_size=5, strides=(1, 1), padding='same')(x)\n",
    "        x = keras.layers.MaxPooling2D(padding='same', pool_size=(2, 2))(x)\n",
    "        x = keras.layers.BatchNormalization(axis=3, epsilon=1.001e-5)(x)\n",
    "\n",
    "\n",
    "        x = keras.layers.Conv2D(filters=64, kernel_size=5, strides=(1, 1), padding='same')(x)\n",
    "        x = keras.layers.MaxPooling2D(padding='same', pool_size=(2, 2))(x)\n",
    "        x = keras.layers.BatchNormalization(axis=3, epsilon=1.001e-5)(x)\n",
    "\n",
    "        x = keras.layers.Conv2D(filters=128, kernel_size=5, strides=(1, 1), padding='same')(x)\n",
    "        x = keras.layers.MaxPooling2D(padding='same', pool_size=(2, 2))(x)\n",
    "        x = keras.layers.BatchNormalization(axis=3, epsilon=1.001e-5)(x)\n",
    "\n",
    "        x = keras.layers.Conv2D(filters=256, kernel_size=5, strides=(1, 1), padding='same')(x)\n",
    "        x = keras.layers.MaxPooling2D(padding='same', pool_size=(2, 2))(x)\n",
    "        x = keras.layers.BatchNormalization(axis=3, epsilon=1.001e-5)(x)\n",
    "\n",
    "\n",
    "        x = keras.layers.Conv2D(filters=512, kernel_size=5, strides=(1, 1), padding='same')(x)\n",
    "        x = keras.layers.MaxPooling2D(padding='same', pool_size=(2, 2))(x)\n",
    "        x = keras.layers.BatchNormalization(axis=3, epsilon=1.001e-5)(x)\n",
    "\n",
    "        x = keras.layers.Flatten()(x)\n",
    "        outputs = keras.layers.Dense(units=12, activation='softmax')(x)\n",
    "\n",
    "        model = keras.Model(inputs, outputs, name='MySimpleCnnFewerLayers')\n",
    "        model.summary()\n",
    "        return model\n",
    "\n",
    "    def get_data_loader_training(self):\n",
    "        datagen_train = ImageDataGenerator(horizontal_flip=True, vertical_flip=True, samplewise_center=True,\n",
    "                                           samplewise_std_normalization=True)\n",
    "\n",
    "        return datagen_train.flow_from_directory(directory=self.params.data_training, color_mode='rgb',\n",
    "                                                 class_mode='categorical', batch_size=self.params.batch_size,\n",
    "                                                 shuffle=True,\n",
    "                                                 target_size=(self.params.tile_size, self.params.tile_size))\n",
    "\n",
    "    def get_data_loader_validation(self):\n",
    "        datagen_valid = ImageDataGenerator(samplewise_center=True, samplewise_std_normalization=True)\n",
    "        return datagen_valid.flow_from_directory(directory=self.params.data_validation, color_mode='rgb',\n",
    "                                                 class_mode='categorical', batch_size=self.params.batch_size,\n",
    "                                                 shuffle=False,\n",
    "                                                 target_size=(self.params.tile_size, self.params.tile_size))\n",
    "\n",
    "\n",
    "    def _train_model(self, data_train, data_valid):\n",
    "\n",
    "        reduce_lr = ReduceLROnPlateau(monitor='val_loss', factor=0.1,\n",
    "                                      patience=30, min_lr=1e-4, verbose=1,\n",
    "                                      cooldown=20)\n",
    "\n",
    "        self.model.fit(data_train,\n",
    "                       steps_per_epoch=250,\n",
    "                       epochs=200,\n",
    "                       shuffle=True,\n",
    "                       validation_data=data_valid,\n",
    "                       validation_freq=10,\n",
    "                       verbose=1,\n",
    "                       callbacks=[self.tensorboard, reduce_lr, PlotLossesKerasTF()])"
   ]
  },
  {
   "cell_type": "code",
   "execution_count": 20,
   "metadata": {
    "pycharm": {
     "name": "#%%\n"
    }
   },
   "outputs": [
    {
     "name": "stdout",
     "output_type": "stream",
     "text": [
      "Model: \"MySimpleCnnFewerLayers\"\n",
      "_________________________________________________________________\n",
      "Layer (type)                 Output Shape              Param #   \n",
      "=================================================================\n",
      "input_6 (InputLayer)         [(None, 256, 256, 3)]     0         \n",
      "_________________________________________________________________\n",
      "conv2d_10 (Conv2D)           (None, 256, 256, 16)      1216      \n",
      "_________________________________________________________________\n",
      "max_pooling2d_6 (MaxPooling2 (None, 128, 128, 16)      0         \n",
      "_________________________________________________________________\n",
      "batch_normalization_6 (Batch (None, 128, 128, 16)      64        \n",
      "_________________________________________________________________\n",
      "conv2d_11 (Conv2D)           (None, 128, 128, 32)      12832     \n",
      "_________________________________________________________________\n",
      "max_pooling2d_7 (MaxPooling2 (None, 64, 64, 32)        0         \n",
      "_________________________________________________________________\n",
      "batch_normalization_7 (Batch (None, 64, 64, 32)        128       \n",
      "_________________________________________________________________\n",
      "conv2d_12 (Conv2D)           (None, 64, 64, 64)        51264     \n",
      "_________________________________________________________________\n",
      "max_pooling2d_8 (MaxPooling2 (None, 32, 32, 64)        0         \n",
      "_________________________________________________________________\n",
      "batch_normalization_8 (Batch (None, 32, 32, 64)        256       \n",
      "_________________________________________________________________\n",
      "conv2d_13 (Conv2D)           (None, 32, 32, 128)       204928    \n",
      "_________________________________________________________________\n",
      "max_pooling2d_9 (MaxPooling2 (None, 16, 16, 128)       0         \n",
      "_________________________________________________________________\n",
      "batch_normalization_9 (Batch (None, 16, 16, 128)       512       \n",
      "_________________________________________________________________\n",
      "conv2d_14 (Conv2D)           (None, 16, 16, 256)       819456    \n",
      "_________________________________________________________________\n",
      "max_pooling2d_10 (MaxPooling (None, 8, 8, 256)         0         \n",
      "_________________________________________________________________\n",
      "batch_normalization_10 (Batc (None, 8, 8, 256)         1024      \n",
      "_________________________________________________________________\n",
      "conv2d_15 (Conv2D)           (None, 8, 8, 512)         3277312   \n",
      "_________________________________________________________________\n",
      "max_pooling2d_11 (MaxPooling (None, 4, 4, 512)         0         \n",
      "_________________________________________________________________\n",
      "batch_normalization_11 (Batc (None, 4, 4, 512)         2048      \n",
      "_________________________________________________________________\n",
      "flatten_1 (Flatten)          (None, 8192)              0         \n",
      "_________________________________________________________________\n",
      "dense_1 (Dense)              (None, 12)                98316     \n",
      "=================================================================\n",
      "Total params: 4,469,356\n",
      "Trainable params: 4,467,340\n",
      "Non-trainable params: 2,016\n",
      "_________________________________________________________________\n"
     ]
    }
   ],
   "source": [
    "pipeline = MySimpleCNNInceptionModule(train_data_dir='data/Feit_colon-annotation-tiles-256/data_train/',\n",
    "                        valid_data_dir='data/Feit_colon-annotation-tiles-256/data_valid/')"
   ]
  },
  {
   "cell_type": "code",
   "execution_count": 21,
   "metadata": {
    "pycharm": {
     "name": "#%%\n"
    }
   },
   "outputs": [
    {
     "data": {
      "image/png": "[encoded data removed]",
      "text/plain": [
       "<Figure size 864x864 with 4 Axes>"
      ]
     },
     "metadata": {
      "needs_background": "light"
     },
     "output_type": "display_data"
    },
    {
     "name": "stdout",
     "output_type": "stream",
     "text": [
      "categorical_accuracy\n",
      "\ttraining         \t (min:    0.636, max:    0.984, cur:    0.976)\n",
      "\tvalidation       \t (min:    0.795, max:    0.957, cur:    0.957)\n",
      "Loss\n",
      "\ttraining         \t (min:    0.051, max:    1.823, cur:    0.069)\n",
      "\tvalidation       \t (min:    0.166, max:    0.736, cur:    0.176)\n",
      "lr\n",
      "\tlr               \t (min:    0.001, max:    0.001, cur:    0.001)\n",
      "95/95 [==============================] - 5s 48ms/step - loss: 0.1756 - categorical_accuracy: 0.9575\n",
      "Measuring time\n",
      "--Iteration 10/10\r\n",
      "Batch size: 16\n",
      "Mean time per tile 0.3995ms\n",
      "Confusion Matrix\n",
      "[[326   0   0   0   2   0   1   0   0   0   6   0]\n",
      " [  3  49   7   1   0   0   3   1   0   0   0   0]\n",
      " [  2   0 140   0   0   0   1   1   0   0   1   0]\n",
      " [  0   0   0  10   1   0   0   0   0   0   0   0]\n",
      " [  1   0   0   1 542   0   0   0   0   0   0   0]\n",
      " [  0   0   0   0   0   1   0   0   0   0   0   0]\n",
      " [  1   2   0   0   0   0  74   0   0   0   0   0]\n",
      " [  0   1   2   0   0   0   6  77   0   0   0   0]\n",
      " [  0   0   0   0   0   0   1   0   0   0   0   0]\n",
      " [  0   0   1   0   0   0   0   0   0   0   0   0]\n",
      " [ 16   0   0   0   1   0   0   0   0   0 217   0]\n",
      " [  0   0   0   0   0   0   0   0   0   0   1   5]]\n",
      "Classification Report\n",
      "                             precision    recall  f1-score   support\n",
      "\n",
      "             adenocarcinoma       0.93      0.97      0.95       335\n",
      "          blood_and_vessels       0.94      0.77      0.84        64\n",
      "          connective_tissue       0.93      0.97      0.95       145\n",
      "                      empty       0.83      0.91      0.87        11\n",
      "                        fat       0.99      1.00      0.99       544\n",
      "      inflammation_purulent       1.00      1.00      1.00         1\n",
      "       muscle_cross_section       0.86      0.96      0.91        77\n",
      "muscle_longitudinal_section       0.97      0.90      0.93        86\n",
      "                   necrosis       1.00      0.00      0.00         1\n",
      "                      nerve       1.00      0.00      0.00         1\n",
      "              normal_mucosa       0.96      0.93      0.95       234\n",
      "                    unknown       1.00      0.83      0.91         6\n",
      "\n",
      "                   accuracy                           0.96      1505\n",
      "                  macro avg       0.95      0.77      0.78      1505\n",
      "               weighted avg       0.96      0.96      0.96      1505\n",
      "\n"
     ]
    }
   ],
   "source": [
    "pipeline.execute_pipeline(perform_validation=True, perform_test_segmentation=False)"
   ]
  },
  {
   "cell_type": "code",
   "execution_count": 22,
   "metadata": {
    "pycharm": {
     "name": "#%%\n"
    }
   },
   "outputs": [],
   "source": [
    "pipeline.save_pipeline()"
   ]
  },
  {
   "cell_type": "code",
   "execution_count": 23,
   "metadata": {
    "pycharm": {
     "name": "#%%\n"
    }
   },
   "outputs": [
    {
     "name": "stdout",
     "output_type": "stream",
     "text": [
      "Found 1505 images belonging to 12 classes.\n",
      "95/95 [==============================] - 5s 48ms/step - loss: 0.1756 - categorical_accuracy: 0.9575\n",
      "Measuring time\n",
      "--Iteration 10/10\r\n",
      "Batch size: 16\n",
      "Mean time per tile 0.3922ms\n",
      "Confusion Matrix\n",
      "[[326   0   0   0   2   0   1   0   0   0   6   0]\n",
      " [  3  49   7   1   0   0   3   1   0   0   0   0]\n",
      " [  2   0 140   0   0   0   1   1   0   0   1   0]\n",
      " [  0   0   0  10   1   0   0   0   0   0   0   0]\n",
      " [  1   0   0   1 542   0   0   0   0   0   0   0]\n",
      " [  0   0   0   0   0   1   0   0   0   0   0   0]\n",
      " [  1   2   0   0   0   0  74   0   0   0   0   0]\n",
      " [  0   1   2   0   0   0   6  77   0   0   0   0]\n",
      " [  0   0   0   0   0   0   1   0   0   0   0   0]\n",
      " [  0   0   1   0   0   0   0   0   0   0   0   0]\n",
      " [ 16   0   0   0   1   0   0   0   0   0 217   0]\n",
      " [  0   0   0   0   0   0   0   0   0   0   1   5]]\n",
      "Classification Report\n",
      "                             precision    recall  f1-score   support\n",
      "\n",
      "             adenocarcinoma       0.93      0.97      0.95       335\n",
      "          blood_and_vessels       0.94      0.77      0.84        64\n",
      "          connective_tissue       0.93      0.97      0.95       145\n",
      "                      empty       0.83      0.91      0.87        11\n",
      "                        fat       0.99      1.00      0.99       544\n",
      "      inflammation_purulent       1.00      1.00      1.00         1\n",
      "       muscle_cross_section       0.86      0.96      0.91        77\n",
      "muscle_longitudinal_section       0.97      0.90      0.93        86\n",
      "                   necrosis       1.00      0.00      0.00         1\n",
      "                      nerve       1.00      0.00      0.00         1\n",
      "              normal_mucosa       0.96      0.93      0.95       234\n",
      "                    unknown       1.00      0.83      0.91         6\n",
      "\n",
      "                   accuracy                           0.96      1505\n",
      "                  macro avg       0.95      0.77      0.78      1505\n",
      "               weighted avg       0.96      0.96      0.96      1505\n",
      "\n"
     ]
    }
   ],
   "source": [
    "eval_model(pipeline.model,\n",
    "           pipeline.get_data_loader_validation(),\n",
    "           print_confusion_matrix=True,\n",
    "           save_misclassified=True)"
   ]
  },
  {
   "cell_type": "code",
   "execution_count": 24,
   "metadata": {
    "pycharm": {
     "name": "#%%\n"
    }
   },
   "outputs": [],
   "source": [
    "pipeline = FeitDataPipeline.load_pipeline(pipeline_name=name)"
   ]
  },
  {
   "cell_type": "code",
   "execution_count": 25,
   "metadata": {
    "pycharm": {
     "name": "#%%\n"
    }
   },
   "outputs": [
    {
     "name": "stdout",
     "output_type": "stream",
     "text": [
      "Processing region 120 out of 120\n",
      "Processing image took 1864.635814666748 seconds\n",
      "Saving file...\n",
      "File saved to segmentations/MySimpleCnn_Feit-inception-v2-reduced-rgb/ns-adenoca-colon-15071-2019-20x-he-4.tiff\n",
      "Processing region 255 out of 255\n",
      "Processing image took 4492.699262857437 seconds\n",
      "Saving file...\n",
      "File saved to segmentations/MySimpleCnn_Feit-inception-v2-reduced-rgb/ns-adenoca-colon-15072-2019-20x-he-a2.tiff\n",
      "Processing region 255 out of 255\n",
      "Processing image took 4343.875237226486 seconds\n",
      "Saving file...\n",
      "File saved to segmentations/MySimpleCnn_Feit-inception-v2-reduced-rgb/ns-adenoca-colon-3043-2019-20x-he-a1.tiff\n",
      "Processing region 56 out of 56\n",
      "Processing image took 859.5419564247131 seconds\n",
      "Saving file...\n",
      "File saved to segmentations/MySimpleCnn_Feit-inception-v2-reduced-rgb/ns-adenoca-colon-lupos-15071-2019-20x-he-14.tiff\n",
      "Processing region 567 out of 567\n",
      "Processing image took 9847.778131484985 seconds\n",
      "Saving file...\n",
      "File saved to segmentations/MySimpleCnn_Feit-inception-v2-reduced-rgb/pop-ca-colon-1708-2019-5-20x-he.tiff\n",
      "[[459950   5433   2390    646    524      0    159     26      0      0\n",
      "   60622   2307]\n",
      " [     0      0      0      0      0      0      0      0      0      0\n",
      "       0      0]\n",
      " [  2773   8087  23113   5348   5178      0   7521   3043      0      0\n",
      "    7607     67]\n",
      " [   153    100      0   2826     24      0      0      0      0      0\n",
      "    9422      0]\n",
      " [  2941   5774   5654  59674 214638      0   5997   6236      0      0\n",
      "    2222     92]\n",
      " [  1466     43    155   1827      9    138      0      0      0      0\n",
      "       0     16]\n",
      " [  3157  10598   6160  14639  11618      0  25307  12832      0      0\n",
      "   50641      0]\n",
      " [  8460  18584   6974  30327   8315      0  19363  31079      0      0\n",
      "   39884    247]\n",
      " [     0      0      0      0      0      0      0      0      0      0\n",
      "       0      0]\n",
      " [    40    186   3256    616    234      0    341    567      0      0\n",
      "    3333     31]\n",
      " [ 20104  21219   8620  29581   6034      0  31052  19829      0      0\n",
      "   78279    180]\n",
      " [     0      0      0      0      0      0      0      0      0      0\n",
      "       0      0]]\n",
      "                             precision    recall  f1-score   support\n",
      "\n",
      "             adenocarcinoma       0.92      0.86      0.89    532057\n",
      "          blood_and_vessels       0.00      1.00      0.00         0\n",
      "          connective_tissue       0.41      0.37      0.39     62737\n",
      "                      empty       0.02      0.23      0.04     12525\n",
      "                        fat       0.87      0.71      0.78    303228\n",
      "      inflammation_purulent       1.00      0.04      0.07      3654\n",
      "       muscle_cross_section       0.28      0.19      0.23    134952\n",
      "muscle_longitudinal_section       0.42      0.19      0.26    163233\n",
      "                      nerve       1.00      0.00      0.00      8604\n",
      "              normal_mucosa       0.31      0.36      0.34    214898\n",
      "                    unknown       0.00      1.00      0.00         0\n",
      "\n",
      "                   accuracy                           0.58   1435888\n",
      "                  macro avg       0.48      0.45      0.27   1435888\n",
      "               weighted avg       0.67      0.58      0.61   1435888\n",
      "\n",
      "[0.80530368 0.         0.24089592 0.01821076 0.64039694 0.03776683\n",
      " 0.1269253  0.1510405  0.         0.20142347 0.        ]\n"
     ]
    }
   ],
   "source": [
    "from ml.eval import evaluate_segmentation_on_feit_annotation\n",
    "\n",
    "evaluation_path = Path('data/Feit_colon-annotation_valid/')\n",
    "\n",
    "segmentation_dir = Path('segmentations') / pipeline.params.name\n",
    "\n",
    "evaluate_segmentation_on_feit_annotation(evaluation_path, pipeline.build_segmenter(),\n",
    "                                         32, pipeline.params.class_names,\n",
    "                                         save_segmentations=True, segmentations_dir=segmentation_dir,\n",
    "                                         neighbourhood_size=1)"
   ]
  },
  {
   "cell_type": "code",
   "execution_count": 25,
   "metadata": {
    "pycharm": {
     "name": "#%%\n"
    }
   },
   "outputs": [],
   "source": []
  }
 ],
 "metadata": {
  "kernelspec": {
   "display_name": "Python 3 (ipykernel)",
   "language": "python",
   "name": "python3"
  },
  "language_info": {
   "codemirror_mode": {
    "name": "ipython",
    "version": 3
   },
   "file_extension": ".py",
   "mimetype": "text/x-python",
   "name": "python",
   "nbconvert_exporter": "python",
   "pygments_lexer": "ipython3",
   "version": "3.8.8"
  }
 },
 "nbformat": 4,
 "nbformat_minor": 1
}