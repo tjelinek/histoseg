{
 "cells": [
  {
   "cell_type": "code",
   "execution_count": 5,
   "metadata": {
    "collapsed": true
   },
   "outputs": [
    {
     "name": "stdout",
     "output_type": "stream",
     "text": [
      "/home/jelinek/recetox\n"
     ]
    }
   ],
   "source": [
    "import os\n",
    "\n",
    "os.environ['TF_CPP_MIN_LOG_LEVEL'] = '3'\n",
    "\n",
    "from keras_preprocessing.image import ImageDataGenerator\n",
    "\n",
    "\n",
    "from src.ml.eval import eval_model\n",
    "from ml.pipeline import FeitDataPipeline\n",
    "from tensorflow import keras\n",
    "from tensorflow.keras.callbacks import ReduceLROnPlateau\n",
    "\n",
    "from cfg import *\n",
    "\n",
    "from livelossplot import PlotLossesKerasTF\n",
    "\n",
    "print(os.getcwd())\n",
    "os.chdir('/home/jelinek/recetox/')\n",
    "\n",
    "name = \"MySimpleCnn_Feit-reduced-rgb-no-inception\"\n"
   ]
  },
  {
   "cell_type": "code",
   "execution_count": 6,
   "metadata": {
    "pycharm": {
     "name": "#%%\n"
    }
   },
   "outputs": [],
   "source": [
    "class MySimpleCNNInceptionModule(FeitDataPipeline):\n",
    "\n",
    "    def __init__(self, *args, **kwargs):\n",
    "        super().__init__(*args, **kwargs)\n",
    "\n",
    "        self.model = self.get_compiled_model()\n",
    "        self.params.name = name\n",
    "        self.params.epochs = 200\n",
    "        self.batch_size = 16\n",
    "        self.params.tile_size=256\n",
    "\n",
    "\n",
    "    @staticmethod\n",
    "    def get_compiled_model():\n",
    "        inputs = keras.Input(shape=(256, 256, 3))\n",
    "\n",
    "        x = keras.layers.Conv2D(filters=16, kernel_size=5, strides=(1, 1), padding='same')(inputs)\n",
    "\n",
    "        x = keras.layers.MaxPooling2D(padding='same', pool_size=(2, 2))(x)\n",
    "        x = keras.layers.BatchNormalization(axis=3, epsilon=1.001e-5)(x)\n",
    "\n",
    "        x = keras.layers.Conv2D(filters=32, kernel_size=5, strides=(1, 1), padding='same')(x)\n",
    "        x = keras.layers.MaxPooling2D(padding='same', pool_size=(2, 2))(x)\n",
    "        x = keras.layers.BatchNormalization(axis=3, epsilon=1.001e-5)(x)\n",
    "\n",
    "\n",
    "        x = keras.layers.Conv2D(filters=64, kernel_size=5, strides=(1, 1), padding='same')(x)\n",
    "        x = keras.layers.MaxPooling2D(padding='same', pool_size=(2, 2))(x)\n",
    "        x = keras.layers.BatchNormalization(axis=3, epsilon=1.001e-5)(x)\n",
    "\n",
    "        x = keras.layers.Conv2D(filters=128, kernel_size=5, strides=(1, 1), padding='same')(x)\n",
    "        x = keras.layers.MaxPooling2D(padding='same', pool_size=(2, 2))(x)\n",
    "        x = keras.layers.BatchNormalization(axis=3, epsilon=1.001e-5)(x)\n",
    "\n",
    "        x = keras.layers.Conv2D(filters=256, kernel_size=5, strides=(1, 1), padding='same')(x)\n",
    "        x = keras.layers.MaxPooling2D(padding='same', pool_size=(2, 2))(x)\n",
    "        x = keras.layers.BatchNormalization(axis=3, epsilon=1.001e-5)(x)\n",
    "\n",
    "\n",
    "        x = keras.layers.Conv2D(filters=512, kernel_size=5, strides=(1, 1), padding='same')(x)\n",
    "        x = keras.layers.MaxPooling2D(padding='same', pool_size=(2, 2))(x)\n",
    "        x = keras.layers.BatchNormalization(axis=3, epsilon=1.001e-5)(x)\n",
    "\n",
    "        x = keras.layers.Flatten()(x)\n",
    "        outputs = keras.layers.Dense(units=11, activation='softmax')(x)\n",
    "\n",
    "        model = keras.Model(inputs, outputs, name='MySimpleCnnFewerLayers')\n",
    "        model.summary()\n",
    "        return model\n",
    "\n",
    "    def get_data_loader_training(self):\n",
    "        datagen_train = ImageDataGenerator(horizontal_flip=True, vertical_flip=True, samplewise_center=True,\n",
    "                                           samplewise_std_normalization=True)\n",
    "\n",
    "        return datagen_train.flow_from_directory(directory=self.params.data_training, color_mode='rgb',\n",
    "                                                 class_mode='categorical', batch_size=self.params.batch_size,\n",
    "                                                 shuffle=True,\n",
    "                                                 target_size=(self.params.tile_size, self.params.tile_size))\n",
    "\n",
    "    def get_data_loader_validation(self):\n",
    "        datagen_valid = ImageDataGenerator(samplewise_center=True, samplewise_std_normalization=True)\n",
    "        return datagen_valid.flow_from_directory(directory=self.params.data_validation, color_mode='rgb',\n",
    "                                                 class_mode='categorical', batch_size=self.params.batch_size,\n",
    "                                                 shuffle=False,\n",
    "                                                 target_size=(self.params.tile_size, self.params.tile_size))\n",
    "\n",
    "\n",
    "    def _train_model(self, data_train, data_valid):\n",
    "\n",
    "        reduce_lr = ReduceLROnPlateau(monitor='val_loss', factor=0.1,\n",
    "                                      patience=30, min_lr=1e-4, verbose=1,\n",
    "                                      cooldown=20)\n",
    "\n",
    "        self.model.fit(data_train,\n",
    "                       steps_per_epoch=250,\n",
    "                       epochs=200,\n",
    "                       shuffle=True,\n",
    "                       validation_data=data_valid,\n",
    "                       validation_freq=10,\n",
    "                       verbose=1,\n",
    "                       callbacks=[self.tensorboard, reduce_lr, PlotLossesKerasTF()])"
   ]
  },
  {
   "cell_type": "code",
   "execution_count": 9,
   "metadata": {
    "pycharm": {
     "name": "#%%\n"
    }
   },
   "outputs": [
    {
     "name": "stdout",
     "output_type": "stream",
     "text": [
      "Model: \"MySimpleCnnFewerLayers\"\n",
      "_________________________________________________________________\n",
      "Layer (type)                 Output Shape              Param #   \n",
      "=================================================================\n",
      "input_1 (InputLayer)         [(None, 256, 256, 3)]     0         \n",
      "_________________________________________________________________\n",
      "conv2d (Conv2D)              (None, 256, 256, 16)      1216      \n",
      "_________________________________________________________________\n",
      "max_pooling2d (MaxPooling2D) (None, 128, 128, 16)      0         \n",
      "_________________________________________________________________\n",
      "batch_normalization (BatchNo (None, 128, 128, 16)      64        \n",
      "_________________________________________________________________\n",
      "conv2d_1 (Conv2D)            (None, 128, 128, 32)      12832     \n",
      "_________________________________________________________________\n",
      "max_pooling2d_1 (MaxPooling2 (None, 64, 64, 32)        0         \n",
      "_________________________________________________________________\n",
      "batch_normalization_1 (Batch (None, 64, 64, 32)        128       \n",
      "_________________________________________________________________\n",
      "conv2d_2 (Conv2D)            (None, 64, 64, 64)        51264     \n",
      "_________________________________________________________________\n",
      "max_pooling2d_2 (MaxPooling2 (None, 32, 32, 64)        0         \n",
      "_________________________________________________________________\n",
      "batch_normalization_2 (Batch (None, 32, 32, 64)        256       \n",
      "_________________________________________________________________\n",
      "conv2d_3 (Conv2D)            (None, 32, 32, 128)       204928    \n",
      "_________________________________________________________________\n",
      "max_pooling2d_3 (MaxPooling2 (None, 16, 16, 128)       0         \n",
      "_________________________________________________________________\n",
      "batch_normalization_3 (Batch (None, 16, 16, 128)       512       \n",
      "_________________________________________________________________\n",
      "conv2d_4 (Conv2D)            (None, 16, 16, 256)       819456    \n",
      "_________________________________________________________________\n",
      "max_pooling2d_4 (MaxPooling2 (None, 8, 8, 256)         0         \n",
      "_________________________________________________________________\n",
      "batch_normalization_4 (Batch (None, 8, 8, 256)         1024      \n",
      "_________________________________________________________________\n",
      "conv2d_5 (Conv2D)            (None, 8, 8, 512)         3277312   \n",
      "_________________________________________________________________\n",
      "max_pooling2d_5 (MaxPooling2 (None, 4, 4, 512)         0         \n",
      "_________________________________________________________________\n",
      "batch_normalization_5 (Batch (None, 4, 4, 512)         2048      \n",
      "_________________________________________________________________\n",
      "flatten (Flatten)            (None, 8192)              0         \n",
      "_________________________________________________________________\n",
      "dense (Dense)                (None, 11)                90123     \n",
      "=================================================================\n",
      "Total params: 4,461,163\n",
      "Trainable params: 4,459,147\n",
      "Non-trainable params: 2,016\n",
      "_________________________________________________________________\n"
     ]
    }
   ],
   "source": [
    "pipeline = MySimpleCNNInceptionModule(train_data_dir='data/Feit_colon-annotation-tiles-256/data_train/',\n",
    "                        valid_data_dir='data/Feit_colon-annotation-tiles-256/data_valid/')"
   ]
  },
  {
   "cell_type": "code",
   "execution_count": 10,
   "metadata": {
    "pycharm": {
     "name": "#%%\n"
    }
   },
   "outputs": [
    {
     "data": {
      "text/plain": "<Figure size 864x864 with 4 Axes>",
      "image/png": "[encoded data removed]"
     },
     "metadata": {
      "needs_background": "light"
     },
     "output_type": "display_data"
    },
    {
     "name": "stdout",
     "output_type": "stream",
     "text": [
      "categorical_accuracy\n",
      "\ttraining         \t (min:    0.628, max:    0.986, cur:    0.983)\n",
      "\tvalidation       \t (min:    0.855, max:    0.953, cur:    0.945)\n",
      "Loss\n",
      "\ttraining         \t (min:    0.045, max:    1.843, cur:    0.050)\n",
      "\tvalidation       \t (min:    0.171, max:    0.598, cur:    0.224)\n",
      "lr\n",
      "\tlr               \t (min:    0.001, max:    0.001, cur:    0.001)\n",
      "94/94 [==============================] - 5s 48ms/step - loss: 0.2243 - categorical_accuracy: 0.9446\n",
      "Measuring time\n",
      "--Iteration 10/10\r\n",
      "Batch size: 16\n",
      "Mean time per tile 0.3691ms\n",
      "Confusion Matrix\n",
      "[[316   1   3   0   4   0   0   0   0   0  11]\n",
      " [  0  45  13   1   2   0   1   1   0   0   1]\n",
      " [  1   1 135   0   7   0   0   1   0   0   0]\n",
      " [  0   0   0  10   1   0   0   0   0   0   0]\n",
      " [  0   0   0   1 543   0   0   0   0   0   0]\n",
      " [  0   0   0   0   0   1   0   0   0   0   0]\n",
      " [  0   6   8   0   0   0  62   1   0   0   0]\n",
      " [  0   0   6   1   0   0   1  78   0   0   0]\n",
      " [  0   1   0   0   0   0   0   0   0   0   0]\n",
      " [  0   0   0   0   1   0   0   0   0   0   0]\n",
      " [  8   0   0   0   0   0   0   0   0   0 226]]\n",
      "Classification Report\n",
      "                             precision    recall  f1-score   support\n",
      "\n",
      "             adenocarcinoma       0.97      0.94      0.96       335\n",
      "          blood_and_vessels       0.83      0.70      0.76        64\n",
      "          connective_tissue       0.82      0.93      0.87       145\n",
      "                      empty       0.77      0.91      0.83        11\n",
      "                        fat       0.97      1.00      0.99       544\n",
      "      inflammation_purulent       1.00      1.00      1.00         1\n",
      "       muscle_cross_section       0.97      0.81      0.88        77\n",
      "muscle_longitudinal_section       0.96      0.91      0.93        86\n",
      "                   necrosis       1.00      0.00      0.00         1\n",
      "                      nerve       1.00      0.00      0.00         1\n",
      "              normal_mucosa       0.95      0.97      0.96       234\n",
      "\n",
      "                   accuracy                           0.94      1499\n",
      "                  macro avg       0.93      0.74      0.74      1499\n",
      "               weighted avg       0.95      0.94      0.94      1499\n",
      "\n"
     ]
    }
   ],
   "source": [
    "pipeline.execute_pipeline(perform_validation=True, perform_test_segmentation=False)"
   ]
  },
  {
   "cell_type": "code",
   "execution_count": 11,
   "metadata": {
    "pycharm": {
     "name": "#%%\n"
    }
   },
   "outputs": [],
   "source": [
    "pipeline.save_pipeline()"
   ]
  },
  {
   "cell_type": "code",
   "execution_count": 12,
   "metadata": {
    "pycharm": {
     "name": "#%%\n"
    }
   },
   "outputs": [
    {
     "name": "stdout",
     "output_type": "stream",
     "text": [
      "Found 1499 images belonging to 11 classes.\n",
      "94/94 [==============================] - 5s 48ms/step - loss: 0.2243 - categorical_accuracy: 0.9446\n",
      "Measuring time\n",
      "--Iteration 10/10\r\n",
      "Batch size: 16\n",
      "Mean time per tile 0.3465ms\n",
      "Confusion Matrix\n",
      "[[316   1   3   0   4   0   0   0   0   0  11]\n",
      " [  0  45  13   1   2   0   1   1   0   0   1]\n",
      " [  1   1 135   0   7   0   0   1   0   0   0]\n",
      " [  0   0   0  10   1   0   0   0   0   0   0]\n",
      " [  0   0   0   1 543   0   0   0   0   0   0]\n",
      " [  0   0   0   0   0   1   0   0   0   0   0]\n",
      " [  0   6   8   0   0   0  62   1   0   0   0]\n",
      " [  0   0   6   1   0   0   1  78   0   0   0]\n",
      " [  0   1   0   0   0   0   0   0   0   0   0]\n",
      " [  0   0   0   0   1   0   0   0   0   0   0]\n",
      " [  8   0   0   0   0   0   0   0   0   0 226]]\n",
      "Classification Report\n",
      "                             precision    recall  f1-score   support\n",
      "\n",
      "             adenocarcinoma       0.97      0.94      0.96       335\n",
      "          blood_and_vessels       0.83      0.70      0.76        64\n",
      "          connective_tissue       0.82      0.93      0.87       145\n",
      "                      empty       0.77      0.91      0.83        11\n",
      "                        fat       0.97      1.00      0.99       544\n",
      "      inflammation_purulent       1.00      1.00      1.00         1\n",
      "       muscle_cross_section       0.97      0.81      0.88        77\n",
      "muscle_longitudinal_section       0.96      0.91      0.93        86\n",
      "                   necrosis       1.00      0.00      0.00         1\n",
      "                      nerve       1.00      0.00      0.00         1\n",
      "              normal_mucosa       0.95      0.97      0.96       234\n",
      "\n",
      "                   accuracy                           0.94      1499\n",
      "                  macro avg       0.93      0.74      0.74      1499\n",
      "               weighted avg       0.95      0.94      0.94      1499\n",
      "\n"
     ]
    }
   ],
   "source": [
    "eval_model(pipeline.model,\n",
    "           pipeline.get_data_loader_validation(),\n",
    "           name,\n",
    "           print_confusion_matrix=True,\n",
    "           save_misclassified=True)"
   ]
  },
  {
   "cell_type": "code",
   "execution_count": 7,
   "metadata": {
    "pycharm": {
     "name": "#%%\n"
    }
   },
   "outputs": [],
   "source": [
    "pipeline = FeitDataPipeline.load_pipeline(pipeline_name=name)"
   ]
  },
  {
   "cell_type": "code",
   "execution_count": 8,
   "metadata": {
    "pycharm": {
     "name": "#%%\n"
    }
   },
   "outputs": [
    {
     "name": "stdout",
     "output_type": "stream",
     "text": [
      "Processing region 120 out of 120\n",
      "Post-processing image...\n",
      "Processing grid point 663499 out of 663499\n",
      "Processing image took 2402.7229373455048 seconds\n",
      "Processing region 255 out of 255\n",
      "Post-processing image...\n",
      "Processing grid point 1599360 out of 1599360\n",
      "Processing image took 6106.3985340595245 seconds\n",
      "Processing region 255 out of 255\n",
      "Post-processing image...\n",
      "Processing grid point 1544036 out of 1544036\n",
      "Processing image took 5691.200436592102 seconds\n",
      "Processing region 567 out of 567\n",
      "Post-processing image...\n",
      "Processing grid point 3520448 out of 3520448\n",
      "Processing image took 17761.20197415352 seconds\n",
      "[[373350   5206  10745     86   2668      0     21    363      0      0\n",
      "  136672]\n",
      " [     0      0      0      0      0      0      0      0      0      0\n",
      "       0]\n",
      " [   667   7686  21114   4411   3378      0   3996   4488      0      0\n",
      "    6826]\n",
      " [   241    771      0   1552    359      0      1      0      0      0\n",
      "    9601]\n",
      " [   989   5554   3087  54156 178635      0   3699   6733      0      0\n",
      "    2102]\n",
      " [   964    182    429   1827      0     40      0      0      0      0\n",
      "     212]\n",
      " [  3193  15881  13235  13637  15138      2  12541  15206      7      0\n",
      "   46112]\n",
      " [  4057  28199  16566  28389  12157      0   5740  32038      0      0\n",
      "   36087]\n",
      " [     0      0      0      0      0      0      0      0      0      0\n",
      "       0]\n",
      " [   136    180   4143    517    436      0    251    627      0      0\n",
      "    2314]\n",
      " [     0      0      0      0      0      0      0      0      0      0\n",
      "       0]]\n",
      "                             precision    recall  f1-score   support\n",
      "\n",
      "             adenocarcinoma       0.97      0.71      0.82    529111\n",
      "          blood_and_vessels       0.00      1.00      0.00         0\n",
      "          connective_tissue       0.30      0.40      0.35     52566\n",
      "                      empty       0.01      0.12      0.03     12525\n",
      "                        fat       0.84      0.70      0.76    254955\n",
      "      inflammation_purulent       0.95      0.01      0.02      3654\n",
      "       muscle_cross_section       0.48      0.09      0.16    134952\n",
      "muscle_longitudinal_section       0.54      0.20      0.29    163233\n",
      "                   necrosis       0.00      1.00      0.00         0\n",
      "                      nerve       1.00      0.00      0.00      8604\n",
      "              normal_mucosa       0.00      1.00      0.00         0\n",
      "\n",
      "                   accuracy                           0.53   1159600\n",
      "                  macro avg       0.46      0.48      0.22   1159600\n",
      "               weighted avg       0.78      0.53      0.62   1159600\n",
      "\n",
      "Jaccard score: \n",
      "Vector:  [0.69221185 0.         0.20952457 0.01343165 0.61791962 0.01094092\n",
      " 0.08436029 0.16804616 0.         0.         0.        ]\n",
      "Weighted:  0.4948568011600915\n"
     ]
    }
   ],
   "source": [
    "from ml.eval import evaluate_segmentation_on_feit_annotation\n",
    "\n",
    "evaluation_path = Path('data/Feit_colon-annotation_valid/')\n",
    "\n",
    "segmentation_dir = Path('segmentations') / pipeline.params.name\n",
    "\n",
    "evaluate_segmentation_on_feit_annotation(evaluation_path, pipeline.build_segmenter(),\n",
    "                                         32, pipeline.params.class_names,\n",
    "                                         save_segmentations=False, segmentations_dir=segmentation_dir,\n",
    "                                         neighbourhood_size=1, use_sampling=True)"
   ]
  },
  {
   "cell_type": "code",
   "execution_count": null,
   "metadata": {
    "pycharm": {
     "name": "#%%\n"
    }
   },
   "outputs": [],
   "source": []
  }
 ],
 "metadata": {
  "kernelspec": {
   "display_name": "Python 3 (ipykernel)",
   "language": "python",
   "name": "python3"
  },
  "language_info": {
   "codemirror_mode": {
    "name": "ipython",
    "version": 3
   },
   "file_extension": ".py",
   "mimetype": "text/x-python",
   "name": "python",
   "nbconvert_exporter": "python",
   "pygments_lexer": "ipython3",
   "version": "3.8.8"
  }
 },
 "nbformat": 4,
 "nbformat_minor": 1
}