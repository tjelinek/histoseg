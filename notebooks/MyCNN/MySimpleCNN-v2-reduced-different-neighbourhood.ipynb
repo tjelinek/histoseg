{
 "cells": [
  {
   "cell_type": "code",
   "execution_count": 9,
   "metadata": {
    "collapsed": true,
    "pycharm": {
     "name": "#%%\n"
    }
   },
   "outputs": [
    {
     "name": "stdout",
     "output_type": "stream",
     "text": [
      "/home/jelinek/recetox\n"
     ]
    }
   ],
   "source": [
    "import os\n",
    "\n",
    "os.environ['TF_CPP_MIN_LOG_LEVEL'] = '3'\n",
    "\n",
    "from keras_preprocessing.image import ImageDataGenerator\n",
    "\n",
    "\n",
    "from ml.eval import eval_model\n",
    "from ml.pipeline import FeitDataPipeline\n",
    "from tensorflow import keras\n",
    "\n",
    "from tensorflow.keras.optimizers import Adam\n",
    "from tensorflow.keras.optimizers import schedules\n",
    "from tensorflow.keras.callbacks import ReduceLROnPlateau\n",
    "from tensorflow.keras.layers import concatenate\n",
    "\n",
    "from cfg import *\n",
    "\n",
    "from livelossplot import PlotLossesKerasTF\n",
    "\n",
    "print(os.getcwd())\n",
    "os.chdir('/home/jelinek/recetox/')\n",
    "\n",
    "name = \"MySimpleCnn_Feit-reduced-rgb-no-inception-different-neighbourhood\"\n"
   ]
  },
  {
   "cell_type": "code",
   "execution_count": 10,
   "metadata": {
    "pycharm": {
     "name": "#%%\n"
    }
   },
   "outputs": [],
   "source": [
    "class MySimpleCNNInceptionModule(FeitDataPipeline):\n",
    "\n",
    "    def __init__(self, *args, **kwargs):\n",
    "        super().__init__(*args, **kwargs)\n",
    "\n",
    "        self.model = self.get_compiled_model()\n",
    "        self.params.name = name\n",
    "        self.params.epochs = 200\n",
    "        self.batch_size = 16\n",
    "        self.params.tile_size=256\n",
    "        self.params.number_of_classes = 12\n",
    "        self.params.latent_representation_size = 12\n",
    "\n",
    "\n",
    "    @staticmethod\n",
    "    def get_compiled_model():\n",
    "        inputs = keras.Input(shape=(256, 256, 3))\n",
    "\n",
    "        x = keras.layers.Conv2D(filters=16, kernel_size=5, strides=(1, 1), padding='same')(inputs)\n",
    "\n",
    "        x = keras.layers.MaxPooling2D(padding='same', pool_size=(2, 2))(x)\n",
    "        x = keras.layers.BatchNormalization(axis=3, epsilon=1.001e-5)(x)\n",
    "\n",
    "        x = keras.layers.Conv2D(filters=32, kernel_size=5, strides=(1, 1), padding='same')(x)\n",
    "        x = keras.layers.MaxPooling2D(padding='same', pool_size=(2, 2))(x)\n",
    "        x = keras.layers.BatchNormalization(axis=3, epsilon=1.001e-5)(x)\n",
    "\n",
    "\n",
    "        x = keras.layers.Conv2D(filters=64, kernel_size=5, strides=(1, 1), padding='same')(x)\n",
    "        x = keras.layers.MaxPooling2D(padding='same', pool_size=(2, 2))(x)\n",
    "        x = keras.layers.BatchNormalization(axis=3, epsilon=1.001e-5)(x)\n",
    "\n",
    "        x = keras.layers.Conv2D(filters=128, kernel_size=5, strides=(1, 1), padding='same')(x)\n",
    "        x = keras.layers.MaxPooling2D(padding='same', pool_size=(2, 2))(x)\n",
    "        x = keras.layers.BatchNormalization(axis=3, epsilon=1.001e-5)(x)\n",
    "\n",
    "        x = keras.layers.Conv2D(filters=256, kernel_size=5, strides=(1, 1), padding='same')(x)\n",
    "        x = keras.layers.MaxPooling2D(padding='same', pool_size=(2, 2))(x)\n",
    "        x = keras.layers.BatchNormalization(axis=3, epsilon=1.001e-5)(x)\n",
    "\n",
    "\n",
    "        x = keras.layers.Conv2D(filters=512, kernel_size=5, strides=(1, 1), padding='same')(x)\n",
    "        x = keras.layers.MaxPooling2D(padding='same', pool_size=(2, 2))(x)\n",
    "        x = keras.layers.BatchNormalization(axis=3, epsilon=1.001e-5)(x)\n",
    "\n",
    "        x = keras.layers.Flatten()(x)\n",
    "        outputs = keras.layers.Dense(units=12, activation='softmax')(x)\n",
    "\n",
    "        model = keras.Model(inputs, outputs, name='MySimpleCnnFewerLayers')\n",
    "        model.summary()\n",
    "        return model\n",
    "\n",
    "    def get_data_loader_training(self):\n",
    "        datagen_train = ImageDataGenerator(horizontal_flip=True, vertical_flip=True, samplewise_center=True,\n",
    "                                           samplewise_std_normalization=True)\n",
    "\n",
    "        return datagen_train.flow_from_directory(directory=self.params.data_training, color_mode='rgb',\n",
    "                                                 class_mode='categorical', batch_size=self.params.batch_size,\n",
    "                                                 shuffle=True,\n",
    "                                                 target_size=(self.params.tile_size, self.params.tile_size))\n",
    "\n",
    "    def get_data_loader_validation(self):\n",
    "        datagen_valid = ImageDataGenerator(samplewise_center=True, samplewise_std_normalization=True)\n",
    "        return datagen_valid.flow_from_directory(directory=self.params.data_validation, color_mode='rgb',\n",
    "                                                 class_mode='categorical', batch_size=self.params.batch_size,\n",
    "                                                 shuffle=False,\n",
    "                                                 target_size=(self.params.tile_size, self.params.tile_size))\n",
    "\n",
    "\n",
    "    def _train_model(self, data_train, data_valid):\n",
    "\n",
    "        reduce_lr = ReduceLROnPlateau(monitor='val_loss', factor=0.1,\n",
    "                                      patience=30, min_lr=1e-4, verbose=1,\n",
    "                                      cooldown=20)\n",
    "\n",
    "        self.model.fit(data_train,\n",
    "                       steps_per_epoch=250,\n",
    "                       epochs=200,\n",
    "                       shuffle=True,\n",
    "                       validation_data=data_valid,\n",
    "                       validation_freq=10,\n",
    "                       verbose=1,\n",
    "                       callbacks=[self.tensorboard, reduce_lr, PlotLossesKerasTF()])"
   ]
  },
  {
   "cell_type": "code",
   "execution_count": 11,
   "metadata": {
    "pycharm": {
     "name": "#%%\n"
    }
   },
   "outputs": [
    {
     "name": "stdout",
     "output_type": "stream",
     "text": [
      "Model: \"MySimpleCnnFewerLayers\"\n",
      "_________________________________________________________________\n",
      "Layer (type)                 Output Shape              Param #   \n",
      "=================================================================\n",
      "input_3 (InputLayer)         [(None, 256, 256, 3)]     0         \n",
      "_________________________________________________________________\n",
      "conv2d_12 (Conv2D)           (None, 256, 256, 16)      1216      \n",
      "_________________________________________________________________\n",
      "max_pooling2d_12 (MaxPooling (None, 128, 128, 16)      0         \n",
      "_________________________________________________________________\n",
      "batch_normalization_12 (Batc (None, 128, 128, 16)      64        \n",
      "_________________________________________________________________\n",
      "conv2d_13 (Conv2D)           (None, 128, 128, 32)      12832     \n",
      "_________________________________________________________________\n",
      "max_pooling2d_13 (MaxPooling (None, 64, 64, 32)        0         \n",
      "_________________________________________________________________\n",
      "batch_normalization_13 (Batc (None, 64, 64, 32)        128       \n",
      "_________________________________________________________________\n",
      "conv2d_14 (Conv2D)           (None, 64, 64, 64)        51264     \n",
      "_________________________________________________________________\n",
      "max_pooling2d_14 (MaxPooling (None, 32, 32, 64)        0         \n",
      "_________________________________________________________________\n",
      "batch_normalization_14 (Batc (None, 32, 32, 64)        256       \n",
      "_________________________________________________________________\n",
      "conv2d_15 (Conv2D)           (None, 32, 32, 128)       204928    \n",
      "_________________________________________________________________\n",
      "max_pooling2d_15 (MaxPooling (None, 16, 16, 128)       0         \n",
      "_________________________________________________________________\n",
      "batch_normalization_15 (Batc (None, 16, 16, 128)       512       \n",
      "_________________________________________________________________\n",
      "conv2d_16 (Conv2D)           (None, 16, 16, 256)       819456    \n",
      "_________________________________________________________________\n",
      "max_pooling2d_16 (MaxPooling (None, 8, 8, 256)         0         \n",
      "_________________________________________________________________\n",
      "batch_normalization_16 (Batc (None, 8, 8, 256)         1024      \n",
      "_________________________________________________________________\n",
      "conv2d_17 (Conv2D)           (None, 8, 8, 512)         3277312   \n",
      "_________________________________________________________________\n",
      "max_pooling2d_17 (MaxPooling (None, 4, 4, 512)         0         \n",
      "_________________________________________________________________\n",
      "batch_normalization_17 (Batc (None, 4, 4, 512)         2048      \n",
      "_________________________________________________________________\n",
      "flatten_2 (Flatten)          (None, 8192)              0         \n",
      "_________________________________________________________________\n",
      "dense_2 (Dense)              (None, 12)                98316     \n",
      "=================================================================\n",
      "Total params: 4,469,356\n",
      "Trainable params: 4,467,340\n",
      "Non-trainable params: 2,016\n",
      "_________________________________________________________________\n"
     ]
    }
   ],
   "source": [
    "pipeline = MySimpleCNNInceptionModule(train_data_dir='data/Feit_colon-annotation-tiles-256/data_train/',\n",
    "                        valid_data_dir='data/Feit_colon-annotation-tiles-256/data_valid/')"
   ]
  },
  {
   "cell_type": "code",
   "execution_count": 12,
   "metadata": {
    "pycharm": {
     "name": "#%%\n"
    }
   },
   "outputs": [
    {
     "data": {
      "text/plain": "<Figure size 864x864 with 4 Axes>",
      "image/png": "[encoded data removed]"
     },
     "metadata": {
      "needs_background": "light"
     },
     "output_type": "display_data"
    },
    {
     "name": "stdout",
     "output_type": "stream",
     "text": [
      "categorical_accuracy\n",
      "\ttraining         \t (min:    0.632, max:    0.984, cur:    0.980)\n",
      "\tvalidation       \t (min:    0.752, max:    0.949, cur:    0.940)\n",
      "Loss\n",
      "\ttraining         \t (min:    0.047, max:    1.809, cur:    0.057)\n",
      "\tvalidation       \t (min:    0.176, max:    1.045, cur:    0.229)\n",
      "lr\n",
      "\tlr               \t (min:    0.001, max:    0.001, cur:    0.001)\n",
      "10/10 [==============================] - 1s 54ms/step - loss: 0.0800 - categorical_accuracy: 0.9625\n",
      "Measuring time\n",
      "--Iteration 10/10\r\n",
      "Batch size: 16\n",
      "Mean time per tile 0.3947ms\n",
      "Confusion Matrix\n",
      "[[326   0   1   0   2   0   1   0   0   0   3   2]\n",
      " [  1  44   8   1   0   0   6   4   0   0   0   0]\n",
      " [  1   9 120   0   2   0   5   6   0   0   2   0]\n",
      " [  0   0   0  10   1   0   0   0   0   0   0   0]\n",
      " [  0   0   3   1 539   0   0   0   0   0   1   0]\n",
      " [  0   0   0   0   0   1   0   0   0   0   0   0]\n",
      " [  0   1   0   0   0   0  73   3   0   0   0   0]\n",
      " [  0   1   1   0   0   0   4  80   0   0   0   0]\n",
      " [  0   0   0   0   0   0   1   0   0   0   0   0]\n",
      " [  0   0   0   0   1   0   0   0   0   0   0   0]\n",
      " [ 19   1   0   0   1   0   0   1   0   0 211   1]\n",
      " [  2   0   0   0   0   0   0   0   0   0   0 116]]\n",
      "Classification Report\n",
      "                             precision    recall  f1-score   support\n",
      "\n",
      "             adenocarcinoma       0.93      0.97      0.95       335\n",
      "          blood_and_vessels       0.79      0.69      0.73        64\n",
      "          connective_tissue       0.90      0.83      0.86       145\n",
      "                      empty       0.83      0.91      0.87        11\n",
      "                        fat       0.99      0.99      0.99       544\n",
      "      inflammation_purulent       1.00      1.00      1.00         1\n",
      "       muscle_cross_section       0.81      0.95      0.87        77\n",
      "muscle_longitudinal_section       0.85      0.93      0.89        86\n",
      "                   necrosis       1.00      0.00      0.00         1\n",
      "                      nerve       1.00      0.00      0.00         1\n",
      "              normal_mucosa       0.97      0.90      0.94       234\n",
      "                    unknown       0.97      0.98      0.98       118\n",
      "\n",
      "                   accuracy                           0.94      1617\n",
      "                  macro avg       0.92      0.76      0.76      1617\n",
      "               weighted avg       0.94      0.94      0.94      1617\n",
      "\n"
     ]
    }
   ],
   "source": [
    "pipeline.execute_pipeline(perform_validation=True, perform_test_segmentation=False)"
   ]
  },
  {
   "cell_type": "code",
   "execution_count": 13,
   "metadata": {
    "pycharm": {
     "name": "#%%\n"
    }
   },
   "outputs": [],
   "source": [
    "pipeline.save_pipeline()"
   ]
  },
  {
   "cell_type": "code",
   "execution_count": 14,
   "metadata": {
    "pycharm": {
     "name": "#%%\n"
    }
   },
   "outputs": [
    {
     "name": "stdout",
     "output_type": "stream",
     "text": [
      "Found 1617 images belonging to 12 classes.\n",
      "10/10 [==============================] - 1s 54ms/step - loss: 0.0800 - categorical_accuracy: 0.9625\n",
      "Measuring time\n",
      "--Iteration 10/10\r\n",
      "Batch size: 16\n",
      "Mean time per tile 0.3955ms\n",
      "Confusion Matrix\n",
      "[[326   0   1   0   2   0   1   0   0   0   3   2]\n",
      " [  1  44   8   1   0   0   6   4   0   0   0   0]\n",
      " [  1   9 120   0   2   0   5   6   0   0   2   0]\n",
      " [  0   0   0  10   1   0   0   0   0   0   0   0]\n",
      " [  0   0   3   1 539   0   0   0   0   0   1   0]\n",
      " [  0   0   0   0   0   1   0   0   0   0   0   0]\n",
      " [  0   1   0   0   0   0  73   3   0   0   0   0]\n",
      " [  0   1   1   0   0   0   4  80   0   0   0   0]\n",
      " [  0   0   0   0   0   0   1   0   0   0   0   0]\n",
      " [  0   0   0   0   1   0   0   0   0   0   0   0]\n",
      " [ 19   1   0   0   1   0   0   1   0   0 211   1]\n",
      " [  2   0   0   0   0   0   0   0   0   0   0 116]]\n",
      "Classification Report\n",
      "                             precision    recall  f1-score   support\n",
      "\n",
      "             adenocarcinoma       0.93      0.97      0.95       335\n",
      "          blood_and_vessels       0.79      0.69      0.73        64\n",
      "          connective_tissue       0.90      0.83      0.86       145\n",
      "                      empty       0.83      0.91      0.87        11\n",
      "                        fat       0.99      0.99      0.99       544\n",
      "      inflammation_purulent       1.00      1.00      1.00         1\n",
      "       muscle_cross_section       0.81      0.95      0.87        77\n",
      "muscle_longitudinal_section       0.85      0.93      0.89        86\n",
      "                   necrosis       1.00      0.00      0.00         1\n",
      "                      nerve       1.00      0.00      0.00         1\n",
      "              normal_mucosa       0.97      0.90      0.94       234\n",
      "                    unknown       0.97      0.98      0.98       118\n",
      "\n",
      "                   accuracy                           0.94      1617\n",
      "                  macro avg       0.92      0.76      0.76      1617\n",
      "               weighted avg       0.94      0.94      0.94      1617\n",
      "\n"
     ]
    }
   ],
   "source": [
    "eval_model(pipeline.model,\n",
    "           pipeline.get_data_loader_validation(),\n",
    "           name,\n",
    "           print_confusion_matrix=True,\n",
    "           save_misclassified=True)"
   ]
  },
  {
   "cell_type": "code",
   "execution_count": 15,
   "metadata": {
    "pycharm": {
     "name": "#%%\n"
    }
   },
   "outputs": [],
   "source": [
    "pipeline = FeitDataPipeline.load_pipeline(pipeline_name=name)"
   ]
  },
  {
   "cell_type": "code",
   "execution_count": 16,
   "outputs": [
    {
     "name": "stdout",
     "output_type": "stream",
     "text": [
      "Processing region 120 out of 120\n",
      "Processing image took 1839.6662385463715 seconds\n",
      "Saving file...\n",
      "File saved to segmentations/MySimpleCnn_Feit-reduced-rgb-no-inception-different-neighbourhood/ns-adenoca-colon-15071-2019-20x-he-4.tiff\n",
      "Processing region 255 out of 255\n",
      "Processing image took 4415.394505023956 seconds\n",
      "Saving file...\n",
      "File saved to segmentations/MySimpleCnn_Feit-reduced-rgb-no-inception-different-neighbourhood/ns-adenoca-colon-15072-2019-20x-he-a2.tiff\n",
      "Processing region 255 out of 255\n",
      "Processing image took 4257.638679742813 seconds\n",
      "Saving file...\n",
      "File saved to segmentations/MySimpleCnn_Feit-reduced-rgb-no-inception-different-neighbourhood/ns-adenoca-colon-3043-2019-20x-he-a1.tiff\n",
      "Processing region 567 out of 567\n",
      "Processing image took 9673.991230249405 seconds\n",
      "Saving file...\n",
      "File saved to segmentations/MySimpleCnn_Feit-reduced-rgb-no-inception-different-neighbourhood/pop-ca-colon-1708-2019-5-20x-he.tiff\n",
      "[[423730   5907   9478    244   2273     13   1136   4437      3      0\n",
      "   75973   5917]\n",
      " [     0      0      0      0      0      0      0      0      0      0\n",
      "       0      0]\n",
      " [  4096   7105  13711   4314   2655      9   6832   7191      0      1\n",
      "    6562     90]\n",
      " [   604    848      5   1346    294      0     20    131      0      0\n",
      "    9096    181]\n",
      " [  4031   6268   4939  53895 169909      8   4384   8475      0      1\n",
      "    2942    103]\n",
      " [   717    167     96   1820     19    617    198      0      0      0\n",
      "      16      4]\n",
      " [  7026  10504   4275  13082  12169      0  20531  23781      6      0\n",
      "   43364    214]\n",
      " [  8899  14315   5441  27802   9642      5  18682  43846     11      1\n",
      "   34428    161]\n",
      " [     0      0      0      0      0      0      0      0      0      0\n",
      "       0      0]\n",
      " [   301    350   3215    543    479      0    438   1008      0      0\n",
      "    2242     28]\n",
      " [ 33793  20218   6488  26494   8889      0  26804  27332      4      0\n",
      "   63714   1162]\n",
      " [     0      0      0      0      0      0      0      0      0      0\n",
      "       0      0]]\n",
      "                             precision    recall  f1-score   support\n",
      "\n",
      "             adenocarcinoma       0.88      0.80      0.84    529111\n",
      "          blood_and_vessels       0.00      1.00      0.00         0\n",
      "          connective_tissue       0.29      0.26      0.27     52566\n",
      "                      empty       0.01      0.11      0.02     12525\n",
      "                        fat       0.82      0.67      0.74    254955\n",
      "      inflammation_purulent       0.95      0.17      0.29      3654\n",
      "       muscle_cross_section       0.26      0.15      0.19    134952\n",
      "muscle_longitudinal_section       0.38      0.27      0.31    163233\n",
      "                   necrosis       0.00      1.00      0.00         0\n",
      "                      nerve       0.00      0.00      0.00      8604\n",
      "              normal_mucosa       0.27      0.30      0.28    214898\n",
      "                    unknown       0.00      1.00      0.00         0\n",
      "\n",
      "                   accuracy                           0.54   1374498\n",
      "                  macro avg       0.32      0.48      0.24   1374498\n",
      "               weighted avg       0.62      0.54      0.57   1374498\n",
      "\n",
      "Jaccard score: \n",
      "Vector:  [0.71992157 0.         0.15850317 0.00956516 0.58312827 0.167254\n",
      " 0.10613298 0.18611304 0.         0.         0.16357013 0.        ]\n",
      "Weighted:  0.44998702174898964\n"
     ]
    }
   ],
   "source": [
    "from ml.eval import evaluate_segmentation_on_feit_annotation\n",
    "\n",
    "evaluation_path = Path('data/Feit_colon-annotation_valid/')\n",
    "\n",
    "segmentation_dir = Path('segmentations') / pipeline.params.name\n",
    "\n",
    "evaluate_segmentation_on_feit_annotation(evaluation_path, pipeline.build_segmenter(),\n",
    "                                         32, pipeline.params.class_names,\n",
    "                                         save_segmentations=True, segmentations_dir=segmentation_dir,\n",
    "                                         neighbourhood_size=0)"
   ],
   "metadata": {
    "collapsed": false,
    "pycharm": {
     "name": "#%%\n"
    }
   }
  },
  {
   "cell_type": "code",
   "execution_count": 17,
   "outputs": [
    {
     "name": "stdout",
     "output_type": "stream",
     "text": [
      "Processing region 120 out of 120\n",
      "Processing image took 1858.6434519290924 seconds\n",
      "Saving file...\n",
      "File saved to segmentations/MySimpleCnn_Feit-reduced-rgb-no-inception-different-neighbourhood/ns-adenoca-colon-15071-2019-20x-he-4.tiff\n",
      "Processing region 255 out of 255\n",
      "Processing image took 4426.317299604416 seconds\n",
      "Saving file...\n",
      "File saved to segmentations/MySimpleCnn_Feit-reduced-rgb-no-inception-different-neighbourhood/ns-adenoca-colon-15072-2019-20x-he-a2.tiff\n",
      "Processing region 255 out of 255\n",
      "Processing image took 4266.866996526718 seconds\n",
      "Saving file...\n",
      "File saved to segmentations/MySimpleCnn_Feit-reduced-rgb-no-inception-different-neighbourhood/ns-adenoca-colon-3043-2019-20x-he-a1.tiff\n",
      "Processing region 567 out of 567\n",
      "Processing image took 9705.808732032776 seconds\n",
      "Saving file...\n",
      "File saved to segmentations/MySimpleCnn_Feit-reduced-rgb-no-inception-different-neighbourhood/pop-ca-colon-1708-2019-5-20x-he.tiff\n",
      "[[468757   4593   3752     65    509      0    130   2520      0      0\n",
      "   48196    589]\n",
      " [     0      0      0      0      0      0      0      0      0      0\n",
      "       0      0]\n",
      " [  2812   5930  15623   4588   2762      3   6432   7458      0      0\n",
      "    6958      0]\n",
      " [    53    122      0   2434     13      0      0      0      0      0\n",
      "    9903      0]\n",
      " [  1523   4423   1294  57625 174605      0   4940   8611      0      0\n",
      "    1934      0]\n",
      " [   881     80    108   1827      2    650    106      0      0      0\n",
      "       0      0]\n",
      " [  3515   8687   2163  13967  12500      0  21614  25685      0      0\n",
      "   46790     31]\n",
      " [  6481  11040   3106  29286   8369      0  19533  48285      0      0\n",
      "   37133      0]\n",
      " [     0      0      0      0      0      0      0      0      0      0\n",
      "       0      0]\n",
      " [    93    209   4006    541    439      0    320    882      0      0\n",
      "    2114      0]\n",
      " [ 22475  21342   4226  29094   7192      0  27514  27844      0      0\n",
      "   75133     78]\n",
      " [     0      0      0      0      0      0      0      0      0      0\n",
      "       0      0]]\n",
      "                             precision    recall  f1-score   support\n",
      "\n",
      "             adenocarcinoma       0.93      0.89      0.91    529111\n",
      "          blood_and_vessels       0.00      1.00      0.00         0\n",
      "          connective_tissue       0.46      0.30      0.36     52566\n",
      "                      empty       0.02      0.19      0.03     12525\n",
      "                        fat       0.85      0.68      0.76    254955\n",
      "      inflammation_purulent       1.00      0.18      0.30      3654\n",
      "       muscle_cross_section       0.27      0.16      0.20    134952\n",
      "muscle_longitudinal_section       0.40      0.30      0.34    163233\n",
      "                      nerve       1.00      0.00      0.00      8604\n",
      "              normal_mucosa       0.33      0.35      0.34    214898\n",
      "                    unknown       0.00      1.00      0.00         0\n",
      "\n",
      "                   accuracy                           0.59   1374498\n",
      "                  macro avg       0.48      0.46      0.29   1374498\n",
      "               weighted avg       0.66      0.59      0.62   1374498\n",
      "\n",
      "Jaccard score: \n",
      "Vector:  [0.82681358 0.         0.21935946 0.01627898 0.60892931 0.17774132\n",
      " 0.11145431 0.20439566 0.         0.20420682 0.        ]\n",
      "Weighted:  0.5073842827081977\n"
     ]
    }
   ],
   "source": [
    "from ml.eval import evaluate_segmentation_on_feit_annotation\n",
    "\n",
    "evaluation_path = Path('data/Feit_colon-annotation_valid/')\n",
    "\n",
    "segmentation_dir = Path('segmentations') / pipeline.params.name\n",
    "\n",
    "evaluate_segmentation_on_feit_annotation(evaluation_path, pipeline.build_segmenter(),\n",
    "                                         32, pipeline.params.class_names,\n",
    "                                         save_segmentations=True, segmentations_dir=segmentation_dir,\n",
    "                                         neighbourhood_size=1)"
   ],
   "metadata": {
    "collapsed": false,
    "pycharm": {
     "name": "#%%\n"
    }
   }
  },
  {
   "cell_type": "code",
   "execution_count": 18,
   "outputs": [
    {
     "name": "stdout",
     "output_type": "stream",
     "text": [
      "Processing region 120 out of 120\n",
      "Processing image took 1858.14719247818 seconds\n",
      "Saving file...\n",
      "File saved to segmentations/MySimpleCnn_Feit-reduced-rgb-no-inception-different-neighbourhood/ns-adenoca-colon-15071-2019-20x-he-4.tiff\n",
      "Processing region 255 out of 255\n",
      "Processing image took 4489.981570005417 seconds\n",
      "Saving file...\n",
      "File saved to segmentations/MySimpleCnn_Feit-reduced-rgb-no-inception-different-neighbourhood/ns-adenoca-colon-15072-2019-20x-he-a2.tiff\n",
      "Processing region 255 out of 255\n",
      "Processing image took 4452.695838928223 seconds\n",
      "Saving file...\n",
      "File saved to segmentations/MySimpleCnn_Feit-reduced-rgb-no-inception-different-neighbourhood/ns-adenoca-colon-3043-2019-20x-he-a1.tiff\n",
      "Processing region 567 out of 567\n",
      "Processing image took 10065.388505220413 seconds\n",
      "Saving file...\n",
      "File saved to segmentations/MySimpleCnn_Feit-reduced-rgb-no-inception-different-neighbourhood/pop-ca-colon-1708-2019-5-20x-he.tiff\n",
      "[[475195   4464   9836    508    439      0    495   2753      0      0\n",
      "   35421      0]\n",
      " [     0      0      0      0      0      0      0      0      0      0\n",
      "       0      0]\n",
      " [  3007   4454  14938   5056   2395      0   6499   7608      0      0\n",
      "    8609      0]\n",
      " [    14      0      0   2592      0      0      0      0      0      0\n",
      "    9919      0]\n",
      " [  1136   4075    569  60757 173419      0   4784   8282      0      0\n",
      "    1933      0]\n",
      " [  1005      0     14   2164      0    437     34      0      0      0\n",
      "       0      0]\n",
      " [   787   7251   2622  15840  10624      0  19086  27310      0      0\n",
      "   51432      0]\n",
      " [ 10430   8174   1436  29660   9223      0  13956  47333      0      0\n",
      "   43021      0]\n",
      " [     0      0      0      0      0      0      0      0      0      0\n",
      "       0      0]\n",
      " [     0    328   3392    531    866      0    524    921      0      0\n",
      "    2042      0]\n",
      " [ 12109  22433   5724  29771   6250      0  27007  28468      0      0\n",
      "   83136      0]\n",
      " [     0      0      0      0      0      0      0      0      0      0\n",
      "       0      0]]\n",
      "                             precision    recall  f1-score   support\n",
      "\n",
      "             adenocarcinoma       0.94      0.90      0.92    529111\n",
      "          blood_and_vessels       0.00      1.00      0.00         0\n",
      "          connective_tissue       0.39      0.28      0.33     52566\n",
      "                      empty       0.02      0.21      0.03     12525\n",
      "                        fat       0.85      0.68      0.76    254955\n",
      "      inflammation_purulent       1.00      0.12      0.21      3654\n",
      "       muscle_cross_section       0.26      0.14      0.18    134952\n",
      "muscle_longitudinal_section       0.39      0.29      0.33    163233\n",
      "                      nerve       1.00      0.00      0.00      8604\n",
      "              normal_mucosa       0.35      0.39      0.37    214898\n",
      "\n",
      "                   accuracy                           0.59   1374498\n",
      "                  macro avg       0.52      0.40      0.31   1374498\n",
      "               weighted avg       0.67      0.59      0.62   1374498\n",
      "\n",
      "Jaccard score: \n",
      "Vector:  [0.85221638 0.         0.19614228 0.01652935 0.60901767 0.11959496\n",
      " 0.10138592 0.19839883 0.         0.226359  ]\n",
      "Weighted:  0.5179019311674241\n"
     ]
    }
   ],
   "source": [
    "from ml.eval import evaluate_segmentation_on_feit_annotation\n",
    "\n",
    "evaluation_path = Path('data/Feit_colon-annotation_valid/')\n",
    "\n",
    "segmentation_dir = Path('segmentations') / pipeline.params.name\n",
    "\n",
    "evaluate_segmentation_on_feit_annotation(evaluation_path, pipeline.build_segmenter(),\n",
    "                                         32, pipeline.params.class_names,\n",
    "                                         save_segmentations=True, segmentations_dir=segmentation_dir,\n",
    "                                         neighbourhood_size=3)"
   ],
   "metadata": {
    "collapsed": false,
    "pycharm": {
     "name": "#%%\n"
    }
   }
  },
  {
   "cell_type": "code",
   "execution_count": 19,
   "outputs": [
    {
     "name": "stdout",
     "output_type": "stream",
     "text": [
      "Processing region 120 out of 120\n",
      "Processing image took 1972.3568127155304 seconds\n",
      "Saving file...\n",
      "File saved to segmentations/MySimpleCnn_Feit-reduced-rgb-no-inception-different-neighbourhood/ns-adenoca-colon-15071-2019-20x-he-4.tiff\n",
      "Processing region 255 out of 255\n",
      "Processing image took 4851.948832273483 seconds\n",
      "Saving file...\n",
      "File saved to segmentations/MySimpleCnn_Feit-reduced-rgb-no-inception-different-neighbourhood/ns-adenoca-colon-15072-2019-20x-he-a2.tiff\n",
      "Processing region 255 out of 255\n",
      "Processing image took 5018.098630666733 seconds\n",
      "Saving file...\n",
      "File saved to segmentations/MySimpleCnn_Feit-reduced-rgb-no-inception-different-neighbourhood/ns-adenoca-colon-3043-2019-20x-he-a1.tiff\n",
      "Processing region 567 out of 567\n",
      "Processing image took 10542.759328603745 seconds\n",
      "Saving file...\n",
      "File saved to segmentations/MySimpleCnn_Feit-reduced-rgb-no-inception-different-neighbourhood/pop-ca-colon-1708-2019-5-20x-he.tiff\n",
      "[[465339   4415  23887    563    464      0    999   2940      0      0\n",
      "   30504      0]\n",
      " [     0      0      0      0      0      0      0      0      0      0\n",
      "       0      0]\n",
      " [  3331   4910  12366   5079   2472      0   6329   7945      0      0\n",
      "   10134      0]\n",
      " [     0      0      0   2389      0      0      0      0      0      0\n",
      "   10136      0]\n",
      " [   831   4398    728  62298 171965      0   4628   8153      0      0\n",
      "    1954      0]\n",
      " [  1742      0     43   1869      0      0      0      0      0      0\n",
      "       0      0]\n",
      " [   249   5132   3197  15979  14334      0  14586  27181      0      0\n",
      "   54294      0]\n",
      " [ 13825   8520   1493  29933   8517      0  11884  45795      0      0\n",
      "   43266      0]\n",
      " [     0      0      0      0      0      0      0      0      0      0\n",
      "       0      0]\n",
      " [     0    238   3001    479   1488      0    141   1021      0      0\n",
      "    2236      0]\n",
      " [  4165  22049   3887  30456   5853      0  27381  28398      0      0\n",
      "   92709      0]\n",
      " [     0      0      0      0      0      0      0      0      0      0\n",
      "       0      0]]\n",
      "                             precision    recall  f1-score   support\n",
      "\n",
      "             adenocarcinoma       0.95      0.88      0.91    529111\n",
      "          blood_and_vessels       0.00      1.00      0.00         0\n",
      "          connective_tissue       0.25      0.24      0.24     52566\n",
      "                      empty       0.02      0.19      0.03     12525\n",
      "                        fat       0.84      0.67      0.75    254955\n",
      "      inflammation_purulent       1.00      0.00      0.00      3654\n",
      "       muscle_cross_section       0.22      0.11      0.15    134952\n",
      "muscle_longitudinal_section       0.38      0.28      0.32    163233\n",
      "                      nerve       1.00      0.00      0.00      8604\n",
      "              normal_mucosa       0.38      0.43      0.40    214898\n",
      "\n",
      "                   accuracy                           0.59   1374498\n",
      "                  macro avg       0.50      0.38      0.28   1374498\n",
      "               weighted avg       0.67      0.59      0.62   1374498\n",
      "\n",
      "Jaccard score: \n",
      "Vector:  [0.84109469 0.         0.13925362 0.01500807 0.59692866 0.\n",
      " 0.07828719 0.19171436 0.         0.25232294]\n",
      "Weighted:  0.5098684745053466\n"
     ]
    }
   ],
   "source": [
    "from ml.eval import evaluate_segmentation_on_feit_annotation\n",
    "\n",
    "evaluation_path = Path('data/Feit_colon-annotation_valid/')\n",
    "\n",
    "segmentation_dir = Path('segmentations') / pipeline.params.name\n",
    "\n",
    "evaluate_segmentation_on_feit_annotation(evaluation_path, pipeline.build_segmenter(),\n",
    "                                         32, pipeline.params.class_names,\n",
    "                                         save_segmentations=True, segmentations_dir=segmentation_dir,\n",
    "                                         neighbourhood_size=5)"
   ],
   "metadata": {
    "collapsed": false,
    "pycharm": {
     "name": "#%%\n"
    }
   }
  },
  {
   "cell_type": "code",
   "execution_count": 19,
   "metadata": {
    "pycharm": {
     "name": "#%%\n"
    }
   },
   "outputs": [],
   "source": []
  },
  {
   "cell_type": "code",
   "execution_count": 19,
   "outputs": [],
   "source": [],
   "metadata": {
    "collapsed": false,
    "pycharm": {
     "name": "#%%\n"
    }
   }
  }
 ],
 "metadata": {
  "kernelspec": {
   "display_name": "Python 3 (ipykernel)",
   "language": "python",
   "name": "python3"
  },
  "language_info": {
   "codemirror_mode": {
    "name": "ipython",
    "version": 3
   },
   "file_extension": ".py",
   "mimetype": "text/x-python",
   "name": "python",
   "nbconvert_exporter": "python",
   "pygments_lexer": "ipython3",
   "version": "3.8.8"
  }
 },
 "nbformat": 4,
 "nbformat_minor": 1
}