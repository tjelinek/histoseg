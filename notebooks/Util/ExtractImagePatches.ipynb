{
 "cells": [
  {
   "cell_type": "code",
   "execution_count": 2,
   "outputs": [
    {
     "name": "stdout",
     "output_type": "stream",
     "text": [
      "/home/tomas/Projects/histoseg/data\n"
     ]
    }
   ],
   "source": [
    "from pathlib import Path\n",
    "import os\n",
    "\n",
    "destination_folder = Path('/home/tomas/Projects/histoseg/data/')\n",
    "\n",
    "os.chdir(destination_folder)\n",
    "\n",
    "print(os.getcwd())"
   ],
   "metadata": {
    "collapsed": false
   }
  },
  {
   "cell_type": "code",
   "execution_count": 3,
   "outputs": [
    {
     "name": "stdout",
     "output_type": "stream",
     "text": [
      "Processing Feit_colon-annotation/ns-adenoca-colon-14254-2019-20x-he-2/ns-adenoca-colon-14254-2019-20x-he-2.tiff, file 1 out of 9\n",
      "--Processing polygon 160 out of 160\n",
      "\n",
      "Processing Feit_colon-annotation/ns-adenoca-colon-14254-2019-20x-he-2/ns-adenoca-colon-14254-2019-20x-he-2_small.tiff, file 2 out of 9\n",
      "--Processing polygon 136 out of 136\n",
      "\n",
      "Processing Feit_colon-annotation/ns-adenoca-colon-15071-2019-20x-he-10/ns-adenoca-colon-15071-2019-20x-he-10.tiff, file 3 out of 9\n",
      "--Processing polygon 23 out of 128"
     ]
    },
    {
     "name": "stderr",
     "output_type": "stream",
     "text": [
      "\n",
      "KeyboardInterrupt\n",
      "\n"
     ]
    }
   ],
   "source": [
    "from util.data_manipulation_scripts import generate_dataset_from_annotated_slides\n",
    "\n",
    "annot_folder = Path('Feit_colon-annotation')\n",
    "tiles_destination = Path('Feit_colon-annotation_tiles-256')\n",
    "generate_dataset_from_annotated_slides(dataset_path_source = annot_folder, tiles_destination = tiles_destination,\n",
    "                                       tile_size = 256, scale = 0, neighborhood = 0, fraction = 1.0)"
   ],
   "metadata": {
    "collapsed": false
   }
  },
  {
   "cell_type": "markdown",
   "source": [
    "## Splitting patch data set\n",
    "\n",
    "The data set of extracted patches can be easily split into training, validation, (and possibly testing) data sets."
   ],
   "metadata": {
    "collapsed": false
   }
  },
  {
   "cell_type": "code",
   "execution_count": null,
   "outputs": [],
   "source": [
    "from util.data_manipulation_scripts import split_train_valid\n",
    "\n",
    "tiles_train = Path('/home/tomas/Projects/histoseg/data/Feit_colon-annotation_tiles-256-train')\n",
    "tiles_valid = Path('/home/tomas/Projects/histoseg/data/Feit_colon-annotation_tiles-256-valid')\n",
    "\n",
    "# Split size specifies the size of the training data set as a real number between 0 and 1.\n",
    "split_train_valid(source_dir = tiles_destination, data_train = tiles_train, data_valid = tiles_valid, split_size = 0.8)"
   ],
   "metadata": {
    "collapsed": false
   }
  },
  {
   "cell_type": "markdown",
   "source": [
    "## Pre-computing annotation map for segmentation validation data set\n",
    "\n",
    "For the validation and testing splits, you need to precompute the annotation map. It is recommended to use resolution of 32."
   ],
   "metadata": {
    "collapsed": false
   }
  },
  {
   "cell_type": "code",
   "execution_count": null,
   "outputs": [],
   "source": [
    "from util.data_manipulation_scripts import precompute_annotation_map\n",
    "\n",
    "data_validation = Path('/home/tomas/Projects/histoseg/data/Feit_colon-annotation_valid/ns-adenoca-colon-15071-2019-20x-he-4')\n",
    "# It is recommended to process all the images at once\n",
    "# data_validation = Path('/home/tomas/Projects/histoseg/data/Feit_colon-annotation_valid')\n",
    "\n",
    "precompute_annotation_map(data_validation, resolution = 32)"
   ],
   "metadata": {
    "collapsed": false
   }
  },
  {
   "cell_type": "markdown",
   "source": [],
   "metadata": {
    "collapsed": false
   }
  }
 ],
 "metadata": {
  "kernelspec": {
   "display_name": "Python 3",
   "language": "python",
   "name": "python3"
  },
  "language_info": {
   "codemirror_mode": {
    "name": "ipython",
    "version": 2
   },
   "file_extension": ".py",
   "mimetype": "text/x-python",
   "name": "python",
   "nbconvert_exporter": "python",
   "pygments_lexer": "ipython2",
   "version": "2.7.6"
  }
 },
 "nbformat": 4,
 "nbformat_minor": 0
}
