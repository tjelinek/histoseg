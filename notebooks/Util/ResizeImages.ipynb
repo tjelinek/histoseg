{
 "cells": [
  {
   "cell_type": "code",
   "execution_count": 8,
   "outputs": [
    {
     "name": "stdout",
     "output_type": "stream",
     "text": [
      "/home/tomas/Projects/histoseg/histoseg/notebooks/Util\n"
     ]
    }
   ],
   "source": [
    "from pathlib import Path\n",
    "import os\n",
    "\n",
    "print(os.getcwd())\n",
    "destination_folder = Path('/home/tomas/Projects/histoseg/data/Feit_colon-annotation')\n",
    "\n",
    "os.chdir(destination_folder)"
   ],
   "metadata": {
    "collapsed": false
   }
  },
  {
   "cell_type": "markdown",
   "source": [
    "## Down-sampling the images\n"
   ],
   "metadata": {
    "collapsed": false
   }
  },
  {
   "cell_type": "code",
   "execution_count": 25,
   "outputs": [
    {
     "name": "stdout",
     "output_type": "stream",
     "text": [
      "/home/tomas/Projects/histoseg/data/Feit_colon-annotation/ns-adenoca-colon-2958-2019-20x-he-4/ns-adenoca-colon-2958-2019-20x-he-4_small.tiff\n",
      "/home/tomas/Projects/histoseg/data/Feit_colon-annotation/ns-adenoca-colon-1708-2019-20x-he-2/ns-adenoca-colon-1708-2019-20x-he-2_small.tiff\n",
      "/home/tomas/Projects/histoseg/data/Feit_colon-annotation/ns-adenoca-colon-15071-2019-20x-he-10/ns-adenoca-colon-15071-2019-20x-he-10_small.tiff\n",
      "/home/tomas/Projects/histoseg/data/Feit_colon-annotation/ns-adenoca-colon-15071-2019-20x-he-6/ns-adenoca-colon-15071-2019-20x-he-6_small.tiff\n",
      "/home/tomas/Projects/histoseg/data/Feit_colon-annotation/ns-adenoca-colon-3043-2019-20x-he-a2/ns-adenoca-colon-3043-2019-20x-he-a2_small.tiff\n",
      "/home/tomas/Projects/histoseg/data/Feit_colon-annotation/ns-adenoca-colon-15072-2019-20x-he-a3/ns-adenoca-colon-15072-2019-20x-he-a3_small.tiff\n",
      "/home/tomas/Projects/histoseg/data/Feit_colon-annotation/ns-adenoca-colon-lupos-15071-2019-20x-he-14/ns-adenoca-colon-lupos-15071-2019-20x-he-14_small.tiff\n",
      "/home/tomas/Projects/histoseg/data/Feit_colon-annotation/ns-adenoca-colon-14254-2019-20x-he-2/ns-adenoca-colon-14254-2019-20x-he-2_small.tiff\n",
      "/home/tomas/Projects/histoseg/data/Feit_colon-annotation/ns-adenoca-colon-3043-2019-20x-he-a4/ns-adenoca-colon-3043-2019-20x-he-a4_small.tiff\n"
     ]
    }
   ],
   "source": [
    "import pyvips\n",
    "\n",
    "FACTOR = 2\n",
    "\n",
    "tiff_paths = Path(os.getcwd()).rglob('*.tiff')\n",
    "\n",
    "for tiff_path in tiff_paths:\n",
    "    image_name = tiff_path.stem\n",
    "    new_name = Path(str(image_name) + '_small.tiff')\n",
    "    new_path = tiff_path.parent / new_name\n",
    "\n",
    "    print(new_path)\n",
    "    image = pyvips.Image.tiffload(str(tiff_path), page=FACTOR)\n",
    "    image.tiffsave(str(new_path), bigtiff=True)\n"
   ],
   "metadata": {
    "collapsed": false
   }
  }
 ],
 "metadata": {
  "kernelspec": {
   "display_name": "Python 3",
   "language": "python",
   "name": "python3"
  },
  "language_info": {
   "codemirror_mode": {
    "name": "ipython",
    "version": 2
   },
   "file_extension": ".py",
   "mimetype": "text/x-python",
   "name": "python",
   "nbconvert_exporter": "python",
   "pygments_lexer": "ipython2",
   "version": "2.7.6"
  }
 },
 "nbformat": 4,
 "nbformat_minor": 0
}
