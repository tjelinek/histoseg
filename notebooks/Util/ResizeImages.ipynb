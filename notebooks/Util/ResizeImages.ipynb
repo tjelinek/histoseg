{
 "cells": [
  {
   "cell_type": "code",
   "execution_count": 8,
   "outputs": [
    {
     "name": "stdout",
     "output_type": "stream",
     "text": [
      "/home/tomas/Projects/histoseg/histoseg/notebooks/Util\n"
     ]
    }
   ],
   "source": [
    "from pathlib import Path\n",
    "import os\n",
    "\n",
    "print(os.getcwd())\n",
    "destination_folder = Path('/home/tomas/Projects/histoseg/data/Feit_colon-annotation')\n",
    "\n",
    "os.chdir(destination_folder)"
   ],
   "metadata": {
    "collapsed": false
   }
  },
  {
   "cell_type": "markdown",
   "source": [
    "## Down-sampling the images\n"
   ],
   "metadata": {
    "collapsed": false
   }
  },
  {
   "cell_type": "code",
   "execution_count": 25,
   "outputs": [
    {
     "name": "stdout",
     "output_type": "stream",
     "text": [
      "/home/tomas/Projects/histoseg/data/Feit_colon-annotation/ns-adenoca-colon-2958-2019-20x-he-4/ns-adenoca-colon-2958-2019-20x-he-4_small.tiff\n",
      "/home/tomas/Projects/histoseg/data/Feit_colon-annotation/ns-adenoca-colon-1708-2019-20x-he-2/ns-adenoca-colon-1708-2019-20x-he-2_small.tiff\n",
      "/home/tomas/Projects/histoseg/data/Feit_colon-annotation/ns-adenoca-colon-15071-2019-20x-he-10/ns-adenoca-colon-15071-2019-20x-he-10_small.tiff\n",
      "/home/tomas/Projects/histoseg/data/Feit_colon-annotation/ns-adenoca-colon-15071-2019-20x-he-6/ns-adenoca-colon-15071-2019-20x-he-6_small.tiff\n",
      "/home/tomas/Projects/histoseg/data/Feit_colon-annotation/ns-adenoca-colon-3043-2019-20x-he-a2/ns-adenoca-colon-3043-2019-20x-he-a2_small.tiff\n",
      "/home/tomas/Projects/histoseg/data/Feit_colon-annotation/ns-adenoca-colon-15072-2019-20x-he-a3/ns-adenoca-colon-15072-2019-20x-he-a3_small.tiff\n",
      "/home/tomas/Projects/histoseg/data/Feit_colon-annotation/ns-adenoca-colon-lupos-15071-2019-20x-he-14/ns-adenoca-colon-lupos-15071-2019-20x-he-14_small.tiff\n",
      "/home/tomas/Projects/histoseg/data/Feit_colon-annotation/ns-adenoca-colon-14254-2019-20x-he-2/ns-adenoca-colon-14254-2019-20x-he-2_small.tiff\n",
      "/home/tomas/Projects/histoseg/data/Feit_colon-annotation/ns-adenoca-colon-3043-2019-20x-he-a4/ns-adenoca-colon-3043-2019-20x-he-a4_small.tiff\n"
     ]
    }
   ],
   "source": [
    "import pyvips\n",
    "\n",
    "FACTOR = 2\n",
    "\n",
    "tiff_paths = Path(os.getcwd()).rglob('*.tiff')\n",
    "\n",
    "for tiff_path in tiff_paths:\n",
    "    image_name = tiff_path.stem\n",
    "    new_name = Path(str(image_name) + '_small.tiff')\n",
    "    new_path = tiff_path.parent / new_name\n",
    "\n",
    "    print(new_path)\n",
    "    image = pyvips.Image.tiffload(str(tiff_path), page=FACTOR)\n",
    "    image.tiffsave(str(new_path), bigtiff=True)\n"
   ],
   "metadata": {
    "collapsed": false
   }
  },
  {
   "cell_type": "markdown",
   "source": [
    "## Extracting image patches\n",
    "\n",
    "Next, we can extract image patches from these annotations. This is done by function *generate_dataset_from_annotated_slides*.\n",
    "The basic parameters are path to the data set *data_path_source*, *destination_folder* to save the tiles and *tile_size* (I recommend 256).\n",
    "\n",
    "If you want to down-sample the image, you can set the *scale* to an integer > 0. Parameter *neighbourhood* is an integer, which specify the amount\n",
    "of neighborhood patches of size tile_size^2 that will be extracted. The neighbours do not belong to the same class.\n",
    "Variable *fraction* specifies the fraction of the tiles that will be saved (useful for large data sets)."
   ],
   "metadata": {
    "collapsed": false
   }
  },
  {
   "cell_type": "code",
   "execution_count": null,
   "outputs": [],
   "source": [
    "from util.data_manipulation_scripts import generate_dataset_from_annotated_slides\n",
    "\n",
    "tiles_destination = Path('/home/tomas/Projects/histoseg/data/Feit_colon-annotation_tiles-256')\n",
    "generate_dataset_from_annotated_slides(dataset_path_source = destination_folder, tiles_destination = tiles_destination,\n",
    "                                       tile_size = 256, scale = 0, neighborhood = 0, fraction = 1.0)"
   ],
   "metadata": {
    "collapsed": false
   }
  },
  {
   "cell_type": "markdown",
   "source": [
    "## Splitting patch data set\n",
    "\n",
    "The data set of extracted patches can be easily split into training, validation, (and possibly testing) data sets."
   ],
   "metadata": {
    "collapsed": false
   }
  },
  {
   "cell_type": "code",
   "execution_count": null,
   "outputs": [],
   "source": [
    "from util.data_manipulation_scripts import split_train_valid\n",
    "\n",
    "tiles_train = Path('/home/tomas/Projects/histoseg/data/Feit_colon-annotation_tiles-256-train')\n",
    "tiles_valid = Path('/home/tomas/Projects/histoseg/data/Feit_colon-annotation_tiles-256-valid')\n",
    "\n",
    "# Split size specifies the size of the training data set as a real number between 0 and 1.\n",
    "split_train_valid(source_dir = tiles_destination, data_train = tiles_train, data_valid = tiles_valid, split_size = 0.8)"
   ],
   "metadata": {
    "collapsed": false
   }
  },
  {
   "cell_type": "markdown",
   "source": [
    "## Pre-computing annotation map for segmentation validation data set\n",
    "\n",
    "For the validation and testing splits, you need to precompute the annotation map. It is recommended to use resolution of 32."
   ],
   "metadata": {
    "collapsed": false
   }
  },
  {
   "cell_type": "code",
   "execution_count": null,
   "outputs": [],
   "source": [
    "from util.data_manipulation_scripts import precompute_annotation_map\n",
    "\n",
    "data_validation = Path('/home/tomas/Projects/histoseg/data/Feit_colon-annotation_valid/ns-adenoca-colon-15071-2019-20x-he-4')\n",
    "# It is recommended to process all the images at once\n",
    "# data_validation = Path('/home/tomas/Projects/histoseg/data/Feit_colon-annotation_valid')\n",
    "\n",
    "precompute_annotation_map(data_validation, resolution = 32)"
   ],
   "metadata": {
    "collapsed": false
   }
  },
  {
   "cell_type": "markdown",
   "source": [],
   "metadata": {
    "collapsed": false
   }
  }
 ],
 "metadata": {
  "kernelspec": {
   "display_name": "Python 3",
   "language": "python",
   "name": "python3"
  },
  "language_info": {
   "codemirror_mode": {
    "name": "ipython",
    "version": 2
   },
   "file_extension": ".py",
   "mimetype": "text/x-python",
   "name": "python",
   "nbconvert_exporter": "python",
   "pygments_lexer": "ipython2",
   "version": "2.7.6"
  }
 },
 "nbformat": 4,
 "nbformat_minor": 0
}
